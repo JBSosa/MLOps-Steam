{
 "cells": [
  {
   "cell_type": "markdown",
   "metadata": {},
   "source": [
    "uvicorn main:app --reload"
   ]
  },
  {
   "cell_type": "markdown",
   "metadata": {},
   "source": [
    "ETL"
   ]
  },
  {
   "cell_type": "code",
   "execution_count": 16,
   "metadata": {},
   "outputs": [],
   "source": [
    "import pandas as pd\n",
    "import json\n",
    "import patoolib\n",
    "import ast"
   ]
  },
  {
   "cell_type": "code",
   "execution_count": 19,
   "metadata": {},
   "outputs": [
    {
     "name": "stderr",
     "output_type": "stream",
     "text": [
      "INFO patool: Extracting steamGames.rar ...\n",
      "INFO patool: running \"C:\\Program Files\\WinRAR\\rar.EXE\" x -- c:\\Users\\Admin\\Code\\MLOps-Steam\\steamGames.rar\n",
      "INFO patool:     with cwd=.\\Unpack_vkfdj_a8, creationflags=134217728, input=\n",
      "INFO patool: ... steamGames.rar extracted to `steamGames.csv'.\n"
     ]
    },
    {
     "data": {
      "text/plain": [
       "'steamGames.csv'"
      ]
     },
     "execution_count": 19,
     "metadata": {},
     "output_type": "execute_result"
    }
   ],
   "source": [
    "patoolib.extract_archive('steamGames.rar')\n",
    "patoolib.extract_archive('steamGamesDev.rar')\n",
    "patoolib.extract_archive('steamGamesGenres.rar')\n",
    "patoolib.extract_archive('userItemCount.rar')\n",
    "patoolib.extract_archive('userItems.rar')\n",
    "patoolib.extract_archive('userReviews.rar')\n",
    "patoolib.extract_archive('userReviewsExploded.rar')\n",
    "patoolib.extract_archive('userItemsExploded.rar')\n",
    "patoolib.extract_archive('steamGamesPrice.rar')"
   ]
  },
  {
   "cell_type": "markdown",
   "metadata": {},
   "source": [
    "userItemsData=pd.read_csv('userItems.csv')\n",
    "userItemCountData=pd.read_csv('userItemCount.csv')\n",
    "userItemsExplodedData=pd.read_csv('userItemsExploded.csv')\n",
    "steamGamesData=pd.read_csv('steamGames.csv',low_memory=False)\n",
    "steamGamesPriceData=pd.read_csv('steamGamesPrice.csv')\n",
    "userReviewsExplodedData=pd.read_csv('userReviewsExploded.csv')\n",
    "userItemsDf=pd.DataFrame(userItemsData)\n",
    "userItemCountDf=pd.DataFrame(userItemCountData)\n",
    "userItemsExplodedDf=pd.DataFrame(userItemsExplodedData)\n",
    "steamGamesDf=pd.DataFrame(steamGamesData)\n",
    "steamGamesPriceDf=pd.DataFrame(steamGamesPriceData)\n",
    "userReviewsExplodedDf=pd.DataFrame(userReviewsExplodedData)"
   ]
  },
  {
   "cell_type": "markdown",
   "metadata": {},
   "source": [
    "Steam Games"
   ]
  },
  {
   "cell_type": "code",
   "execution_count": 4,
   "metadata": {},
   "outputs": [],
   "source": [
    "with open('output_steam_games.json', 'r') as file:\n",
    "  lines = file.readlines()\n",
    "\n",
    "steamGamesData = [json.loads(line) for line in lines]\n",
    "\n",
    "steamGames = pd.json_normalize(steamGamesData)\n",
    "\n",
    "steamGamesDf=pd.DataFrame(steamGames)"
   ]
  },
  {
   "cell_type": "code",
   "execution_count": 5,
   "metadata": {},
   "outputs": [],
   "source": [
    "steamGamesDf['release_date']=pd.to_datetime(steamGamesDf['release_date'],format='mixed',errors='coerce')\n",
    "steamGamesDf['release_year'] = steamGamesDf['release_date'].dt.year.fillna(0).astype(int)"
   ]
  },
  {
   "cell_type": "code",
   "execution_count": 6,
   "metadata": {},
   "outputs": [],
   "source": [
    "steamGamesDf.rename(columns={'id': 'item_id'}, inplace=True)"
   ]
  },
  {
   "cell_type": "code",
   "execution_count": 7,
   "metadata": {},
   "outputs": [],
   "source": [
    "steamGamesDf.to_csv('steamGames.csv',index=False)"
   ]
  },
  {
   "cell_type": "code",
   "execution_count": 8,
   "metadata": {},
   "outputs": [],
   "source": [
    "steamGamesPriceDf=steamGamesDf[['item_id','price']]\n",
    "steamGamesPriceDf.to_csv('steamGamesPrice.csv',index=False)"
   ]
  },
  {
   "cell_type": "code",
   "execution_count": 9,
   "metadata": {},
   "outputs": [],
   "source": [
    "steamGamesGenresDf=steamGamesDf[['item_id','genres','release_year']]\n",
    "steamGamesGenresDf=steamGamesGenresDf.dropna(subset='genres')\n",
    "steamGamesGenresDf.to_csv('steamGamesGenres.csv',index=False)"
   ]
  },
  {
   "cell_type": "code",
   "execution_count": 18,
   "metadata": {},
   "outputs": [],
   "source": [
    "steamGamesDevDf=steamGamesDf[['item_id','developer','release_year']]\n",
    "steamGamesDevDf=steamGamesDevDf.dropna(subset='developer')"
   ]
  },
  {
   "cell_type": "code",
   "execution_count": 19,
   "metadata": {},
   "outputs": [],
   "source": [
    "steamGamesDevDf.to_csv('steamGamesDev.csv',index=False)"
   ]
  },
  {
   "cell_type": "markdown",
   "metadata": {},
   "source": [
    "User Items"
   ]
  },
  {
   "cell_type": "code",
   "execution_count": 6,
   "metadata": {},
   "outputs": [],
   "source": [
    "#Ruta del archivo JSON\n",
    "data_list = []\n",
    "file_path = 'australian_users_items.json'\n",
    "\n",
    "#Abrir el archivo y procesar cada línea\n",
    "with open(file_path, 'r', encoding='utf-8') as file:\n",
    "    for line in file:\n",
    "        try:\n",
    "            # Usar ast.literal_eval para convertir la línea en un diccionario\n",
    "            json_data = ast.literal_eval(line)\n",
    "            data_list.append(json_data)\n",
    "        except ValueError as e:\n",
    "            print(f\"Error en la línea: {line}\")\n",
    "            continue\n",
    "\n",
    "#Crear un DataFrame a partir de la lista de diccionarios\n",
    "userItemsDf = pd.DataFrame(data_list)"
   ]
  },
  {
   "cell_type": "code",
   "execution_count": 7,
   "metadata": {},
   "outputs": [],
   "source": [
    "userItemCount={'user_id': [], 'items_count': []}\n",
    "userItemCountDf=pd.DataFrame(userItemCount)\n",
    "userItemCountDf['user_id']=userItemsDf['user_id']\n",
    "userItemCountDf['items_count']=userItemsDf['items_count']"
   ]
  },
  {
   "cell_type": "code",
   "execution_count": 8,
   "metadata": {},
   "outputs": [],
   "source": [
    "del userItemsDf['items_count']\n",
    "del userItemsDf['user_url']"
   ]
  },
  {
   "cell_type": "code",
   "execution_count": 9,
   "metadata": {},
   "outputs": [],
   "source": [
    "userItemsExplodedDf=userItemsDf.explode('items').reset_index(drop=True)"
   ]
  },
  {
   "cell_type": "code",
   "execution_count": 10,
   "metadata": {},
   "outputs": [],
   "source": [
    "userItemsExplodedDf['item_id']=userItemsExplodedDf['items'].apply(lambda x: x.get('item_id') if isinstance(x, dict) and 'item_id' in x else None)\n",
    "userItemsExplodedDf['playtime']=userItemsExplodedDf['items'].apply(lambda x: x.get('playtime_forever') if isinstance(x, dict) and 'playtime_forever' in x else None)"
   ]
  },
  {
   "cell_type": "code",
   "execution_count": 12,
   "metadata": {},
   "outputs": [],
   "source": [
    "del userItemsExplodedDf['steam_id']\n",
    "del userItemsExplodedDf['items']"
   ]
  },
  {
   "cell_type": "code",
   "execution_count": 41,
   "metadata": {},
   "outputs": [],
   "source": [
    "userItemsExplodedDf.to_csv('userItemsExploded.csv',index=False)\n",
    "userItemsDf.to_csv('userItems.csv',index=False)\n",
    "userItemCountDf.to_csv('userItemCount.csv',index=False)"
   ]
  },
  {
   "cell_type": "code",
   "execution_count": 14,
   "metadata": {},
   "outputs": [
    {
     "data": {
      "text/html": [
       "<div>\n",
       "<style scoped>\n",
       "    .dataframe tbody tr th:only-of-type {\n",
       "        vertical-align: middle;\n",
       "    }\n",
       "\n",
       "    .dataframe tbody tr th {\n",
       "        vertical-align: top;\n",
       "    }\n",
       "\n",
       "    .dataframe thead th {\n",
       "        text-align: right;\n",
       "    }\n",
       "</style>\n",
       "<table border=\"1\" class=\"dataframe\">\n",
       "  <thead>\n",
       "    <tr style=\"text-align: right;\">\n",
       "      <th></th>\n",
       "      <th>user_id</th>\n",
       "      <th>steam_id</th>\n",
       "      <th>items</th>\n",
       "    </tr>\n",
       "  </thead>\n",
       "  <tbody>\n",
       "    <tr>\n",
       "      <th>0</th>\n",
       "      <td>76561197970982479</td>\n",
       "      <td>76561197970982479</td>\n",
       "      <td>[{'item_id': '10', 'item_name': 'Counter-Strik...</td>\n",
       "    </tr>\n",
       "    <tr>\n",
       "      <th>1</th>\n",
       "      <td>js41637</td>\n",
       "      <td>76561198035864385</td>\n",
       "      <td>[{'item_id': '10', 'item_name': 'Counter-Strik...</td>\n",
       "    </tr>\n",
       "    <tr>\n",
       "      <th>2</th>\n",
       "      <td>evcentric</td>\n",
       "      <td>76561198007712555</td>\n",
       "      <td>[{'item_id': '1200', 'item_name': 'Red Orchest...</td>\n",
       "    </tr>\n",
       "    <tr>\n",
       "      <th>3</th>\n",
       "      <td>Riot-Punch</td>\n",
       "      <td>76561197963445855</td>\n",
       "      <td>[{'item_id': '10', 'item_name': 'Counter-Strik...</td>\n",
       "    </tr>\n",
       "    <tr>\n",
       "      <th>4</th>\n",
       "      <td>doctr</td>\n",
       "      <td>76561198002099482</td>\n",
       "      <td>[{'item_id': '300', 'item_name': 'Day of Defea...</td>\n",
       "    </tr>\n",
       "    <tr>\n",
       "      <th>...</th>\n",
       "      <td>...</td>\n",
       "      <td>...</td>\n",
       "      <td>...</td>\n",
       "    </tr>\n",
       "    <tr>\n",
       "      <th>88305</th>\n",
       "      <td>76561198323066619</td>\n",
       "      <td>76561198323066619</td>\n",
       "      <td>[{'item_id': '413850', 'item_name': 'CS:GO Pla...</td>\n",
       "    </tr>\n",
       "    <tr>\n",
       "      <th>88306</th>\n",
       "      <td>76561198326700687</td>\n",
       "      <td>76561198326700687</td>\n",
       "      <td>[{'item_id': '11020', 'item_name': 'TrackMania...</td>\n",
       "    </tr>\n",
       "    <tr>\n",
       "      <th>88307</th>\n",
       "      <td>XxLaughingJackClown77xX</td>\n",
       "      <td>76561198328759259</td>\n",
       "      <td>[]</td>\n",
       "    </tr>\n",
       "    <tr>\n",
       "      <th>88308</th>\n",
       "      <td>76561198329548331</td>\n",
       "      <td>76561198329548331</td>\n",
       "      <td>[{'item_id': '304930', 'item_name': 'Unturned'...</td>\n",
       "    </tr>\n",
       "    <tr>\n",
       "      <th>88309</th>\n",
       "      <td>edward_tremethick</td>\n",
       "      <td>76561198331598578</td>\n",
       "      <td>[]</td>\n",
       "    </tr>\n",
       "  </tbody>\n",
       "</table>\n",
       "<p>88310 rows × 3 columns</p>\n",
       "</div>"
      ],
      "text/plain": [
       "                       user_id           steam_id  \\\n",
       "0            76561197970982479  76561197970982479   \n",
       "1                      js41637  76561198035864385   \n",
       "2                    evcentric  76561198007712555   \n",
       "3                   Riot-Punch  76561197963445855   \n",
       "4                        doctr  76561198002099482   \n",
       "...                        ...                ...   \n",
       "88305        76561198323066619  76561198323066619   \n",
       "88306        76561198326700687  76561198326700687   \n",
       "88307  XxLaughingJackClown77xX  76561198328759259   \n",
       "88308        76561198329548331  76561198329548331   \n",
       "88309        edward_tremethick  76561198331598578   \n",
       "\n",
       "                                                   items  \n",
       "0      [{'item_id': '10', 'item_name': 'Counter-Strik...  \n",
       "1      [{'item_id': '10', 'item_name': 'Counter-Strik...  \n",
       "2      [{'item_id': '1200', 'item_name': 'Red Orchest...  \n",
       "3      [{'item_id': '10', 'item_name': 'Counter-Strik...  \n",
       "4      [{'item_id': '300', 'item_name': 'Day of Defea...  \n",
       "...                                                  ...  \n",
       "88305  [{'item_id': '413850', 'item_name': 'CS:GO Pla...  \n",
       "88306  [{'item_id': '11020', 'item_name': 'TrackMania...  \n",
       "88307                                                 []  \n",
       "88308  [{'item_id': '304930', 'item_name': 'Unturned'...  \n",
       "88309                                                 []  \n",
       "\n",
       "[88310 rows x 3 columns]"
      ]
     },
     "execution_count": 14,
     "metadata": {},
     "output_type": "execute_result"
    }
   ],
   "source": [
    "userItemsDf"
   ]
  },
  {
   "cell_type": "code",
   "execution_count": 16,
   "metadata": {},
   "outputs": [
    {
     "data": {
      "text/html": [
       "<div>\n",
       "<style scoped>\n",
       "    .dataframe tbody tr th:only-of-type {\n",
       "        vertical-align: middle;\n",
       "    }\n",
       "\n",
       "    .dataframe tbody tr th {\n",
       "        vertical-align: top;\n",
       "    }\n",
       "\n",
       "    .dataframe thead th {\n",
       "        text-align: right;\n",
       "    }\n",
       "</style>\n",
       "<table border=\"1\" class=\"dataframe\">\n",
       "  <thead>\n",
       "    <tr style=\"text-align: right;\">\n",
       "      <th></th>\n",
       "      <th>user_id</th>\n",
       "      <th>items_count</th>\n",
       "    </tr>\n",
       "  </thead>\n",
       "  <tbody>\n",
       "    <tr>\n",
       "      <th>0</th>\n",
       "      <td>76561197970982479</td>\n",
       "      <td>277</td>\n",
       "    </tr>\n",
       "    <tr>\n",
       "      <th>1</th>\n",
       "      <td>js41637</td>\n",
       "      <td>888</td>\n",
       "    </tr>\n",
       "    <tr>\n",
       "      <th>2</th>\n",
       "      <td>evcentric</td>\n",
       "      <td>137</td>\n",
       "    </tr>\n",
       "    <tr>\n",
       "      <th>3</th>\n",
       "      <td>Riot-Punch</td>\n",
       "      <td>328</td>\n",
       "    </tr>\n",
       "    <tr>\n",
       "      <th>4</th>\n",
       "      <td>doctr</td>\n",
       "      <td>541</td>\n",
       "    </tr>\n",
       "    <tr>\n",
       "      <th>...</th>\n",
       "      <td>...</td>\n",
       "      <td>...</td>\n",
       "    </tr>\n",
       "    <tr>\n",
       "      <th>88305</th>\n",
       "      <td>76561198323066619</td>\n",
       "      <td>22</td>\n",
       "    </tr>\n",
       "    <tr>\n",
       "      <th>88306</th>\n",
       "      <td>76561198326700687</td>\n",
       "      <td>177</td>\n",
       "    </tr>\n",
       "    <tr>\n",
       "      <th>88307</th>\n",
       "      <td>XxLaughingJackClown77xX</td>\n",
       "      <td>0</td>\n",
       "    </tr>\n",
       "    <tr>\n",
       "      <th>88308</th>\n",
       "      <td>76561198329548331</td>\n",
       "      <td>7</td>\n",
       "    </tr>\n",
       "    <tr>\n",
       "      <th>88309</th>\n",
       "      <td>edward_tremethick</td>\n",
       "      <td>0</td>\n",
       "    </tr>\n",
       "  </tbody>\n",
       "</table>\n",
       "<p>88310 rows × 2 columns</p>\n",
       "</div>"
      ],
      "text/plain": [
       "                       user_id  items_count\n",
       "0            76561197970982479          277\n",
       "1                      js41637          888\n",
       "2                    evcentric          137\n",
       "3                   Riot-Punch          328\n",
       "4                        doctr          541\n",
       "...                        ...          ...\n",
       "88305        76561198323066619           22\n",
       "88306        76561198326700687          177\n",
       "88307  XxLaughingJackClown77xX            0\n",
       "88308        76561198329548331            7\n",
       "88309        edward_tremethick            0\n",
       "\n",
       "[88310 rows x 2 columns]"
      ]
     },
     "execution_count": 16,
     "metadata": {},
     "output_type": "execute_result"
    }
   ],
   "source": [
    "userItemCountDf"
   ]
  },
  {
   "cell_type": "code",
   "execution_count": 36,
   "metadata": {},
   "outputs": [
    {
     "data": {
      "text/html": [
       "<div>\n",
       "<style scoped>\n",
       "    .dataframe tbody tr th:only-of-type {\n",
       "        vertical-align: middle;\n",
       "    }\n",
       "\n",
       "    .dataframe tbody tr th {\n",
       "        vertical-align: top;\n",
       "    }\n",
       "\n",
       "    .dataframe thead th {\n",
       "        text-align: right;\n",
       "    }\n",
       "</style>\n",
       "<table border=\"1\" class=\"dataframe\">\n",
       "  <thead>\n",
       "    <tr style=\"text-align: right;\">\n",
       "      <th></th>\n",
       "      <th>item_id</th>\n",
       "      <th>genres</th>\n",
       "    </tr>\n",
       "  </thead>\n",
       "  <tbody>\n",
       "    <tr>\n",
       "      <th>0</th>\n",
       "      <td>NaN</td>\n",
       "      <td>NaN</td>\n",
       "    </tr>\n",
       "    <tr>\n",
       "      <th>1</th>\n",
       "      <td>NaN</td>\n",
       "      <td>NaN</td>\n",
       "    </tr>\n",
       "    <tr>\n",
       "      <th>2</th>\n",
       "      <td>NaN</td>\n",
       "      <td>NaN</td>\n",
       "    </tr>\n",
       "    <tr>\n",
       "      <th>3</th>\n",
       "      <td>NaN</td>\n",
       "      <td>NaN</td>\n",
       "    </tr>\n",
       "    <tr>\n",
       "      <th>4</th>\n",
       "      <td>NaN</td>\n",
       "      <td>NaN</td>\n",
       "    </tr>\n",
       "    <tr>\n",
       "      <th>...</th>\n",
       "      <td>...</td>\n",
       "      <td>...</td>\n",
       "    </tr>\n",
       "    <tr>\n",
       "      <th>120440</th>\n",
       "      <td>773640</td>\n",
       "      <td>[Casual, Indie, Simulation, Strategy]</td>\n",
       "    </tr>\n",
       "    <tr>\n",
       "      <th>120441</th>\n",
       "      <td>733530</td>\n",
       "      <td>[Casual, Indie, Strategy]</td>\n",
       "    </tr>\n",
       "    <tr>\n",
       "      <th>120442</th>\n",
       "      <td>610660</td>\n",
       "      <td>[Indie, Racing, Simulation]</td>\n",
       "    </tr>\n",
       "    <tr>\n",
       "      <th>120443</th>\n",
       "      <td>658870</td>\n",
       "      <td>[Casual, Indie]</td>\n",
       "    </tr>\n",
       "    <tr>\n",
       "      <th>120444</th>\n",
       "      <td>681550</td>\n",
       "      <td>NaN</td>\n",
       "    </tr>\n",
       "  </tbody>\n",
       "</table>\n",
       "<p>120445 rows × 2 columns</p>\n",
       "</div>"
      ],
      "text/plain": [
       "       item_id                                 genres\n",
       "0          NaN                                    NaN\n",
       "1          NaN                                    NaN\n",
       "2          NaN                                    NaN\n",
       "3          NaN                                    NaN\n",
       "4          NaN                                    NaN\n",
       "...        ...                                    ...\n",
       "120440  773640  [Casual, Indie, Simulation, Strategy]\n",
       "120441  733530              [Casual, Indie, Strategy]\n",
       "120442  610660            [Indie, Racing, Simulation]\n",
       "120443  658870                        [Casual, Indie]\n",
       "120444  681550                                    NaN\n",
       "\n",
       "[120445 rows x 2 columns]"
      ]
     },
     "execution_count": 36,
     "metadata": {},
     "output_type": "execute_result"
    }
   ],
   "source": [
    "steamGamesGenresDf"
   ]
  },
  {
   "cell_type": "markdown",
   "metadata": {},
   "source": [
    "Def Developer"
   ]
  },
  {
   "cell_type": "code",
   "execution_count": 18,
   "metadata": {},
   "outputs": [],
   "source": [
    "def developer(dev):\n",
    "  steamGamesData=pd.read_csv('steamGames.csv',low_memory=False)\n",
    "  steamGamesDf=pd.DataFrame(steamGamesData)\n",
    "  filteredDf=steamGamesDf[steamGamesDf['developer']==dev]\n",
    "  totalApps=filteredDf.groupby('release_year').size().reset_index(name='Cantidad de Items')\n",
    "  filteredDf=filteredDf.dropna(subset=['price'])\n",
    "  freeApps=filteredDf[filteredDf['price'].str.lower().str.contains('free')].groupby('release_year').size().reset_index(name='free_items')\n",
    "  result = pd.merge(totalApps, freeApps, on='release_year', how='left').fillna(0)\n",
    "  result.rename(columns={'release_year': 'Año'}, inplace=True)\n",
    "  result['Contenido Free'] = ((result['free_items'] / result['Cantidad de Items']) * 100).round(2).astype(str) + '%'\n",
    "  result=result[['Año','Cantidad de Items','Contenido Free']].reset_index(drop=True)\n",
    "  return result"
   ]
  },
  {
   "cell_type": "code",
   "execution_count": 19,
   "metadata": {},
   "outputs": [
    {
     "data": {
      "text/html": [
       "<div>\n",
       "<style scoped>\n",
       "    .dataframe tbody tr th:only-of-type {\n",
       "        vertical-align: middle;\n",
       "    }\n",
       "\n",
       "    .dataframe tbody tr th {\n",
       "        vertical-align: top;\n",
       "    }\n",
       "\n",
       "    .dataframe thead th {\n",
       "        text-align: right;\n",
       "    }\n",
       "</style>\n",
       "<table border=\"1\" class=\"dataframe\">\n",
       "  <thead>\n",
       "    <tr style=\"text-align: right;\">\n",
       "      <th></th>\n",
       "      <th>Año</th>\n",
       "      <th>Cantidad de Items</th>\n",
       "      <th>Contenido Free</th>\n",
       "    </tr>\n",
       "  </thead>\n",
       "  <tbody>\n",
       "    <tr>\n",
       "      <th>0</th>\n",
       "      <td>2012</td>\n",
       "      <td>1</td>\n",
       "      <td>0.0%</td>\n",
       "    </tr>\n",
       "    <tr>\n",
       "      <th>1</th>\n",
       "      <td>2014</td>\n",
       "      <td>3</td>\n",
       "      <td>0.0%</td>\n",
       "    </tr>\n",
       "    <tr>\n",
       "      <th>2</th>\n",
       "      <td>2015</td>\n",
       "      <td>9</td>\n",
       "      <td>22.22%</td>\n",
       "    </tr>\n",
       "    <tr>\n",
       "      <th>3</th>\n",
       "      <td>2016</td>\n",
       "      <td>2</td>\n",
       "      <td>0.0%</td>\n",
       "    </tr>\n",
       "    <tr>\n",
       "      <th>4</th>\n",
       "      <td>2017</td>\n",
       "      <td>8</td>\n",
       "      <td>87.5%</td>\n",
       "    </tr>\n",
       "  </tbody>\n",
       "</table>\n",
       "</div>"
      ],
      "text/plain": [
       "    Año  Cantidad de Items Contenido Free\n",
       "0  2012                  1           0.0%\n",
       "1  2014                  3           0.0%\n",
       "2  2015                  9         22.22%\n",
       "3  2016                  2           0.0%\n",
       "4  2017                  8          87.5%"
      ]
     },
     "execution_count": 19,
     "metadata": {},
     "output_type": "execute_result"
    }
   ],
   "source": [
    "developer('AMPLITUDE Studios')"
   ]
  },
  {
   "cell_type": "markdown",
   "metadata": {},
   "source": [
    "Def Userdata"
   ]
  },
  {
   "cell_type": "code",
   "execution_count": 30,
   "metadata": {},
   "outputs": [
    {
     "data": {
      "text/html": [
       "<div>\n",
       "<style scoped>\n",
       "    .dataframe tbody tr th:only-of-type {\n",
       "        vertical-align: middle;\n",
       "    }\n",
       "\n",
       "    .dataframe tbody tr th {\n",
       "        vertical-align: top;\n",
       "    }\n",
       "\n",
       "    .dataframe thead th {\n",
       "        text-align: right;\n",
       "    }\n",
       "</style>\n",
       "<table border=\"1\" class=\"dataframe\">\n",
       "  <thead>\n",
       "    <tr style=\"text-align: right;\">\n",
       "      <th></th>\n",
       "      <th>Usuario</th>\n",
       "      <th>Dinero Gastado</th>\n",
       "      <th>% de recomendación</th>\n",
       "      <th>Cantidad de Items</th>\n",
       "    </tr>\n",
       "  </thead>\n",
       "  <tbody>\n",
       "    <tr>\n",
       "      <th>0</th>\n",
       "      <td>76561198043472122</td>\n",
       "      <td>534.62</td>\n",
       "      <td>0.0%</td>\n",
       "      <td>88</td>\n",
       "    </tr>\n",
       "  </tbody>\n",
       "</table>\n",
       "</div>"
      ],
      "text/plain": [
       "             Usuario  Dinero Gastado % de recomendación  Cantidad de Items\n",
       "0  76561198043472122          534.62               0.0%                 88"
      ]
     },
     "execution_count": 30,
     "metadata": {},
     "output_type": "execute_result"
    }
   ],
   "source": [
    "def userData(userId):\n",
    "  #Cargar CSV\n",
    "  userRecommendData=pd.read_csv('userReviewsExploded.csv')\n",
    "  userItemsData=pd.read_csv('userItemsExploded.csv')\n",
    "  userItemCountData=pd.read_csv('userItemCount.csv')\n",
    "  gamePriceData=pd.read_csv('steamGamesPrice.csv')\n",
    "  #Convertir a DataFrame\n",
    "  userRecommendDf=pd.DataFrame(userRecommendData)\n",
    "  userItemsDf=pd.DataFrame(userItemsData)\n",
    "  userItemCountDf=pd.DataFrame(userItemCountData)\n",
    "  gamePriceDf=pd.DataFrame(gamePriceData)\n",
    "  #Filtrar por usuario\n",
    "  userRecommendDf=userRecommendDf[userRecommendDf['user_id']==userId].reset_index(drop=True)\n",
    "  userItemsDf=userItemsDf[userItemsDf['user_id']==userId].reset_index(drop=True)\n",
    "  userItemsDf=pd.merge(userItemsDf,gamePriceDf,how='left',on='item_id')\n",
    "  userItemCountDf=userItemCountDf[userItemCountDf['user_id']==userId].reset_index(drop=True)\n",
    "  #Componer DataFrame de respuesta\n",
    "  resultData={'Usuario': [userId]}\n",
    "  resultDf=pd.DataFrame(resultData)\n",
    "  resultDf['Dinero Gastado']=pd.to_numeric(userItemsDf['price'], errors='coerce').sum()\n",
    "  resultDf['% de recomendación']=((userRecommendDf['recommend'].mean()) * 100).round(2).astype(str) + '%'\n",
    "  resultDf['Cantidad de Items']=userItemCountDf['items_count']\n",
    "  return resultDf\n",
    "userData('76561198043472122')"
   ]
  },
  {
   "cell_type": "markdown",
   "metadata": {},
   "source": [
    "Def UserForGenre"
   ]
  },
  {
   "cell_type": "code",
   "execution_count": 114,
   "metadata": {},
   "outputs": [
    {
     "data": {
      "text/plain": [
       "{'Usuario con más horas jugadas para Género action': 'Sp3ctre',\n",
       " 'Horas jugadas': [{'Año': 2017, 'Horas Jugadas': 722.12},\n",
       "  {'Año': 2016, 'Horas Jugadas': 492.93},\n",
       "  {'Año': 2015, 'Horas Jugadas': 5208.52},\n",
       "  {'Año': 2014, 'Horas Jugadas': 2178.18},\n",
       "  {'Año': 2013, 'Horas Jugadas': 2007.68},\n",
       "  {'Año': 2012, 'Horas Jugadas': 6304.93},\n",
       "  {'Año': 2011, 'Horas Jugadas': 2581.6},\n",
       "  {'Año': 2010, 'Horas Jugadas': 1301.38},\n",
       "  {'Año': 2009, 'Horas Jugadas': 1805.43},\n",
       "  {'Año': 2008, 'Horas Jugadas': 3.73},\n",
       "  {'Año': 2007, 'Horas Jugadas': 1879.73},\n",
       "  {'Año': 2006, 'Horas Jugadas': 14.93},\n",
       "  {'Año': 2005, 'Horas Jugadas': 355.65},\n",
       "  {'Año': 2004, 'Horas Jugadas': 2123.52},\n",
       "  {'Año': 2003, 'Horas Jugadas': 127.88},\n",
       "  {'Año': 2002, 'Horas Jugadas': 3.97},\n",
       "  {'Año': 2001, 'Horas Jugadas': 0.22},\n",
       "  {'Año': 2000, 'Horas Jugadas': 1177.4},\n",
       "  {'Año': 1999, 'Horas Jugadas': 0.73},\n",
       "  {'Año': 1998, 'Horas Jugadas': 0.0},\n",
       "  {'Año': 1996, 'Horas Jugadas': 0.0},\n",
       "  {'Año': 1995, 'Horas Jugadas': 3.62},\n",
       "  {'Año': 1993, 'Horas Jugadas': 0.0},\n",
       "  {'Año': 0, 'Horas Jugadas': 27.62}]}"
      ]
     },
     "execution_count": 114,
     "metadata": {},
     "output_type": "execute_result"
    }
   ],
   "source": [
    "def userForGenre(genre):\n",
    "  genre=genre.lower()\n",
    "  gameGenreData=pd.read_csv('steamGamesGenres.csv')\n",
    "  userItemsExplodedData=pd.read_csv('userItemsExploded.csv')\n",
    "  gameGenreDf=pd.DataFrame(gameGenreData)\n",
    "  userItemsExplodedDf=pd.DataFrame(userItemsExplodedData)\n",
    "  gameGenreDf['genres']=gameGenreDf['genres'].str.lower()\n",
    "  gameGenreDf=gameGenreDf[gameGenreDf['genres'].apply(lambda x: genre in x)]\n",
    "  gameGenreDf=pd.merge(gameGenreDf[['item_id','release_year']],userItemsExplodedDf,how='left',on='item_id')\n",
    "  gameGenreDf=gameGenreDf.dropna(subset='playtime')\n",
    "  userId=gameGenreDf.groupby('user_id')['playtime'].sum().reset_index().sort_values(by='playtime',ascending=False).iloc[0,0]\n",
    "  gameGenreDf=gameGenreDf[gameGenreDf['user_id']==userId].groupby('release_year')['playtime'].sum().reset_index().sort_values(by='release_year',ascending=False)\n",
    "  gameGenreDf['playtime']=(gameGenreDf['playtime']/60).round(2)\n",
    "  gameGenreDf.rename(columns={'release_year': 'Año'}, inplace=True)\n",
    "  gameGenreDf.rename(columns={'playtime': 'Horas jugadas'}, inplace=True)\n",
    "  resultPlaytime=gameGenreDf.to_dict(orient='records')\n",
    "  result={'Usuario con más horas jugadas para Género ' + genre:userId,'Horas jugadas':resultPlaytime}\n",
    "  return result\n",
    "userForGenre('action')"
   ]
  },
  {
   "cell_type": "markdown",
   "metadata": {},
   "source": [
    "Def BestDeveloperYear"
   ]
  },
  {
   "cell_type": "code",
   "execution_count": 105,
   "metadata": {},
   "outputs": [
    {
     "data": {
      "text/plain": [
       "[{'Puesto 1': 'Valve'},\n",
       " {'Puesto 2': 'Tripwire Interactive'},\n",
       " {'Puesto 3': 'Facepunch Studios'}]"
      ]
     },
     "execution_count": 105,
     "metadata": {},
     "output_type": "execute_result"
    }
   ],
   "source": [
    "def bestDeveloperYear(year):\n",
    "  userReviewsData=pd.read_csv('userReviewsExploded.csv')\n",
    "  steamGamesDevData=pd.read_csv('steamGamesDev.csv')\n",
    "  userReviewsDf=pd.DataFrame(userReviewsData)\n",
    "  steamGamesDevDf=pd.DataFrame(steamGamesDevData)\n",
    "  userReviewsDf = userReviewsDf[(userReviewsDf['recommend'] == True) & \n",
    "                               (userReviewsDf['sentiment_analysis'] == 2) & \n",
    "                               (userReviewsDf['review_year'] == year)]\n",
    "  userReviewsDf['review_year']=userReviewsDf['review_year'].astype(int)\n",
    "  userReviewsDf=userReviewsDf.groupby('item_id')['recommend'].count().reset_index()\n",
    "  steamGamesDevDf=pd.merge(steamGamesDevDf[['item_id','developer']],userReviewsDf,how='left',on='item_id').sort_values(by='recommend',ascending=False)\n",
    "  steamGamesDevDf=steamGamesDevDf.groupby('developer')['recommend'].sum().reset_index().sort_values(by='recommend',ascending=False)\n",
    "  if steamGamesDevDf.iloc[1,1]!=0:\n",
    "    first=steamGamesDevDf.iloc[0,0]\n",
    "    second=steamGamesDevDf.iloc[1,0]\n",
    "    third=steamGamesDevDf.iloc[2,0]\n",
    "    result=[{'Puesto 1':first},{'Puesto 2':second},{'Puesto 3':third}]\n",
    "  else:\n",
    "    result=[{'Puesto 1':None},{'Puesto 2':None},{'Puesto 3':None}]\n",
    "  return result\n",
    "bestDeveloperYear(2010)"
   ]
  },
  {
   "cell_type": "markdown",
   "metadata": {},
   "source": [
    "Def DeveloperReviewAnalysis"
   ]
  },
  {
   "cell_type": "code",
   "execution_count": 145,
   "metadata": {},
   "outputs": [
    {
     "data": {
      "text/plain": [
       "{'Tripwire Interactive': ['Negative = 109', 'Positive = 319']}"
      ]
     },
     "execution_count": 145,
     "metadata": {},
     "output_type": "execute_result"
    }
   ],
   "source": [
    "def developerReviewsAnalysis(dev):\n",
    "  dev=dev.lower()\n",
    "  userReviewsData=pd.read_csv('userReviewsExploded.csv')\n",
    "  steamGamesDevData=pd.read_csv('steamGamesDev.csv')\n",
    "  userReviewsDf=pd.DataFrame(userReviewsData)\n",
    "  steamGamesDevDf=pd.DataFrame(steamGamesDevData)\n",
    "  steamGamesDevDf=steamGamesDevDf[steamGamesDevDf['developer'].str.lower()== dev]\n",
    "  userReviewsDf=userReviewsDf.groupby('item_id')['sentiment_analysis'].agg([('positive', lambda x: (x == 2).sum()),\n",
    "    ('negative', lambda x: (x == 0).sum())]).reset_index()\n",
    "  steamGamesDevDf=pd.merge(steamGamesDevDf,userReviewsDf,how='left',on='item_id')\n",
    "  steamGamesDevDf=steamGamesDevDf.groupby('developer')[['positive','negative']].sum().reset_index()\n",
    "  positive=steamGamesDevDf.iloc[0,1].astype(int).astype(str)\n",
    "  negative=steamGamesDevDf.iloc[0,2].astype(int).astype(str)\n",
    "  result={steamGamesDevDf.iloc[0,0]:['Negative = ' + negative,'Positive = ' + positive]}\n",
    "  return result\n",
    "developerReviewsAnalysis('Tripwire Interactive')"
   ]
  }
 ],
 "metadata": {
  "kernelspec": {
   "display_name": "venv",
   "language": "python",
   "name": "python3"
  },
  "language_info": {
   "codemirror_mode": {
    "name": "ipython",
    "version": 3
   },
   "file_extension": ".py",
   "mimetype": "text/x-python",
   "name": "python",
   "nbconvert_exporter": "python",
   "pygments_lexer": "ipython3",
   "version": "3.11.7"
  }
 },
 "nbformat": 4,
 "nbformat_minor": 2
}
