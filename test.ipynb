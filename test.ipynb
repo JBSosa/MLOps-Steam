{
 "cells": [
  {
   "cell_type": "markdown",
   "metadata": {},
   "source": [
    "uvicorn main:app --reload"
   ]
  },
  {
   "cell_type": "markdown",
   "metadata": {},
   "source": [
    "ETL"
   ]
  },
  {
   "cell_type": "code",
   "execution_count": null,
   "metadata": {},
   "outputs": [],
   "source": [
    "import pandas as pd\n",
    "import json\n",
    "import ast\n",
    "import pyarrow"
   ]
  },
  {
   "cell_type": "markdown",
   "metadata": {},
   "source": [
    "userItemsData=pd.read_parquet('userItems.parquet')\n",
    "userItemCountData=pd.read_parquet('userItemCount.parquet')\n",
    "userItemsExplodedData=pd.read_parquet('userItemsExploded.parquet')\n",
    "steamGamesData=pd.read_parquet('steamGames.parquet',low_memory=False)\n",
    "steamGamesPriceData=pd.read_parquet('steamGamesPrice.parquet')\n",
    "userReviewsExplodedData=pd.read_parquet('userReviewsExploded.parquet')\n",
    "userItemsDf=pd.DataFrame(userItemsData)\n",
    "userItemCountDf=pd.DataFrame(userItemCountData)\n",
    "userItemsExplodedDf=pd.DataFrame(userItemsExplodedData)\n",
    "steamGamesDf=pd.DataFrame(steamGamesData)\n",
    "steamGamesPriceDf=pd.DataFrame(steamGamesPriceData)\n",
    "userReviewsExplodedDf=pd.DataFrame(userReviewsExplodedData)"
   ]
  },
  {
   "cell_type": "markdown",
   "metadata": {},
   "source": [
    "Steam Games"
   ]
  },
  {
   "cell_type": "code",
   "execution_count": null,
   "metadata": {},
   "outputs": [],
   "source": [
    "with open('output_steam_games.json', 'r') as file:\n",
    "  lines = file.readlines()\n",
    "\n",
    "steamGamesData = [json.loads(line) for line in lines]\n",
    "\n",
    "steamGames = pd.json_normalize(steamGamesData)\n",
    "\n",
    "steamGamesDf=pd.DataFrame(steamGames)"
   ]
  },
  {
   "cell_type": "code",
   "execution_count": null,
   "metadata": {},
   "outputs": [],
   "source": [
    "steamGamesDf['release_date']=pd.to_datetime(steamGamesDf['release_date'],format='mixed',errors='coerce')\n",
    "steamGamesDf['release_year'] = steamGamesDf['release_date'].dt.year.fillna(0).astype(int)"
   ]
  },
  {
   "cell_type": "code",
   "execution_count": null,
   "metadata": {},
   "outputs": [],
   "source": [
    "steamGamesDf.rename(columns={'id': 'item_id'}, inplace=True)"
   ]
  },
  {
   "cell_type": "code",
   "execution_count": null,
   "metadata": {},
   "outputs": [],
   "source": [
    "steamGamesDf['price'].loc[steamGamesDf['price'].apply(type) == str].unique()"
   ]
  },
  {
   "cell_type": "code",
   "execution_count": null,
   "metadata": {},
   "outputs": [],
   "source": [
    "steamGamesDf.loc[steamGamesDf['price'].str.contains('third', case=False) & steamGamesDf['price'].notna(), 'price'] = 0"
   ]
  },
  {
   "cell_type": "code",
   "execution_count": null,
   "metadata": {},
   "outputs": [],
   "source": [
    "steamGamesDf.to_parquet('steamGames.parquet',index=False)"
   ]
  },
  {
   "cell_type": "code",
   "execution_count": null,
   "metadata": {},
   "outputs": [],
   "source": [
    "steamGamesPriceDf=steamGamesDf[['item_id','price']]\n",
    "steamGamesPriceDf.to_parquet('steamGamesPrice.parquet',index=False)\n"
   ]
  },
  {
   "cell_type": "code",
   "execution_count": null,
   "metadata": {},
   "outputs": [],
   "source": [
    "steamGamesGenresDf=steamGamesDf[['item_id','genres','release_year']]\n",
    "steamGamesGenresDf=steamGamesGenresDf.dropna(subset='genres')\n",
    "steamGamesGenresDf['genres'] = steamGamesGenresDf['genres'].apply(lambda lst: [element.lower() for element in lst])\n",
    "steamGamesGenresDf.to_parquet('steamGamesGenres.parquet',index=False)"
   ]
  },
  {
   "cell_type": "code",
   "execution_count": null,
   "metadata": {},
   "outputs": [],
   "source": [
    "steamGamesDevDf=steamGamesDf[['item_id','developer','release_year']]\n",
    "steamGamesDevDf=steamGamesDevDf.dropna(subset='developer')"
   ]
  },
  {
   "cell_type": "code",
   "execution_count": null,
   "metadata": {},
   "outputs": [],
   "source": [
    "steamGamesDevDf.to_parquet('steamGamesDev.parquet',index=False)"
   ]
  },
  {
   "cell_type": "markdown",
   "metadata": {},
   "source": [
    "User Items"
   ]
  },
  {
   "cell_type": "code",
   "execution_count": null,
   "metadata": {},
   "outputs": [],
   "source": [
    "#Ruta del archivo JSON\n",
    "data_list = []\n",
    "file_path = 'australian_users_items.json'\n",
    "\n",
    "#Abrir el archivo y procesar cada línea\n",
    "with open(file_path, 'r', encoding='utf-8') as file:\n",
    "    for line in file:\n",
    "        try:\n",
    "            # Usar ast.literal_eval para convertir la línea en un diccionario\n",
    "            json_data = ast.literal_eval(line)\n",
    "            data_list.append(json_data)\n",
    "        except ValueError as e:\n",
    "            print(f\"Error en la línea: {line}\")\n",
    "            continue\n",
    "\n",
    "#Crear un DataFrame a partir de la lista de diccionarios\n",
    "userItemsDf = pd.DataFrame(data_list)"
   ]
  },
  {
   "cell_type": "code",
   "execution_count": null,
   "metadata": {},
   "outputs": [],
   "source": [
    "userItemCount={'user_id': [], 'items_count': []}\n",
    "userItemCountDf=pd.DataFrame(userItemCount)\n",
    "userItemCountDf['user_id']=userItemsDf['user_id']\n",
    "userItemCountDf['items_count']=userItemsDf['items_count']"
   ]
  },
  {
   "cell_type": "code",
   "execution_count": null,
   "metadata": {},
   "outputs": [],
   "source": [
    "del userItemsDf['steam_id']\n",
    "del userItemsDf['items_count']\n",
    "del userItemsDf['user_url']"
   ]
  },
  {
   "cell_type": "code",
   "execution_count": null,
   "metadata": {},
   "outputs": [],
   "source": [
    "userItemsExplodedDf=userItemsDf.explode('items').reset_index(drop=True)"
   ]
  },
  {
   "cell_type": "code",
   "execution_count": null,
   "metadata": {},
   "outputs": [],
   "source": [
    "userItemsExplodedDf['item_id']=userItemsExplodedDf['items'].apply(lambda x: x.get('item_id') if isinstance(x, dict) and 'item_id' in x else None)\n",
    "userItemsExplodedDf['playtime']=userItemsExplodedDf['items'].apply(lambda x: x.get('playtime_forever') if isinstance(x, dict) and 'playtime_forever' in x else None)"
   ]
  },
  {
   "cell_type": "code",
   "execution_count": null,
   "metadata": {},
   "outputs": [],
   "source": [
    "del userItemsExplodedDf['items']"
   ]
  },
  {
   "cell_type": "code",
   "execution_count": null,
   "metadata": {},
   "outputs": [],
   "source": [
    "userItemsExplodedDf.to_parquet('userItemsExploded.parquet',index=False)\n",
    "userItemsDf.to_parquet('userItems.parquet',index=False)\n",
    "userItemCountDf.to_parquet('userItemCount.parquet',index=False)"
   ]
  },
  {
   "cell_type": "code",
   "execution_count": null,
   "metadata": {},
   "outputs": [],
   "source": [
    "userItemsDf"
   ]
  },
  {
   "cell_type": "code",
   "execution_count": null,
   "metadata": {},
   "outputs": [],
   "source": [
    "userItemCountDf"
   ]
  },
  {
   "cell_type": "code",
   "execution_count": null,
   "metadata": {},
   "outputs": [],
   "source": [
    "steamGamesGenresDf"
   ]
  },
  {
   "cell_type": "code",
   "execution_count": 178,
   "metadata": {},
   "outputs": [],
   "source": [
    "steamGamesData=pd.read_parquet('steamGames.parquet')\n",
    "userReviewsExplodedData=pd.read_parquet('userReviewsExploded.parquet')\n",
    "steamGamesDevData=pd.read_parquet('steamGamesDev.parquet')\n",
    "userRecommendData=pd.read_parquet('userReviewsExploded.parquet')\n",
    "userItemsData=pd.read_parquet('userItemsExploded.parquet')\n",
    "userItemCountData=pd.read_parquet('userItemCount.parquet')\n",
    "steamGamesPriceData=pd.read_parquet('steamGamesPrice.parquet')\n",
    "steamGamesGenres=pd.read_parquet('steamGamesGenres.parquet')\n",
    "userItemsExplodedData=pd.read_parquet('userItemsExploded.parquet')"
   ]
  },
  {
   "cell_type": "markdown",
   "metadata": {},
   "source": [
    "Def Developer"
   ]
  },
  {
   "cell_type": "code",
   "execution_count": 169,
   "metadata": {},
   "outputs": [],
   "source": [
    "def developer(dev):\n",
    "  steamGamesDf=pd.DataFrame(steamGamesData)\n",
    "  filteredDf=steamGamesDf[steamGamesDf['developer']==dev]\n",
    "  totalApps=filteredDf.groupby('release_year').size().reset_index(name='Cantidad de Items')\n",
    "  filteredDf=filteredDf.dropna(subset=['price'])\n",
    "  freeApps=filteredDf[filteredDf['price']==0].groupby('release_year').size().reset_index(name='free_items')\n",
    "  result = pd.merge(totalApps, freeApps, on='release_year', how='left').fillna(0)\n",
    "  result.rename(columns={'release_year': 'Año'}, inplace=True)\n",
    "  result['Contenido Free'] = ((result['free_items'] / result['Cantidad de Items']) * 100).round(2).astype(str) + '%'\n",
    "  result=result[['Año','Cantidad de Items','Contenido Free']].reset_index(drop=True)\n",
    "  return result\n",
    "developer('AMPLITUDE Studios')"
   ]
  },
  {
   "cell_type": "markdown",
   "metadata": {},
   "source": [
    "Def Userdata"
   ]
  },
  {
   "cell_type": "code",
   "execution_count": 171,
   "metadata": {},
   "outputs": [
    {
     "data": {
      "text/html": [
       "<div>\n",
       "<style scoped>\n",
       "    .dataframe tbody tr th:only-of-type {\n",
       "        vertical-align: middle;\n",
       "    }\n",
       "\n",
       "    .dataframe tbody tr th {\n",
       "        vertical-align: top;\n",
       "    }\n",
       "\n",
       "    .dataframe thead th {\n",
       "        text-align: right;\n",
       "    }\n",
       "</style>\n",
       "<table border=\"1\" class=\"dataframe\">\n",
       "  <thead>\n",
       "    <tr style=\"text-align: right;\">\n",
       "      <th></th>\n",
       "      <th>Usuario</th>\n",
       "      <th>Dinero Gastado</th>\n",
       "      <th>% de recomendación</th>\n",
       "      <th>Cantidad de Items</th>\n",
       "    </tr>\n",
       "  </thead>\n",
       "  <tbody>\n",
       "    <tr>\n",
       "      <th>0</th>\n",
       "      <td>76561198043472122</td>\n",
       "      <td>534.62</td>\n",
       "      <td>0.0%</td>\n",
       "      <td>88</td>\n",
       "    </tr>\n",
       "  </tbody>\n",
       "</table>\n",
       "</div>"
      ],
      "text/plain": [
       "             Usuario  Dinero Gastado % de recomendación  Cantidad de Items\n",
       "0  76561198043472122          534.62               0.0%                 88"
      ]
     },
     "execution_count": 171,
     "metadata": {},
     "output_type": "execute_result"
    }
   ],
   "source": [
    "def userData(userId):\n",
    "  userRecommendDf=pd.DataFrame(userRecommendData)\n",
    "  userItemsDf=pd.DataFrame(userItemsData)\n",
    "  userItemCountDf=pd.DataFrame(userItemCountData)\n",
    "  gamePriceDf=pd.DataFrame(steamGamesPriceData)\n",
    "  #Filtrar por usuario\n",
    "  userRecommendDf=userRecommendDf[userRecommendDf['user_id']==userId].reset_index(drop=True)\n",
    "  userItemsDf=userItemsDf[userItemsDf['user_id']==userId].reset_index(drop=True)\n",
    "  userItemsDf=pd.merge(userItemsDf,steamGamesPriceDf,how='left',on='item_id')\n",
    "  userItemCountDf=userItemCountDf[userItemCountDf['user_id']==userId].reset_index(drop=True)\n",
    "  #Componer DataFrame de respuesta\n",
    "  resultData={'Usuario': [userId]}\n",
    "  resultDf=pd.DataFrame(resultData)\n",
    "  resultDf['Dinero Gastado']=pd.to_numeric(userItemsDf['price'], errors='coerce').sum()\n",
    "  resultDf['% de recomendación']=((userRecommendDf['recommend'].mean()) * 100).round(2).astype(str) + '%'\n",
    "  resultDf['Cantidad de Items']=userItemCountDf['items_count']\n",
    "  return resultDf\n",
    "userData('76561198043472122')"
   ]
  },
  {
   "cell_type": "markdown",
   "metadata": {},
   "source": [
    "Def UserForGenre"
   ]
  },
  {
   "cell_type": "code",
   "execution_count": 172,
   "metadata": {},
   "outputs": [
    {
     "data": {
      "text/plain": [
       "{'Usuario con más horas jugadas para Género action': 'Sp3ctre',\n",
       " 'Horas jugadas': [{'Año': 2017, 'Horas jugadas': 722.12},\n",
       "  {'Año': 2016, 'Horas jugadas': 492.93},\n",
       "  {'Año': 2015, 'Horas jugadas': 5208.52},\n",
       "  {'Año': 2014, 'Horas jugadas': 2178.18},\n",
       "  {'Año': 2013, 'Horas jugadas': 2007.68},\n",
       "  {'Año': 2012, 'Horas jugadas': 6304.93},\n",
       "  {'Año': 2011, 'Horas jugadas': 2581.6},\n",
       "  {'Año': 2010, 'Horas jugadas': 1301.38},\n",
       "  {'Año': 2009, 'Horas jugadas': 1805.43},\n",
       "  {'Año': 2008, 'Horas jugadas': 3.73},\n",
       "  {'Año': 2007, 'Horas jugadas': 1879.73},\n",
       "  {'Año': 2006, 'Horas jugadas': 14.93},\n",
       "  {'Año': 2005, 'Horas jugadas': 355.65},\n",
       "  {'Año': 2004, 'Horas jugadas': 2123.52},\n",
       "  {'Año': 2003, 'Horas jugadas': 127.88},\n",
       "  {'Año': 2002, 'Horas jugadas': 3.97},\n",
       "  {'Año': 2001, 'Horas jugadas': 0.22},\n",
       "  {'Año': 2000, 'Horas jugadas': 1177.4},\n",
       "  {'Año': 1999, 'Horas jugadas': 0.73},\n",
       "  {'Año': 1998, 'Horas jugadas': 0.0},\n",
       "  {'Año': 1996, 'Horas jugadas': 0.0},\n",
       "  {'Año': 1995, 'Horas jugadas': 3.62},\n",
       "  {'Año': 1993, 'Horas jugadas': 0.0},\n",
       "  {'Año': 0, 'Horas jugadas': 27.62}]}"
      ]
     },
     "execution_count": 172,
     "metadata": {},
     "output_type": "execute_result"
    }
   ],
   "source": [
    "def userForGenre(genre):\n",
    "  genre=genre.lower()\n",
    "  steamGamesGenreDf=pd.DataFrame(steamGamesGenres)\n",
    "  userItemsExplodedDf=pd.DataFrame(userItemsExplodedData)\n",
    "  steamGamesGenreDf['genres']=steamGamesGenreDf['genres'].apply(lambda lst: [element.lower() for element in lst])\n",
    "  steamGamesGenreDf=steamGamesGenreDf[steamGamesGenreDf['genres'].apply(lambda x: genre in x if isinstance(x, list) else False)]\n",
    "  steamGamesGenreDf=pd.merge(steamGamesGenreDf[['item_id','release_year']],userItemsExplodedDf,how='left',on='item_id')\n",
    "  steamGamesGenreDf=steamGamesGenreDf.dropna(subset='playtime')\n",
    "  userId=steamGamesGenreDf.groupby('user_id')['playtime'].sum().reset_index().sort_values(by='playtime',ascending=False).iloc[0,0]\n",
    "  steamGamesGenreDf=steamGamesGenreDf[steamGamesGenreDf['user_id']==userId].groupby('release_year')['playtime'].sum().reset_index().sort_values(by='release_year',ascending=False)\n",
    "  steamGamesGenreDf['playtime']=(steamGamesGenreDf['playtime']/60).round(2)\n",
    "  steamGamesGenreDf.rename(columns={'release_year': 'Año'}, inplace=True)\n",
    "  steamGamesGenreDf.rename(columns={'playtime': 'Horas jugadas'}, inplace=True)\n",
    "  resultPlaytime=steamGamesGenreDf.to_dict(orient='records')\n",
    "  result={'Usuario con más horas jugadas para Género ' + genre:userId,'Horas jugadas':resultPlaytime}\n",
    "  return result\n",
    "userForGenre('action')"
   ]
  },
  {
   "cell_type": "markdown",
   "metadata": {},
   "source": [
    "Def BestDeveloperYear"
   ]
  },
  {
   "cell_type": "code",
   "execution_count": 185,
   "metadata": {},
   "outputs": [
    {
     "data": {
      "text/plain": [
       "[{'Puesto 1': 'Valve'},\n",
       " {'Puesto 2': 'Re-Logic'},\n",
       " {'Puesto 3': 'Facepunch Studios'}]"
      ]
     },
     "execution_count": 185,
     "metadata": {},
     "output_type": "execute_result"
    }
   ],
   "source": [
    "def bestDeveloperYear(year):\n",
    "  userReviewsExplodedDf=pd.DataFrame(userReviewsExplodedData)\n",
    "  steamGamesDevDf=pd.DataFrame(steamGamesDevData)\n",
    "  userReviewsExplodedDf = userReviewsExplodedDf[(userReviewsExplodedDf['recommend'] == True) & \n",
    "                               (userReviewsExplodedDf['sentiment_analysis'] == '2') & \n",
    "                               (userReviewsExplodedDf['review_year'] == year)]\n",
    "  userReviewsExplodedDf['review_year']=userReviewsExplodedDf['review_year'].astype(int)\n",
    "  userReviewsExplodedDf=userReviewsExplodedDf.groupby('item_id')['recommend'].count().reset_index()\n",
    "  steamGamesDevDf=pd.merge(steamGamesDevDf[['item_id','developer']],userReviewsExplodedDf,how='left',on='item_id').sort_values(by='recommend',ascending=False)\n",
    "  steamGamesDevDf=steamGamesDevDf.groupby('developer')['recommend'].sum().reset_index().sort_values(by='recommend',ascending=False)\n",
    "  if steamGamesDevDf.iloc[1,1]!=0:\n",
    "    first=steamGamesDevDf.iloc[0,0]\n",
    "    second=steamGamesDevDf.iloc[1,0]\n",
    "    third=steamGamesDevDf.iloc[2,0]\n",
    "    result=[{'Puesto 1':first},{'Puesto 2':second},{'Puesto 3':third}]\n",
    "  else:\n",
    "    result=[{'Puesto 1':None},{'Puesto 2':None},{'Puesto 3':None}]\n",
    "  return result\n",
    "bestDeveloperYear(2012)"
   ]
  },
  {
   "cell_type": "markdown",
   "metadata": {},
   "source": [
    "Def DeveloperReviewAnalysis"
   ]
  },
  {
   "cell_type": "code",
   "execution_count": 184,
   "metadata": {},
   "outputs": [
    {
     "data": {
      "text/plain": [
       "{'Valve': ['Negative = 1113', 'Positive = 6149']}"
      ]
     },
     "execution_count": 184,
     "metadata": {},
     "output_type": "execute_result"
    }
   ],
   "source": [
    "def developerReviewsAnalysis(dev):\n",
    "  dev=dev.lower()\n",
    "  steamGamesDevDf=pd.DataFrame(steamGamesDevData)\n",
    "  userReviewsExplodedDf=pd.DataFrame(userReviewsExplodedData)\n",
    "  steamGamesDevDf=steamGamesDevDf[steamGamesDevDf['developer'].str.lower()== dev]\n",
    "  userReviewsExplodedDf=userReviewsExplodedDf.groupby('item_id')['sentiment_analysis'].agg([('positive', lambda x: (x == '2').sum()),\n",
    "    ('negative', lambda x: (x == '0').sum())]).reset_index()\n",
    "  steamGamesDevDf=pd.merge(steamGamesDevDf,userReviewsExplodedDf,how='left',on='item_id')\n",
    "  steamGamesDevDf=steamGamesDevDf.groupby('developer')[['positive','negative']].sum().reset_index()\n",
    "  positive=steamGamesDevDf.iloc[0,1].astype(int).astype(str)\n",
    "  negative=steamGamesDevDf.iloc[0,2].astype(int).astype(str)\n",
    "  result={steamGamesDevDf.iloc[0,0]:['Negative = ' + negative,'Positive = ' + positive]}\n",
    "  return result\n",
    "developerReviewsAnalysis('valve')"
   ]
  }
 ],
 "metadata": {
  "kernelspec": {
   "display_name": "venv",
   "language": "python",
   "name": "python3"
  },
  "language_info": {
   "codemirror_mode": {
    "name": "ipython",
    "version": 3
   },
   "file_extension": ".py",
   "mimetype": "text/x-python",
   "name": "python",
   "nbconvert_exporter": "python",
   "pygments_lexer": "ipython3",
   "version": "3.11.7"
  }
 },
 "nbformat": 4,
 "nbformat_minor": 2
}
