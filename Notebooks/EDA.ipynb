{
 "cells": [
  {
   "cell_type": "markdown",
   "metadata": {},
   "source": [
    "<h1>Análisis Exploratorio de Datos"
   ]
  },
  {
   "cell_type": "markdown",
   "metadata": {},
   "source": [
    "En este Notebook se realiza el análisis exploratorio de datos (EDA) con los conjuntos de datos previamente trabajados para posteriormente poder realizar el modelo de recomendación."
   ]
  },
  {
   "cell_type": "markdown",
   "metadata": {},
   "source": [
    "<h2>Importaciones"
   ]
  },
  {
   "cell_type": "code",
   "execution_count": 1,
   "metadata": {},
   "outputs": [],
   "source": [
    "import pandas as pd\n",
    "import matplotlib.pyplot as plt\n",
    "import seaborn as sns\n",
    "import json\n",
    "import warnings\n",
    "warnings.filterwarnings(\"ignore\")"
   ]
  },
  {
   "cell_type": "markdown",
   "metadata": {},
   "source": [
    "Se crea función para conocer cuántos datos únicos hay en una columna de dataframe y el porcentaje que estos representan."
   ]
  },
  {
   "cell_type": "code",
   "execution_count": 2,
   "metadata": {},
   "outputs": [],
   "source": [
    "def dataPercentage(df, column):\n",
    "    counts = df[column].value_counts()\n",
    "    percentages = round(100*counts/len(df),2)\n",
    "    dfResults = pd.DataFrame({\n",
    "        \"Cantidad\":counts,\n",
    "        \"Porcentaje\":percentages\n",
    "    })\n",
    "    return dfResults"
   ]
  },
  {
   "cell_type": "markdown",
   "metadata": {},
   "source": [
    "Se crea función para saber el tipo de dato que hay en las funciones, incluyendo el porcentaje de nulos."
   ]
  },
  {
   "cell_type": "code",
   "execution_count": 3,
   "metadata": {},
   "outputs": [],
   "source": [
    "def dataType(df):\n",
    "        dfDict = {\"name\":[],\"data_type\":[],\"not_null_%\":[],\"null_%\":[],\"null\":[]}\n",
    "        for column in df.columns:\n",
    "                notNull=(df[column].count() / len(df)) * 100\n",
    "                dfDict[\"name\"].append(column)\n",
    "                dfDict[\"data_type\"].append(df[column].apply(type).unique())\n",
    "                dfDict[\"not_null_%\"].append(round(notNull, 2))\n",
    "                dfDict[\"null_%\"].append(round(100-notNull, 2))\n",
    "                dfDict[\"null\"].append(df[column].isnull().sum())\n",
    "        dataTypeDf=pd.DataFrame(dfDict)\n",
    "        return dataTypeDf"
   ]
  },
  {
   "cell_type": "markdown",
   "metadata": {},
   "source": [
    "Se crea función para asignar un puntaje de recomendación de acuerdo al análisis de sentimiento, esto nos ayudará para el modelo de aprendizaje y se explicará más adelante."
   ]
  },
  {
   "cell_type": "code",
   "execution_count": 4,
   "metadata": {},
   "outputs": [],
   "source": [
    "def recommendScore(row):\n",
    "    if not row['recommend']:\n",
    "        return 0\n",
    "    elif row['sentiment_analysis'] == 0:\n",
    "        return 1\n",
    "    elif row['sentiment_analysis'] == 1:\n",
    "        return 2\n",
    "    elif row['sentiment_analysis'] == 2:\n",
    "        return 3\n",
    "    else: \n",
    "        return None"
   ]
  },
  {
   "cell_type": "markdown",
   "metadata": {},
   "source": [
    "<h2>Dataset steamGames"
   ]
  },
  {
   "cell_type": "markdown",
   "metadata": {},
   "source": [
    "Se cargan los datasets y se crean los dataframes correspondientes."
   ]
  },
  {
   "cell_type": "code",
   "execution_count": 5,
   "metadata": {},
   "outputs": [],
   "source": [
    "steamGamesDf = pd.read_parquet('../data/steamGames.parquet')\n",
    "steamGamesGenresExplodedDf = pd.read_parquet('../data/steamGamesGenresExploded.parquet')\n",
    "steamGamesPriceDf = pd.read_parquet('../data/steamGamesPrice.parquet')"
   ]
  },
  {
   "cell_type": "code",
   "execution_count": 6,
   "metadata": {},
   "outputs": [
    {
     "data": {
      "text/html": [
       "<div>\n",
       "<style scoped>\n",
       "    .dataframe tbody tr th:only-of-type {\n",
       "        vertical-align: middle;\n",
       "    }\n",
       "\n",
       "    .dataframe tbody tr th {\n",
       "        vertical-align: top;\n",
       "    }\n",
       "\n",
       "    .dataframe thead th {\n",
       "        text-align: right;\n",
       "    }\n",
       "</style>\n",
       "<table border=\"1\" class=\"dataframe\">\n",
       "  <thead>\n",
       "    <tr style=\"text-align: right;\">\n",
       "      <th></th>\n",
       "      <th>publisher</th>\n",
       "      <th>genres</th>\n",
       "      <th>app_name</th>\n",
       "      <th>title</th>\n",
       "      <th>url</th>\n",
       "      <th>release_date</th>\n",
       "      <th>tags</th>\n",
       "      <th>reviews_url</th>\n",
       "      <th>specs</th>\n",
       "      <th>price</th>\n",
       "      <th>early_access</th>\n",
       "      <th>item_id</th>\n",
       "      <th>developer</th>\n",
       "      <th>release_year</th>\n",
       "    </tr>\n",
       "  </thead>\n",
       "  <tbody>\n",
       "    <tr>\n",
       "      <th>0</th>\n",
       "      <td>Kotoshiro</td>\n",
       "      <td>[Action, Casual, Indie, Simulation, Strategy]</td>\n",
       "      <td>Lost Summoner Kitty</td>\n",
       "      <td>Lost Summoner Kitty</td>\n",
       "      <td>http://store.steampowered.com/app/761140/Lost_...</td>\n",
       "      <td>2018-01-04</td>\n",
       "      <td>[Strategy, Action, Indie, Casual, Simulation]</td>\n",
       "      <td>http://steamcommunity.com/app/761140/reviews/?...</td>\n",
       "      <td>[Single-player]</td>\n",
       "      <td>4.99</td>\n",
       "      <td>False</td>\n",
       "      <td>761140</td>\n",
       "      <td>Kotoshiro</td>\n",
       "      <td>2018</td>\n",
       "    </tr>\n",
       "  </tbody>\n",
       "</table>\n",
       "</div>"
      ],
      "text/plain": [
       "   publisher                                         genres  \\\n",
       "0  Kotoshiro  [Action, Casual, Indie, Simulation, Strategy]   \n",
       "\n",
       "              app_name                title  \\\n",
       "0  Lost Summoner Kitty  Lost Summoner Kitty   \n",
       "\n",
       "                                                 url release_date  \\\n",
       "0  http://store.steampowered.com/app/761140/Lost_...   2018-01-04   \n",
       "\n",
       "                                            tags  \\\n",
       "0  [Strategy, Action, Indie, Casual, Simulation]   \n",
       "\n",
       "                                         reviews_url            specs  price  \\\n",
       "0  http://steamcommunity.com/app/761140/reviews/?...  [Single-player]   4.99   \n",
       "\n",
       "   early_access item_id  developer  release_year  \n",
       "0         False  761140  Kotoshiro          2018  "
      ]
     },
     "execution_count": 6,
     "metadata": {},
     "output_type": "execute_result"
    }
   ],
   "source": [
    "steamGamesDf.head(1)"
   ]
  },
  {
   "cell_type": "markdown",
   "metadata": {},
   "source": [
    "Visualizamos el porcentaje de nulos en el dataframe steamGamesDf"
   ]
  },
  {
   "cell_type": "code",
   "execution_count": 7,
   "metadata": {},
   "outputs": [
    {
     "data": {
      "text/html": [
       "<div>\n",
       "<style scoped>\n",
       "    .dataframe tbody tr th:only-of-type {\n",
       "        vertical-align: middle;\n",
       "    }\n",
       "\n",
       "    .dataframe tbody tr th {\n",
       "        vertical-align: top;\n",
       "    }\n",
       "\n",
       "    .dataframe thead th {\n",
       "        text-align: right;\n",
       "    }\n",
       "</style>\n",
       "<table border=\"1\" class=\"dataframe\">\n",
       "  <thead>\n",
       "    <tr style=\"text-align: right;\">\n",
       "      <th></th>\n",
       "      <th>name</th>\n",
       "      <th>data_type</th>\n",
       "      <th>not_null_%</th>\n",
       "      <th>null_%</th>\n",
       "      <th>null</th>\n",
       "    </tr>\n",
       "  </thead>\n",
       "  <tbody>\n",
       "    <tr>\n",
       "      <th>0</th>\n",
       "      <td>publisher</td>\n",
       "      <td>[&lt;class 'str'&gt;, &lt;class 'NoneType'&gt;]</td>\n",
       "      <td>74.94</td>\n",
       "      <td>25.06</td>\n",
       "      <td>8052</td>\n",
       "    </tr>\n",
       "    <tr>\n",
       "      <th>1</th>\n",
       "      <td>genres</td>\n",
       "      <td>[&lt;class 'numpy.ndarray'&gt;, &lt;class 'NoneType'&gt;]</td>\n",
       "      <td>89.78</td>\n",
       "      <td>10.22</td>\n",
       "      <td>3283</td>\n",
       "    </tr>\n",
       "    <tr>\n",
       "      <th>2</th>\n",
       "      <td>app_name</td>\n",
       "      <td>[&lt;class 'str'&gt;, &lt;class 'NoneType'&gt;]</td>\n",
       "      <td>99.99</td>\n",
       "      <td>0.01</td>\n",
       "      <td>2</td>\n",
       "    </tr>\n",
       "    <tr>\n",
       "      <th>3</th>\n",
       "      <td>title</td>\n",
       "      <td>[&lt;class 'str'&gt;, &lt;class 'NoneType'&gt;]</td>\n",
       "      <td>93.62</td>\n",
       "      <td>6.38</td>\n",
       "      <td>2050</td>\n",
       "    </tr>\n",
       "    <tr>\n",
       "      <th>4</th>\n",
       "      <td>url</td>\n",
       "      <td>[&lt;class 'str'&gt;]</td>\n",
       "      <td>100.00</td>\n",
       "      <td>0.00</td>\n",
       "      <td>0</td>\n",
       "    </tr>\n",
       "    <tr>\n",
       "      <th>5</th>\n",
       "      <td>release_date</td>\n",
       "      <td>[&lt;class 'pandas._libs.tslibs.timestamps.Timest...</td>\n",
       "      <td>93.03</td>\n",
       "      <td>6.97</td>\n",
       "      <td>2241</td>\n",
       "    </tr>\n",
       "    <tr>\n",
       "      <th>6</th>\n",
       "      <td>tags</td>\n",
       "      <td>[&lt;class 'numpy.ndarray'&gt;, &lt;class 'NoneType'&gt;]</td>\n",
       "      <td>99.49</td>\n",
       "      <td>0.51</td>\n",
       "      <td>163</td>\n",
       "    </tr>\n",
       "    <tr>\n",
       "      <th>7</th>\n",
       "      <td>reviews_url</td>\n",
       "      <td>[&lt;class 'str'&gt;, &lt;class 'NoneType'&gt;]</td>\n",
       "      <td>99.99</td>\n",
       "      <td>0.01</td>\n",
       "      <td>2</td>\n",
       "    </tr>\n",
       "    <tr>\n",
       "      <th>8</th>\n",
       "      <td>specs</td>\n",
       "      <td>[&lt;class 'numpy.ndarray'&gt;, &lt;class 'NoneType'&gt;]</td>\n",
       "      <td>97.92</td>\n",
       "      <td>2.08</td>\n",
       "      <td>670</td>\n",
       "    </tr>\n",
       "    <tr>\n",
       "      <th>9</th>\n",
       "      <td>price</td>\n",
       "      <td>[&lt;class 'float'&gt;]</td>\n",
       "      <td>95.71</td>\n",
       "      <td>4.29</td>\n",
       "      <td>1377</td>\n",
       "    </tr>\n",
       "    <tr>\n",
       "      <th>10</th>\n",
       "      <td>early_access</td>\n",
       "      <td>[&lt;class 'bool'&gt;]</td>\n",
       "      <td>100.00</td>\n",
       "      <td>0.00</td>\n",
       "      <td>0</td>\n",
       "    </tr>\n",
       "    <tr>\n",
       "      <th>11</th>\n",
       "      <td>item_id</td>\n",
       "      <td>[&lt;class 'str'&gt;, &lt;class 'NoneType'&gt;]</td>\n",
       "      <td>99.99</td>\n",
       "      <td>0.01</td>\n",
       "      <td>2</td>\n",
       "    </tr>\n",
       "    <tr>\n",
       "      <th>12</th>\n",
       "      <td>developer</td>\n",
       "      <td>[&lt;class 'str'&gt;, &lt;class 'NoneType'&gt;]</td>\n",
       "      <td>89.73</td>\n",
       "      <td>10.27</td>\n",
       "      <td>3299</td>\n",
       "    </tr>\n",
       "    <tr>\n",
       "      <th>13</th>\n",
       "      <td>release_year</td>\n",
       "      <td>[&lt;class 'int'&gt;]</td>\n",
       "      <td>100.00</td>\n",
       "      <td>0.00</td>\n",
       "      <td>0</td>\n",
       "    </tr>\n",
       "  </tbody>\n",
       "</table>\n",
       "</div>"
      ],
      "text/plain": [
       "            name                                          data_type  \\\n",
       "0      publisher                [<class 'str'>, <class 'NoneType'>]   \n",
       "1         genres      [<class 'numpy.ndarray'>, <class 'NoneType'>]   \n",
       "2       app_name                [<class 'str'>, <class 'NoneType'>]   \n",
       "3          title                [<class 'str'>, <class 'NoneType'>]   \n",
       "4            url                                    [<class 'str'>]   \n",
       "5   release_date  [<class 'pandas._libs.tslibs.timestamps.Timest...   \n",
       "6           tags      [<class 'numpy.ndarray'>, <class 'NoneType'>]   \n",
       "7    reviews_url                [<class 'str'>, <class 'NoneType'>]   \n",
       "8          specs      [<class 'numpy.ndarray'>, <class 'NoneType'>]   \n",
       "9          price                                  [<class 'float'>]   \n",
       "10  early_access                                   [<class 'bool'>]   \n",
       "11       item_id                [<class 'str'>, <class 'NoneType'>]   \n",
       "12     developer                [<class 'str'>, <class 'NoneType'>]   \n",
       "13  release_year                                    [<class 'int'>]   \n",
       "\n",
       "    not_null_%  null_%  null  \n",
       "0        74.94   25.06  8052  \n",
       "1        89.78   10.22  3283  \n",
       "2        99.99    0.01     2  \n",
       "3        93.62    6.38  2050  \n",
       "4       100.00    0.00     0  \n",
       "5        93.03    6.97  2241  \n",
       "6        99.49    0.51   163  \n",
       "7        99.99    0.01     2  \n",
       "8        97.92    2.08   670  \n",
       "9        95.71    4.29  1377  \n",
       "10      100.00    0.00     0  \n",
       "11       99.99    0.01     2  \n",
       "12       89.73   10.27  3299  \n",
       "13      100.00    0.00     0  "
      ]
     },
     "execution_count": 7,
     "metadata": {},
     "output_type": "execute_result"
    }
   ],
   "source": [
    "dataType(steamGamesDf)"
   ]
  },
  {
   "cell_type": "markdown",
   "metadata": {},
   "source": [
    "Consultamos el total de juegos únicos."
   ]
  },
  {
   "cell_type": "code",
   "execution_count": 8,
   "metadata": {},
   "outputs": [
    {
     "data": {
      "text/plain": [
       "32133"
      ]
     },
     "execution_count": 8,
     "metadata": {},
     "output_type": "execute_result"
    }
   ],
   "source": [
    "len(steamGamesDf['item_id'].unique())"
   ]
  },
  {
   "cell_type": "markdown",
   "metadata": {},
   "source": [
    "Creamos un gráfico que nos permita visualizar el top 5 de publishers y developers con más juegos publicados/desarrollados."
   ]
  },
  {
   "cell_type": "code",
   "execution_count": 9,
   "metadata": {},
   "outputs": [
    {
     "data": {
      "image/png": "[encoded data removed]",
      "text/plain": [
       "<Figure size 1200x500 with 2 Axes>"
      ]
     },
     "metadata": {},
     "output_type": "display_data"
    }
   ],
   "source": [
    "# Contar la cantidad de juegos por publisher y developer\n",
    "pubCount = steamGamesDf['publisher'].value_counts()\n",
    "devCount = steamGamesDf['developer'].value_counts()\n",
    "# Creamos la gráfica con dos subplots\n",
    "plt.figure(figsize=(12, 5))\n",
    "# Primer subplot para los publishers\n",
    "plt.subplot(1, 2, 1)\n",
    "pubCount[:5].plot(kind='bar')\n",
    "plt.xlabel('Publisher') ; plt.ylabel('Cantidad de Juegos') ; plt.title('Top 5 Publishers')\n",
    "plt.xticks(rotation=45, ha='right')\n",
    "# Segundo subplot para los developers\n",
    "plt.subplot(1, 2, 2)\n",
    "devCount[:5].plot(kind='bar',)\n",
    "plt.xlabel('Developer') ; plt.ylabel('Cantidad de Juegos') ; plt.title('Top 5 Developers')\n",
    "plt.xticks(rotation=45, ha='right')\n",
    "plt.tight_layout()\n",
    "plt.show()"
   ]
  },
  {
   "cell_type": "markdown",
   "metadata": {},
   "source": [
    "<h3>Steam Games Genres"
   ]
  },
  {
   "cell_type": "markdown",
   "metadata": {},
   "source": [
    "Creamos un gráfico que nos permita observar la cantidad de juegos por cada género. Cabe mencionar que este gráfico toma en cuenta múltiples veces el mismo juego dependiendo de la cantidad de géneros a los que este pertenezca."
   ]
  },
  {
   "cell_type": "code",
   "execution_count": 10,
   "metadata": {},
   "outputs": [
    {
     "data": {
      "image/png": "[encoded data removed]",
      "text/plain": [
       "<Figure size 1000x600 with 1 Axes>"
      ]
     },
     "metadata": {},
     "output_type": "display_data"
    }
   ],
   "source": [
    "plt.figure(figsize = (10, 6))\n",
    "sns.countplot(data = steamGamesGenresExplodedDf, x = 'genres', orient='h')\n",
    "plt.ylabel('Cantidad de Juegos')\n",
    "plt.xlabel('Género')\n",
    "plt.xticks(rotation=45, ha='right')\n",
    "plt.show()"
   ]
  },
  {
   "cell_type": "markdown",
   "metadata": {},
   "source": [
    "Verificamos el conteo de géneros y el porcentaje apoyándomos de la función dataPercentage."
   ]
  },
  {
   "cell_type": "code",
   "execution_count": 11,
   "metadata": {},
   "outputs": [
    {
     "data": {
      "text/html": [
       "<div>\n",
       "<style scoped>\n",
       "    .dataframe tbody tr th:only-of-type {\n",
       "        vertical-align: middle;\n",
       "    }\n",
       "\n",
       "    .dataframe tbody tr th {\n",
       "        vertical-align: top;\n",
       "    }\n",
       "\n",
       "    .dataframe thead th {\n",
       "        text-align: right;\n",
       "    }\n",
       "</style>\n",
       "<table border=\"1\" class=\"dataframe\">\n",
       "  <thead>\n",
       "    <tr style=\"text-align: right;\">\n",
       "      <th></th>\n",
       "      <th>Cantidad</th>\n",
       "      <th>Porcentaje</th>\n",
       "    </tr>\n",
       "    <tr>\n",
       "      <th>genres</th>\n",
       "      <th></th>\n",
       "      <th></th>\n",
       "    </tr>\n",
       "  </thead>\n",
       "  <tbody>\n",
       "    <tr>\n",
       "      <th>Indie</th>\n",
       "      <td>15858</td>\n",
       "      <td>22.16</td>\n",
       "    </tr>\n",
       "    <tr>\n",
       "      <th>Action</th>\n",
       "      <td>11321</td>\n",
       "      <td>15.82</td>\n",
       "    </tr>\n",
       "    <tr>\n",
       "      <th>Casual</th>\n",
       "      <td>8282</td>\n",
       "      <td>11.57</td>\n",
       "    </tr>\n",
       "    <tr>\n",
       "      <th>Adventure</th>\n",
       "      <td>8243</td>\n",
       "      <td>11.52</td>\n",
       "    </tr>\n",
       "    <tr>\n",
       "      <th>Strategy</th>\n",
       "      <td>6957</td>\n",
       "      <td>9.72</td>\n",
       "    </tr>\n",
       "    <tr>\n",
       "      <th>Simulation</th>\n",
       "      <td>6699</td>\n",
       "      <td>9.36</td>\n",
       "    </tr>\n",
       "    <tr>\n",
       "      <th>RPG</th>\n",
       "      <td>5479</td>\n",
       "      <td>7.66</td>\n",
       "    </tr>\n",
       "    <tr>\n",
       "      <th>Free to Play</th>\n",
       "      <td>2031</td>\n",
       "      <td>2.84</td>\n",
       "    </tr>\n",
       "    <tr>\n",
       "      <th>Early Access</th>\n",
       "      <td>1462</td>\n",
       "      <td>2.04</td>\n",
       "    </tr>\n",
       "    <tr>\n",
       "      <th>Sports</th>\n",
       "      <td>1257</td>\n",
       "      <td>1.76</td>\n",
       "    </tr>\n",
       "    <tr>\n",
       "      <th>Massively Multiplayer</th>\n",
       "      <td>1108</td>\n",
       "      <td>1.55</td>\n",
       "    </tr>\n",
       "    <tr>\n",
       "      <th>Racing</th>\n",
       "      <td>1083</td>\n",
       "      <td>1.51</td>\n",
       "    </tr>\n",
       "    <tr>\n",
       "      <th>Design and Illustration</th>\n",
       "      <td>460</td>\n",
       "      <td>0.64</td>\n",
       "    </tr>\n",
       "    <tr>\n",
       "      <th>Utilities</th>\n",
       "      <td>340</td>\n",
       "      <td>0.48</td>\n",
       "    </tr>\n",
       "    <tr>\n",
       "      <th>Web Publishing</th>\n",
       "      <td>268</td>\n",
       "      <td>0.37</td>\n",
       "    </tr>\n",
       "    <tr>\n",
       "      <th>Animation and Modeling</th>\n",
       "      <td>183</td>\n",
       "      <td>0.26</td>\n",
       "    </tr>\n",
       "    <tr>\n",
       "      <th>Education</th>\n",
       "      <td>125</td>\n",
       "      <td>0.17</td>\n",
       "    </tr>\n",
       "    <tr>\n",
       "      <th>Video Production</th>\n",
       "      <td>116</td>\n",
       "      <td>0.16</td>\n",
       "    </tr>\n",
       "    <tr>\n",
       "      <th>Software Training</th>\n",
       "      <td>105</td>\n",
       "      <td>0.15</td>\n",
       "    </tr>\n",
       "    <tr>\n",
       "      <th>Audio Production</th>\n",
       "      <td>93</td>\n",
       "      <td>0.13</td>\n",
       "    </tr>\n",
       "    <tr>\n",
       "      <th>Photo Editing</th>\n",
       "      <td>77</td>\n",
       "      <td>0.11</td>\n",
       "    </tr>\n",
       "    <tr>\n",
       "      <th>Accounting</th>\n",
       "      <td>7</td>\n",
       "      <td>0.01</td>\n",
       "    </tr>\n",
       "  </tbody>\n",
       "</table>\n",
       "</div>"
      ],
      "text/plain": [
       "                         Cantidad  Porcentaje\n",
       "genres                                       \n",
       "Indie                       15858       22.16\n",
       "Action                      11321       15.82\n",
       "Casual                       8282       11.57\n",
       "Adventure                    8243       11.52\n",
       "Strategy                     6957        9.72\n",
       "Simulation                   6699        9.36\n",
       "RPG                          5479        7.66\n",
       "Free to Play                 2031        2.84\n",
       "Early Access                 1462        2.04\n",
       "Sports                       1257        1.76\n",
       "Massively Multiplayer        1108        1.55\n",
       "Racing                       1083        1.51\n",
       "Design and Illustration       460        0.64\n",
       "Utilities                     340        0.48\n",
       "Web Publishing                268        0.37\n",
       "Animation and Modeling        183        0.26\n",
       "Education                     125        0.17\n",
       "Video Production              116        0.16\n",
       "Software Training             105        0.15\n",
       "Audio Production               93        0.13\n",
       "Photo Editing                  77        0.11\n",
       "Accounting                      7        0.01"
      ]
     },
     "execution_count": 11,
     "metadata": {},
     "output_type": "execute_result"
    }
   ],
   "source": [
    "dataPercentage(steamGamesGenresExplodedDf,'genres')"
   ]
  },
  {
   "cell_type": "markdown",
   "metadata": {},
   "source": [
    "Realizamos lo mismo para la columna de 'release_year'. En este caso los valores 0 fueron aquellos que no proporcionaron el dato del año de lanzamiento, o bien, se encontraba en un formato incorrecto."
   ]
  },
  {
   "cell_type": "code",
   "execution_count": 12,
   "metadata": {},
   "outputs": [
    {
     "data": {
      "text/html": [
       "<div>\n",
       "<style scoped>\n",
       "    .dataframe tbody tr th:only-of-type {\n",
       "        vertical-align: middle;\n",
       "    }\n",
       "\n",
       "    .dataframe tbody tr th {\n",
       "        vertical-align: top;\n",
       "    }\n",
       "\n",
       "    .dataframe thead th {\n",
       "        text-align: right;\n",
       "    }\n",
       "</style>\n",
       "<table border=\"1\" class=\"dataframe\">\n",
       "  <thead>\n",
       "    <tr style=\"text-align: right;\">\n",
       "      <th></th>\n",
       "      <th>Cantidad</th>\n",
       "      <th>Porcentaje</th>\n",
       "    </tr>\n",
       "    <tr>\n",
       "      <th>release_year</th>\n",
       "      <th></th>\n",
       "      <th></th>\n",
       "    </tr>\n",
       "  </thead>\n",
       "  <tbody>\n",
       "    <tr>\n",
       "      <th>2017</th>\n",
       "      <td>25101</td>\n",
       "      <td>35.08</td>\n",
       "    </tr>\n",
       "    <tr>\n",
       "      <th>2016</th>\n",
       "      <td>17690</td>\n",
       "      <td>24.72</td>\n",
       "    </tr>\n",
       "    <tr>\n",
       "      <th>2015</th>\n",
       "      <td>12272</td>\n",
       "      <td>17.15</td>\n",
       "    </tr>\n",
       "    <tr>\n",
       "      <th>2014</th>\n",
       "      <td>6367</td>\n",
       "      <td>8.90</td>\n",
       "    </tr>\n",
       "    <tr>\n",
       "      <th>2013</th>\n",
       "      <td>3017</td>\n",
       "      <td>4.22</td>\n",
       "    </tr>\n",
       "    <tr>\n",
       "      <th>2012</th>\n",
       "      <td>2109</td>\n",
       "      <td>2.95</td>\n",
       "    </tr>\n",
       "    <tr>\n",
       "      <th>2011</th>\n",
       "      <td>987</td>\n",
       "      <td>1.38</td>\n",
       "    </tr>\n",
       "    <tr>\n",
       "      <th>2010</th>\n",
       "      <td>663</td>\n",
       "      <td>0.93</td>\n",
       "    </tr>\n",
       "    <tr>\n",
       "      <th>0</th>\n",
       "      <td>543</td>\n",
       "      <td>0.76</td>\n",
       "    </tr>\n",
       "    <tr>\n",
       "      <th>2009</th>\n",
       "      <td>492</td>\n",
       "      <td>0.69</td>\n",
       "    </tr>\n",
       "    <tr>\n",
       "      <th>2018</th>\n",
       "      <td>399</td>\n",
       "      <td>0.56</td>\n",
       "    </tr>\n",
       "    <tr>\n",
       "      <th>2008</th>\n",
       "      <td>332</td>\n",
       "      <td>0.46</td>\n",
       "    </tr>\n",
       "    <tr>\n",
       "      <th>2007</th>\n",
       "      <td>259</td>\n",
       "      <td>0.36</td>\n",
       "    </tr>\n",
       "    <tr>\n",
       "      <th>2006</th>\n",
       "      <td>217</td>\n",
       "      <td>0.30</td>\n",
       "    </tr>\n",
       "    <tr>\n",
       "      <th>2005</th>\n",
       "      <td>139</td>\n",
       "      <td>0.19</td>\n",
       "    </tr>\n",
       "    <tr>\n",
       "      <th>2003</th>\n",
       "      <td>118</td>\n",
       "      <td>0.16</td>\n",
       "    </tr>\n",
       "    <tr>\n",
       "      <th>2001</th>\n",
       "      <td>109</td>\n",
       "      <td>0.15</td>\n",
       "    </tr>\n",
       "    <tr>\n",
       "      <th>2004</th>\n",
       "      <td>92</td>\n",
       "      <td>0.13</td>\n",
       "    </tr>\n",
       "    <tr>\n",
       "      <th>1999</th>\n",
       "      <td>80</td>\n",
       "      <td>0.11</td>\n",
       "    </tr>\n",
       "    <tr>\n",
       "      <th>1998</th>\n",
       "      <td>75</td>\n",
       "      <td>0.10</td>\n",
       "    </tr>\n",
       "  </tbody>\n",
       "</table>\n",
       "</div>"
      ],
      "text/plain": [
       "              Cantidad  Porcentaje\n",
       "release_year                      \n",
       "2017             25101       35.08\n",
       "2016             17690       24.72\n",
       "2015             12272       17.15\n",
       "2014              6367        8.90\n",
       "2013              3017        4.22\n",
       "2012              2109        2.95\n",
       "2011               987        1.38\n",
       "2010               663        0.93\n",
       "0                  543        0.76\n",
       "2009               492        0.69\n",
       "2018               399        0.56\n",
       "2008               332        0.46\n",
       "2007               259        0.36\n",
       "2006               217        0.30\n",
       "2005               139        0.19\n",
       "2003               118        0.16\n",
       "2001               109        0.15\n",
       "2004                92        0.13\n",
       "1999                80        0.11\n",
       "1998                75        0.10"
      ]
     },
     "execution_count": 12,
     "metadata": {},
     "output_type": "execute_result"
    }
   ],
   "source": [
    "dataPercentage(steamGamesGenresExplodedDf,'release_year')[:20]"
   ]
  },
  {
   "cell_type": "markdown",
   "metadata": {},
   "source": [
    "Creamos un gráfico que nos muestre la cantidad de juegos lanzados por año."
   ]
  },
  {
   "cell_type": "code",
   "execution_count": 13,
   "metadata": {},
   "outputs": [
    {
     "data": {
      "image/png": "[encoded data removed]",
      "text/plain": [
       "<Figure size 1400x500 with 1 Axes>"
      ]
     },
     "metadata": {},
     "output_type": "display_data"
    }
   ],
   "source": [
    "# Cuenta la frecuencia de cada año\n",
    "yearCount = steamGamesGenresExplodedDf['release_year'].value_counts().sort_index().rename(index={0: 'Sin Dato'})\n",
    "# Crear la gráfica de barras\n",
    "plt.figure(figsize=(14, 5))\n",
    "sns.barplot(x=yearCount.index, y=yearCount.values)\n",
    "plt.xlabel('Año de Lanzamiento') ; plt.ylabel('juegos')\n",
    "plt.title('Cantidad de juegos por año de lanzamiento')\n",
    "plt.xticks(rotation=45, ha='right')\n",
    "plt.show()"
   ]
  },
  {
   "cell_type": "markdown",
   "metadata": {},
   "source": [
    "<h3>Steam Games Prices"
   ]
  },
  {
   "cell_type": "markdown",
   "metadata": {},
   "source": [
    "Creamos un gráfico que nos muestre la distribución de los precios"
   ]
  },
  {
   "cell_type": "code",
   "execution_count": 14,
   "metadata": {},
   "outputs": [
    {
     "data": {
      "image/png": "[encoded data removed]",
      "text/plain": [
       "<Figure size 1400x500 with 1 Axes>"
      ]
     },
     "metadata": {},
     "output_type": "display_data"
    }
   ],
   "source": [
    "# Creamos un dataframe que contenga los id únicos de los juegos y su respectivo precio\n",
    "pricesDf = steamGamesPriceDf.groupby('item_id')['price'].unique().reset_index().explode('price')\n",
    "# Gráfico de dispersión\n",
    "plt.figure(figsize=(14, 5))\n",
    "sns.stripplot(data=pricesDf, x='price')\n",
    "plt.xlabel('Precio')\n",
    "plt.ylabel('Cantidad de Juegos')\n",
    "plt.title('Distribución de precios de los juegos')\n",
    "# Mostrar el gráfico\n",
    "plt.show()"
   ]
  },
  {
   "cell_type": "markdown",
   "metadata": {},
   "source": [
    "Obtenemos las medidas de tendencia central para los precios de los juegos."
   ]
  },
  {
   "cell_type": "code",
   "execution_count": 15,
   "metadata": {},
   "outputs": [
    {
     "name": "stdout",
     "output_type": "stream",
     "text": [
      "El precio medio (mediana) de los juegos es de: 4.99\n",
      "El precio promedio (mean) de los juegos es de: 8.9\n",
      "El 75% de los juegos tienen un precio menor de: 9.99\n"
     ]
    }
   ],
   "source": [
    "stats = pricesDf['price'].astype(float).describe()\n",
    "print(f'El precio medio (mediana) de los juegos es de: {stats[5]}')\n",
    "print(f'El precio promedio (mean) de los juegos es de: {round(stats[1],2)}')\n",
    "print(f'El 75% de los juegos tienen un precio menor de: {stats[6]}')"
   ]
  },
  {
   "cell_type": "markdown",
   "metadata": {},
   "source": [
    "<h2>Dataset userItems"
   ]
  },
  {
   "cell_type": "markdown",
   "metadata": {},
   "source": [
    "Cargamos los datasets y creamos los dataframes correspondientes."
   ]
  },
  {
   "cell_type": "code",
   "execution_count": 16,
   "metadata": {},
   "outputs": [],
   "source": [
    "userItemsExplodedDf = pd.read_parquet('../data/userItemsExploded.parquet')\n",
    "userItemCountDf = pd.read_parquet('../data/userItemCount.parquet')"
   ]
  },
  {
   "cell_type": "code",
   "execution_count": 17,
   "metadata": {},
   "outputs": [
    {
     "data": {
      "text/html": [
       "<div>\n",
       "<style scoped>\n",
       "    .dataframe tbody tr th:only-of-type {\n",
       "        vertical-align: middle;\n",
       "    }\n",
       "\n",
       "    .dataframe tbody tr th {\n",
       "        vertical-align: top;\n",
       "    }\n",
       "\n",
       "    .dataframe thead th {\n",
       "        text-align: right;\n",
       "    }\n",
       "</style>\n",
       "<table border=\"1\" class=\"dataframe\">\n",
       "  <thead>\n",
       "    <tr style=\"text-align: right;\">\n",
       "      <th></th>\n",
       "      <th>user_id</th>\n",
       "      <th>item_id</th>\n",
       "      <th>playtime</th>\n",
       "    </tr>\n",
       "  </thead>\n",
       "  <tbody>\n",
       "    <tr>\n",
       "      <th>0</th>\n",
       "      <td>76561197970982479</td>\n",
       "      <td>10</td>\n",
       "      <td>0.10</td>\n",
       "    </tr>\n",
       "    <tr>\n",
       "      <th>1</th>\n",
       "      <td>76561197970982479</td>\n",
       "      <td>20</td>\n",
       "      <td>0.00</td>\n",
       "    </tr>\n",
       "    <tr>\n",
       "      <th>2</th>\n",
       "      <td>76561197970982479</td>\n",
       "      <td>30</td>\n",
       "      <td>0.12</td>\n",
       "    </tr>\n",
       "    <tr>\n",
       "      <th>3</th>\n",
       "      <td>76561197970982479</td>\n",
       "      <td>40</td>\n",
       "      <td>0.00</td>\n",
       "    </tr>\n",
       "    <tr>\n",
       "      <th>4</th>\n",
       "      <td>76561197970982479</td>\n",
       "      <td>50</td>\n",
       "      <td>0.00</td>\n",
       "    </tr>\n",
       "  </tbody>\n",
       "</table>\n",
       "</div>"
      ],
      "text/plain": [
       "             user_id item_id  playtime\n",
       "0  76561197970982479      10      0.10\n",
       "1  76561197970982479      20      0.00\n",
       "2  76561197970982479      30      0.12\n",
       "3  76561197970982479      40      0.00\n",
       "4  76561197970982479      50      0.00"
      ]
     },
     "execution_count": 17,
     "metadata": {},
     "output_type": "execute_result"
    }
   ],
   "source": [
    "userItemsExplodedDf.head()"
   ]
  },
  {
   "cell_type": "code",
   "execution_count": 18,
   "metadata": {},
   "outputs": [
    {
     "data": {
      "text/html": [
       "<div>\n",
       "<style scoped>\n",
       "    .dataframe tbody tr th:only-of-type {\n",
       "        vertical-align: middle;\n",
       "    }\n",
       "\n",
       "    .dataframe tbody tr th {\n",
       "        vertical-align: top;\n",
       "    }\n",
       "\n",
       "    .dataframe thead th {\n",
       "        text-align: right;\n",
       "    }\n",
       "</style>\n",
       "<table border=\"1\" class=\"dataframe\">\n",
       "  <thead>\n",
       "    <tr style=\"text-align: right;\">\n",
       "      <th></th>\n",
       "      <th>user_id</th>\n",
       "      <th>items_count</th>\n",
       "    </tr>\n",
       "  </thead>\n",
       "  <tbody>\n",
       "    <tr>\n",
       "      <th>0</th>\n",
       "      <td>76561197970982479</td>\n",
       "      <td>277</td>\n",
       "    </tr>\n",
       "    <tr>\n",
       "      <th>1</th>\n",
       "      <td>js41637</td>\n",
       "      <td>888</td>\n",
       "    </tr>\n",
       "    <tr>\n",
       "      <th>2</th>\n",
       "      <td>evcentric</td>\n",
       "      <td>137</td>\n",
       "    </tr>\n",
       "    <tr>\n",
       "      <th>3</th>\n",
       "      <td>Riot-Punch</td>\n",
       "      <td>328</td>\n",
       "    </tr>\n",
       "    <tr>\n",
       "      <th>4</th>\n",
       "      <td>doctr</td>\n",
       "      <td>541</td>\n",
       "    </tr>\n",
       "  </tbody>\n",
       "</table>\n",
       "</div>"
      ],
      "text/plain": [
       "             user_id  items_count\n",
       "0  76561197970982479          277\n",
       "1            js41637          888\n",
       "2          evcentric          137\n",
       "3         Riot-Punch          328\n",
       "4              doctr          541"
      ]
     },
     "execution_count": 18,
     "metadata": {},
     "output_type": "execute_result"
    }
   ],
   "source": [
    "userItemCountDf.head()"
   ]
  },
  {
   "cell_type": "markdown",
   "metadata": {},
   "source": [
    "Creamos un gráfico que nos permita ver la acumulación de horas jugadas por usuario."
   ]
  },
  {
   "cell_type": "code",
   "execution_count": 19,
   "metadata": {},
   "outputs": [
    {
     "data": {
      "text/plain": [
       "Text(0.5, 1.0, 'Acumulación de horas jugadas')"
      ]
     },
     "execution_count": 19,
     "metadata": {},
     "output_type": "execute_result"
    },
    {
     "data": {
      "image/png": "[encoded data removed]",
      "text/plain": [
       "<Figure size 2500x400 with 1 Axes>"
      ]
     },
     "metadata": {},
     "output_type": "display_data"
    }
   ],
   "source": [
    "hoursPlayed = userItemsExplodedDf.groupby('user_id')['playtime'].sum().reset_index()\n",
    "plt.figure(figsize=(25, 4))\n",
    "sns.stripplot(data= hoursPlayed, x='playtime')\n",
    "plt.xlabel('Horas jugadas')\n",
    "plt.ylabel('Cantidad de usuarios')\n",
    "plt.tight_layout()\n",
    "plt.title('Acumulación de horas jugadas')"
   ]
  },
  {
   "cell_type": "code",
   "execution_count": 20,
   "metadata": {},
   "outputs": [
    {
     "data": {
      "text/plain": [
       "user_id\n",
       "REBAS_AS_F-T         77673.29\n",
       "shinomegami          55058.33\n",
       "Sp3ctre              47047.69\n",
       "DownSyndromeKid      46506.40\n",
       "Terminally-Chill     28900.07\n",
       "                       ...   \n",
       "76561198095784353        0.00\n",
       "76561198095815730        0.00\n",
       "76561198095817502        0.00\n",
       "76561198032143135        0.00\n",
       "76561198065875604        0.00\n",
       "Name: playtime, Length: 87626, dtype: float64"
      ]
     },
     "execution_count": 20,
     "metadata": {},
     "output_type": "execute_result"
    }
   ],
   "source": [
    "\n",
    "userItemsExplodedDf.groupby('user_id')['playtime'].sum().sort_values( ascending=False)"
   ]
  },
  {
   "cell_type": "code",
   "execution_count": 21,
   "metadata": {},
   "outputs": [
    {
     "data": {
      "image/png": "[encoded data removed]",
      "text/plain": [
       "<Figure size 1400x500 with 1 Axes>"
      ]
     },
     "metadata": {},
     "output_type": "display_data"
    }
   ],
   "source": [
    "plt.figure(figsize=(14, 5))\n",
    "userItemsExplodedDf.groupby('user_id')['playtime'].sum().sort_values(ascending=False)[:20].plot(kind='bar')\n",
    "plt.xlabel('Usuario')\n",
    "plt.ylabel('Horas Jugadas')\n",
    "plt.title('Top 20 usuarios con más horas jugadas')\n",
    "plt.xticks(rotation=45, ha='right')\n",
    "plt.show()"
   ]
  },
  {
   "cell_type": "markdown",
   "metadata": {},
   "source": [
    "Obtenemos las medidas de tendencia central del tiempo de juego."
   ]
  },
  {
   "cell_type": "code",
   "execution_count": 22,
   "metadata": {},
   "outputs": [
    {
     "name": "stdout",
     "output_type": "stream",
     "text": [
      "El tiempo de juego medio (mediana) de los juegos es de: 0.57 horas\n",
      "El tiempo de juego promedio (mean) de los juegos es de: 16.52 horas\n",
      "El 75% de los juegos tienen un tiempo de juego menor de: 5.92 horas\n"
     ]
    }
   ],
   "source": [
    "stats = userItemsExplodedDf['playtime'].astype(float).describe()\n",
    "print(f'El tiempo de juego medio (mediana) de los juegos es de: {stats[5]} horas')\n",
    "print(f'El tiempo de juego promedio (mean) de los juegos es de: {round(stats[1],2)} horas')\n",
    "print(f'El 75% de los juegos tienen un tiempo de juego menor de: {stats[6]} horas')"
   ]
  },
  {
   "cell_type": "markdown",
   "metadata": {},
   "source": [
    "<h3> User Item Count"
   ]
  },
  {
   "cell_type": "markdown",
   "metadata": {},
   "source": [
    "Creamos un gráfico que nos permita ver la cantidad de juegos por usuario."
   ]
  },
  {
   "cell_type": "code",
   "execution_count": 23,
   "metadata": {},
   "outputs": [
    {
     "data": {
      "image/png": "[encoded data removed]",
      "text/plain": [
       "<Figure size 2500x400 with 1 Axes>"
      ]
     },
     "metadata": {},
     "output_type": "display_data"
    }
   ],
   "source": [
    "# Agrupa por usuario la cantidad de items, lo conviente en data frame y los ordena de mayor a menor\n",
    "userItemCountDf = userItemCountDf.sort_values('items_count', ascending=False)\n",
    "plt.figure(figsize=(25, 4))\n",
    "sns.stripplot(data=userItemCountDf, x='items_count')\n",
    "plt.xlabel('Cantidad de juegos')\n",
    "plt.ylabel('Cantidad de usuarios')\n",
    "plt.title('Cantidad de juegos por usuarios')\n",
    "plt.tight_layout()\n",
    "plt.show()"
   ]
  },
  {
   "cell_type": "markdown",
   "metadata": {},
   "source": [
    "Obtenemos las medidas de tendencia central de la cantidad de juegos por usuario."
   ]
  },
  {
   "cell_type": "code",
   "execution_count": 24,
   "metadata": {},
   "outputs": [
    {
     "name": "stdout",
     "output_type": "stream",
     "text": [
      "La cantidad media (mediana) de items por persona es de: 26.0\n",
      "La cantidad promedio (mean) de items por persona es de: 58.35\n",
      "El 75% de las personas tienen un total de items menor a: 73.0\n"
     ]
    }
   ],
   "source": [
    "stats = userItemCountDf['items_count'].astype(float).describe()\n",
    "print(f'La cantidad media (mediana) de items por persona es de: {stats[5]}')\n",
    "print(f'La cantidad promedio (mean) de items por persona es de: {round(stats[1],2)}')\n",
    "print(f'El 75% de las personas tienen un total de items menor a: {stats[6]}')"
   ]
  },
  {
   "cell_type": "code",
   "execution_count": 25,
   "metadata": {},
   "outputs": [
    {
     "data": {
      "text/plain": [
       "<Figure size 1400x500 with 0 Axes>"
      ]
     },
     "metadata": {},
     "output_type": "display_data"
    },
    {
     "data": {
      "image/png": "[encoded data removed]",
      "text/plain": [
       "<Figure size 640x480 with 1 Axes>"
      ]
     },
     "metadata": {},
     "output_type": "display_data"
    }
   ],
   "source": [
    "plt.figure(figsize=(14, 5))\n",
    "userItemCountDf[:20].plot(kind='bar')\n",
    "plt.xlabel('Usuario')\n",
    "plt.ylabel('Cantidad de Juegos')\n",
    "plt.title('Top 20 usuarios con más juegos')\n",
    "plt.show()"
   ]
  },
  {
   "cell_type": "markdown",
   "metadata": {},
   "source": [
    "<H2>Dataset userReviews"
   ]
  },
  {
   "cell_type": "markdown",
   "metadata": {},
   "source": [
    "Se leen los datasets y se crean los dataframes correspondientes."
   ]
  },
  {
   "cell_type": "code",
   "execution_count": 26,
   "metadata": {},
   "outputs": [],
   "source": [
    "userReviewsDf=pd.read_parquet('../data/userReviews.parquet')\n",
    "userReviewsExplodedDf=pd.read_parquet('../data/userReviewsExploded.parquet')"
   ]
  },
  {
   "cell_type": "code",
   "execution_count": 27,
   "metadata": {},
   "outputs": [
    {
     "data": {
      "text/html": [
       "<div>\n",
       "<style scoped>\n",
       "    .dataframe tbody tr th:only-of-type {\n",
       "        vertical-align: middle;\n",
       "    }\n",
       "\n",
       "    .dataframe tbody tr th {\n",
       "        vertical-align: top;\n",
       "    }\n",
       "\n",
       "    .dataframe thead th {\n",
       "        text-align: right;\n",
       "    }\n",
       "</style>\n",
       "<table border=\"1\" class=\"dataframe\">\n",
       "  <thead>\n",
       "    <tr style=\"text-align: right;\">\n",
       "      <th></th>\n",
       "      <th>user_id</th>\n",
       "      <th>user_url</th>\n",
       "      <th>reviews</th>\n",
       "    </tr>\n",
       "  </thead>\n",
       "  <tbody>\n",
       "    <tr>\n",
       "      <th>0</th>\n",
       "      <td>76561197970982479</td>\n",
       "      <td>http://steamcommunity.com/profiles/76561197970...</td>\n",
       "      <td>[{'funny': '', 'helpful': 'No ratings yet', 'i...</td>\n",
       "    </tr>\n",
       "    <tr>\n",
       "      <th>1</th>\n",
       "      <td>js41637</td>\n",
       "      <td>http://steamcommunity.com/id/js41637</td>\n",
       "      <td>[{'funny': '', 'helpful': '15 of 20 people (75...</td>\n",
       "    </tr>\n",
       "    <tr>\n",
       "      <th>2</th>\n",
       "      <td>evcentric</td>\n",
       "      <td>http://steamcommunity.com/id/evcentric</td>\n",
       "      <td>[{'funny': '', 'helpful': 'No ratings yet', 'i...</td>\n",
       "    </tr>\n",
       "    <tr>\n",
       "      <th>3</th>\n",
       "      <td>doctr</td>\n",
       "      <td>http://steamcommunity.com/id/doctr</td>\n",
       "      <td>[{'funny': '', 'helpful': '2 of 2 people (100%...</td>\n",
       "    </tr>\n",
       "    <tr>\n",
       "      <th>4</th>\n",
       "      <td>maplemage</td>\n",
       "      <td>http://steamcommunity.com/id/maplemage</td>\n",
       "      <td>[{'funny': '3 people found this review funny',...</td>\n",
       "    </tr>\n",
       "  </tbody>\n",
       "</table>\n",
       "</div>"
      ],
      "text/plain": [
       "             user_id                                           user_url  \\\n",
       "0  76561197970982479  http://steamcommunity.com/profiles/76561197970...   \n",
       "1            js41637               http://steamcommunity.com/id/js41637   \n",
       "2          evcentric             http://steamcommunity.com/id/evcentric   \n",
       "3              doctr                 http://steamcommunity.com/id/doctr   \n",
       "4          maplemage             http://steamcommunity.com/id/maplemage   \n",
       "\n",
       "                                             reviews  \n",
       "0  [{'funny': '', 'helpful': 'No ratings yet', 'i...  \n",
       "1  [{'funny': '', 'helpful': '15 of 20 people (75...  \n",
       "2  [{'funny': '', 'helpful': 'No ratings yet', 'i...  \n",
       "3  [{'funny': '', 'helpful': '2 of 2 people (100%...  \n",
       "4  [{'funny': '3 people found this review funny',...  "
      ]
     },
     "execution_count": 27,
     "metadata": {},
     "output_type": "execute_result"
    }
   ],
   "source": [
    "userReviewsDf.head()"
   ]
  },
  {
   "cell_type": "code",
   "execution_count": 28,
   "metadata": {},
   "outputs": [
    {
     "data": {
      "text/html": [
       "<div>\n",
       "<style scoped>\n",
       "    .dataframe tbody tr th:only-of-type {\n",
       "        vertical-align: middle;\n",
       "    }\n",
       "\n",
       "    .dataframe tbody tr th {\n",
       "        vertical-align: top;\n",
       "    }\n",
       "\n",
       "    .dataframe thead th {\n",
       "        text-align: right;\n",
       "    }\n",
       "</style>\n",
       "<table border=\"1\" class=\"dataframe\">\n",
       "  <thead>\n",
       "    <tr style=\"text-align: right;\">\n",
       "      <th></th>\n",
       "      <th>user_id</th>\n",
       "      <th>recommend</th>\n",
       "      <th>item_id</th>\n",
       "      <th>review_date</th>\n",
       "      <th>review_year</th>\n",
       "      <th>sentiment_analysis</th>\n",
       "    </tr>\n",
       "  </thead>\n",
       "  <tbody>\n",
       "    <tr>\n",
       "      <th>0</th>\n",
       "      <td>76561197970982479</td>\n",
       "      <td>True</td>\n",
       "      <td>1250</td>\n",
       "      <td>2011-11-05</td>\n",
       "      <td>2011</td>\n",
       "      <td>2</td>\n",
       "    </tr>\n",
       "    <tr>\n",
       "      <th>1</th>\n",
       "      <td>76561197970982479</td>\n",
       "      <td>True</td>\n",
       "      <td>22200</td>\n",
       "      <td>2011-07-15</td>\n",
       "      <td>2011</td>\n",
       "      <td>2</td>\n",
       "    </tr>\n",
       "    <tr>\n",
       "      <th>2</th>\n",
       "      <td>76561197970982479</td>\n",
       "      <td>True</td>\n",
       "      <td>43110</td>\n",
       "      <td>2011-04-21</td>\n",
       "      <td>2011</td>\n",
       "      <td>2</td>\n",
       "    </tr>\n",
       "    <tr>\n",
       "      <th>3</th>\n",
       "      <td>js41637</td>\n",
       "      <td>True</td>\n",
       "      <td>251610</td>\n",
       "      <td>2014-06-24</td>\n",
       "      <td>2014</td>\n",
       "      <td>2</td>\n",
       "    </tr>\n",
       "    <tr>\n",
       "      <th>4</th>\n",
       "      <td>js41637</td>\n",
       "      <td>True</td>\n",
       "      <td>227300</td>\n",
       "      <td>2013-09-08</td>\n",
       "      <td>2013</td>\n",
       "      <td>2</td>\n",
       "    </tr>\n",
       "  </tbody>\n",
       "</table>\n",
       "</div>"
      ],
      "text/plain": [
       "             user_id  recommend item_id review_date  review_year  \\\n",
       "0  76561197970982479       True    1250  2011-11-05         2011   \n",
       "1  76561197970982479       True   22200  2011-07-15         2011   \n",
       "2  76561197970982479       True   43110  2011-04-21         2011   \n",
       "3            js41637       True  251610  2014-06-24         2014   \n",
       "4            js41637       True  227300  2013-09-08         2013   \n",
       "\n",
       "  sentiment_analysis  \n",
       "0                  2  \n",
       "1                  2  \n",
       "2                  2  \n",
       "3                  2  \n",
       "4                  2  "
      ]
     },
     "execution_count": 28,
     "metadata": {},
     "output_type": "execute_result"
    }
   ],
   "source": [
    "userReviewsExplodedDf.head()"
   ]
  },
  {
   "cell_type": "markdown",
   "metadata": {},
   "source": [
    "Observamos que existen datos nulos en las columnas de review_date y review_year."
   ]
  },
  {
   "cell_type": "code",
   "execution_count": 29,
   "metadata": {},
   "outputs": [
    {
     "data": {
      "text/html": [
       "<div>\n",
       "<style scoped>\n",
       "    .dataframe tbody tr th:only-of-type {\n",
       "        vertical-align: middle;\n",
       "    }\n",
       "\n",
       "    .dataframe tbody tr th {\n",
       "        vertical-align: top;\n",
       "    }\n",
       "\n",
       "    .dataframe thead th {\n",
       "        text-align: right;\n",
       "    }\n",
       "</style>\n",
       "<table border=\"1\" class=\"dataframe\">\n",
       "  <thead>\n",
       "    <tr style=\"text-align: right;\">\n",
       "      <th></th>\n",
       "      <th>user_id</th>\n",
       "      <th>recommend</th>\n",
       "      <th>item_id</th>\n",
       "      <th>review_date</th>\n",
       "      <th>review_year</th>\n",
       "      <th>sentiment_analysis</th>\n",
       "    </tr>\n",
       "  </thead>\n",
       "  <tbody>\n",
       "    <tr>\n",
       "      <th>41068</th>\n",
       "      <td>76561197988318026</td>\n",
       "      <td>True</td>\n",
       "      <td>440</td>\n",
       "      <td>2010-12-18</td>\n",
       "      <td>2010</td>\n",
       "      <td>2</td>\n",
       "    </tr>\n",
       "    <tr>\n",
       "      <th>29807</th>\n",
       "      <td>farsel</td>\n",
       "      <td>True</td>\n",
       "      <td>24010</td>\n",
       "      <td>2010-11-19</td>\n",
       "      <td>2010</td>\n",
       "      <td>2</td>\n",
       "    </tr>\n",
       "    <tr>\n",
       "      <th>29806</th>\n",
       "      <td>farsel</td>\n",
       "      <td>True</td>\n",
       "      <td>8800</td>\n",
       "      <td>2010-11-24</td>\n",
       "      <td>2010</td>\n",
       "      <td>2</td>\n",
       "    </tr>\n",
       "    <tr>\n",
       "      <th>9683</th>\n",
       "      <td>76561198023634778</td>\n",
       "      <td>True</td>\n",
       "      <td>440</td>\n",
       "      <td>2010-11-26</td>\n",
       "      <td>2010</td>\n",
       "      <td>2</td>\n",
       "    </tr>\n",
       "    <tr>\n",
       "      <th>29802</th>\n",
       "      <td>farsel</td>\n",
       "      <td>True</td>\n",
       "      <td>12900</td>\n",
       "      <td>2010-11-26</td>\n",
       "      <td>2010</td>\n",
       "      <td>2</td>\n",
       "    </tr>\n",
       "    <tr>\n",
       "      <th>...</th>\n",
       "      <td>...</td>\n",
       "      <td>...</td>\n",
       "      <td>...</td>\n",
       "      <td>...</td>\n",
       "      <td>...</td>\n",
       "      <td>...</td>\n",
       "    </tr>\n",
       "    <tr>\n",
       "      <th>59300</th>\n",
       "      <td>76561198312638244</td>\n",
       "      <td>True</td>\n",
       "      <td>70</td>\n",
       "      <td>NaT</td>\n",
       "      <td>&lt;NA&gt;</td>\n",
       "      <td>2</td>\n",
       "    </tr>\n",
       "    <tr>\n",
       "      <th>59301</th>\n",
       "      <td>76561198312638244</td>\n",
       "      <td>True</td>\n",
       "      <td>362890</td>\n",
       "      <td>NaT</td>\n",
       "      <td>&lt;NA&gt;</td>\n",
       "      <td>2</td>\n",
       "    </tr>\n",
       "    <tr>\n",
       "      <th>59302</th>\n",
       "      <td>LydiaMorley</td>\n",
       "      <td>True</td>\n",
       "      <td>273110</td>\n",
       "      <td>NaT</td>\n",
       "      <td>&lt;NA&gt;</td>\n",
       "      <td>2</td>\n",
       "    </tr>\n",
       "    <tr>\n",
       "      <th>59303</th>\n",
       "      <td>LydiaMorley</td>\n",
       "      <td>True</td>\n",
       "      <td>730</td>\n",
       "      <td>NaT</td>\n",
       "      <td>&lt;NA&gt;</td>\n",
       "      <td>2</td>\n",
       "    </tr>\n",
       "    <tr>\n",
       "      <th>59304</th>\n",
       "      <td>LydiaMorley</td>\n",
       "      <td>True</td>\n",
       "      <td>440</td>\n",
       "      <td>NaT</td>\n",
       "      <td>&lt;NA&gt;</td>\n",
       "      <td>2</td>\n",
       "    </tr>\n",
       "  </tbody>\n",
       "</table>\n",
       "<p>59305 rows × 6 columns</p>\n",
       "</div>"
      ],
      "text/plain": [
       "                 user_id  recommend item_id review_date  review_year  \\\n",
       "41068  76561197988318026       True     440  2010-12-18         2010   \n",
       "29807             farsel       True   24010  2010-11-19         2010   \n",
       "29806             farsel       True    8800  2010-11-24         2010   \n",
       "9683   76561198023634778       True     440  2010-11-26         2010   \n",
       "29802             farsel       True   12900  2010-11-26         2010   \n",
       "...                  ...        ...     ...         ...          ...   \n",
       "59300  76561198312638244       True      70         NaT         <NA>   \n",
       "59301  76561198312638244       True  362890         NaT         <NA>   \n",
       "59302        LydiaMorley       True  273110         NaT         <NA>   \n",
       "59303        LydiaMorley       True     730         NaT         <NA>   \n",
       "59304        LydiaMorley       True     440         NaT         <NA>   \n",
       "\n",
       "      sentiment_analysis  \n",
       "41068                  2  \n",
       "29807                  2  \n",
       "29806                  2  \n",
       "9683                   2  \n",
       "29802                  2  \n",
       "...                  ...  \n",
       "59300                  2  \n",
       "59301                  2  \n",
       "59302                  2  \n",
       "59303                  2  \n",
       "59304                  2  \n",
       "\n",
       "[59305 rows x 6 columns]"
      ]
     },
     "execution_count": 29,
     "metadata": {},
     "output_type": "execute_result"
    }
   ],
   "source": [
    "userReviewsExplodedDf.sort_values(by='review_year')"
   ]
  },
  {
   "cell_type": "code",
   "execution_count": 30,
   "metadata": {},
   "outputs": [
    {
     "data": {
      "text/html": [
       "<div>\n",
       "<style scoped>\n",
       "    .dataframe tbody tr th:only-of-type {\n",
       "        vertical-align: middle;\n",
       "    }\n",
       "\n",
       "    .dataframe tbody tr th {\n",
       "        vertical-align: top;\n",
       "    }\n",
       "\n",
       "    .dataframe thead th {\n",
       "        text-align: right;\n",
       "    }\n",
       "</style>\n",
       "<table border=\"1\" class=\"dataframe\">\n",
       "  <thead>\n",
       "    <tr style=\"text-align: right;\">\n",
       "      <th></th>\n",
       "      <th>name</th>\n",
       "      <th>data_type</th>\n",
       "      <th>not_null_%</th>\n",
       "      <th>null_%</th>\n",
       "      <th>null</th>\n",
       "    </tr>\n",
       "  </thead>\n",
       "  <tbody>\n",
       "    <tr>\n",
       "      <th>0</th>\n",
       "      <td>user_id</td>\n",
       "      <td>[&lt;class 'str'&gt;]</td>\n",
       "      <td>100.00</td>\n",
       "      <td>0.00</td>\n",
       "      <td>0</td>\n",
       "    </tr>\n",
       "    <tr>\n",
       "      <th>1</th>\n",
       "      <td>recommend</td>\n",
       "      <td>[&lt;class 'bool'&gt;]</td>\n",
       "      <td>100.00</td>\n",
       "      <td>0.00</td>\n",
       "      <td>0</td>\n",
       "    </tr>\n",
       "    <tr>\n",
       "      <th>2</th>\n",
       "      <td>item_id</td>\n",
       "      <td>[&lt;class 'str'&gt;]</td>\n",
       "      <td>100.00</td>\n",
       "      <td>0.00</td>\n",
       "      <td>0</td>\n",
       "    </tr>\n",
       "    <tr>\n",
       "      <th>3</th>\n",
       "      <td>review_date</td>\n",
       "      <td>[&lt;class 'pandas._libs.tslibs.timestamps.Timest...</td>\n",
       "      <td>82.94</td>\n",
       "      <td>17.06</td>\n",
       "      <td>10119</td>\n",
       "    </tr>\n",
       "    <tr>\n",
       "      <th>4</th>\n",
       "      <td>review_year</td>\n",
       "      <td>[&lt;class 'int'&gt;, &lt;class 'pandas._libs.missing.N...</td>\n",
       "      <td>82.94</td>\n",
       "      <td>17.06</td>\n",
       "      <td>10119</td>\n",
       "    </tr>\n",
       "    <tr>\n",
       "      <th>5</th>\n",
       "      <td>sentiment_analysis</td>\n",
       "      <td>[&lt;class 'str'&gt;]</td>\n",
       "      <td>100.00</td>\n",
       "      <td>0.00</td>\n",
       "      <td>0</td>\n",
       "    </tr>\n",
       "  </tbody>\n",
       "</table>\n",
       "</div>"
      ],
      "text/plain": [
       "                 name                                          data_type  \\\n",
       "0             user_id                                    [<class 'str'>]   \n",
       "1           recommend                                   [<class 'bool'>]   \n",
       "2             item_id                                    [<class 'str'>]   \n",
       "3         review_date  [<class 'pandas._libs.tslibs.timestamps.Timest...   \n",
       "4         review_year  [<class 'int'>, <class 'pandas._libs.missing.N...   \n",
       "5  sentiment_analysis                                    [<class 'str'>]   \n",
       "\n",
       "   not_null_%  null_%   null  \n",
       "0      100.00    0.00      0  \n",
       "1      100.00    0.00      0  \n",
       "2      100.00    0.00      0  \n",
       "3       82.94   17.06  10119  \n",
       "4       82.94   17.06  10119  \n",
       "5      100.00    0.00      0  "
      ]
     },
     "execution_count": 30,
     "metadata": {},
     "output_type": "execute_result"
    }
   ],
   "source": [
    "dataType(userReviewsExplodedDf)"
   ]
  },
  {
   "cell_type": "code",
   "execution_count": 31,
   "metadata": {},
   "outputs": [
    {
     "data": {
      "text/plain": [
       "<IntegerArray>\n",
       "[2011, 2014, 2013, <NA>, 2015, 2012, 2010]\n",
       "Length: 7, dtype: Int64"
      ]
     },
     "execution_count": 31,
     "metadata": {},
     "output_type": "execute_result"
    }
   ],
   "source": [
    "userReviewsExplodedDf['review_year'].unique()"
   ]
  },
  {
   "cell_type": "markdown",
   "metadata": {},
   "source": [
    "Del dataframe userReviews extraemos un ejemplo de la reseña de un usuario que cuenta con datos de fecha nulos en el dataframe userReviewsExploded. Se concluye que los registros al no tener año fueron probablemente publicados el año del corte."
   ]
  },
  {
   "cell_type": "code",
   "execution_count": 32,
   "metadata": {},
   "outputs": [
    {
     "name": "stdout",
     "output_type": "stream",
     "text": [
      "Posted July 8.\n"
     ]
    }
   ],
   "source": [
    "reviews = userReviewsDf[userReviewsDf['user_id'] == '76561198312638244']['reviews'].explode().reset_index(drop=True)\n",
    "response = (pd.DataFrame(reviews)).iloc[3,0]\n",
    "print(response['posted'])"
   ]
  },
  {
   "cell_type": "markdown",
   "metadata": {},
   "source": [
    "Se revisan los porcentajes de datos de las columnas 'sentiment_analysis' y 'recommend'"
   ]
  },
  {
   "cell_type": "code",
   "execution_count": 33,
   "metadata": {},
   "outputs": [
    {
     "data": {
      "text/html": [
       "<div>\n",
       "<style scoped>\n",
       "    .dataframe tbody tr th:only-of-type {\n",
       "        vertical-align: middle;\n",
       "    }\n",
       "\n",
       "    .dataframe tbody tr th {\n",
       "        vertical-align: top;\n",
       "    }\n",
       "\n",
       "    .dataframe thead th {\n",
       "        text-align: right;\n",
       "    }\n",
       "</style>\n",
       "<table border=\"1\" class=\"dataframe\">\n",
       "  <thead>\n",
       "    <tr style=\"text-align: right;\">\n",
       "      <th></th>\n",
       "      <th>Cantidad</th>\n",
       "      <th>Porcentaje</th>\n",
       "    </tr>\n",
       "    <tr>\n",
       "      <th>sentiment_analysis</th>\n",
       "      <th></th>\n",
       "      <th></th>\n",
       "    </tr>\n",
       "  </thead>\n",
       "  <tbody>\n",
       "    <tr>\n",
       "      <th>2</th>\n",
       "      <td>37417</td>\n",
       "      <td>63.09</td>\n",
       "    </tr>\n",
       "    <tr>\n",
       "      <th>1</th>\n",
       "      <td>12276</td>\n",
       "      <td>20.70</td>\n",
       "    </tr>\n",
       "    <tr>\n",
       "      <th>0</th>\n",
       "      <td>9612</td>\n",
       "      <td>16.21</td>\n",
       "    </tr>\n",
       "  </tbody>\n",
       "</table>\n",
       "</div>"
      ],
      "text/plain": [
       "                    Cantidad  Porcentaje\n",
       "sentiment_analysis                      \n",
       "2                      37417       63.09\n",
       "1                      12276       20.70\n",
       "0                       9612       16.21"
      ]
     },
     "execution_count": 33,
     "metadata": {},
     "output_type": "execute_result"
    }
   ],
   "source": [
    "dataPercentage(userReviewsExplodedDf,'sentiment_analysis')"
   ]
  },
  {
   "cell_type": "code",
   "execution_count": 34,
   "metadata": {},
   "outputs": [
    {
     "data": {
      "text/html": [
       "<div>\n",
       "<style scoped>\n",
       "    .dataframe tbody tr th:only-of-type {\n",
       "        vertical-align: middle;\n",
       "    }\n",
       "\n",
       "    .dataframe tbody tr th {\n",
       "        vertical-align: top;\n",
       "    }\n",
       "\n",
       "    .dataframe thead th {\n",
       "        text-align: right;\n",
       "    }\n",
       "</style>\n",
       "<table border=\"1\" class=\"dataframe\">\n",
       "  <thead>\n",
       "    <tr style=\"text-align: right;\">\n",
       "      <th></th>\n",
       "      <th>Cantidad</th>\n",
       "      <th>Porcentaje</th>\n",
       "    </tr>\n",
       "    <tr>\n",
       "      <th>recommend</th>\n",
       "      <th></th>\n",
       "      <th></th>\n",
       "    </tr>\n",
       "  </thead>\n",
       "  <tbody>\n",
       "    <tr>\n",
       "      <th>True</th>\n",
       "      <td>52473</td>\n",
       "      <td>88.48</td>\n",
       "    </tr>\n",
       "    <tr>\n",
       "      <th>False</th>\n",
       "      <td>6832</td>\n",
       "      <td>11.52</td>\n",
       "    </tr>\n",
       "  </tbody>\n",
       "</table>\n",
       "</div>"
      ],
      "text/plain": [
       "           Cantidad  Porcentaje\n",
       "recommend                      \n",
       "True          52473       88.48\n",
       "False          6832       11.52"
      ]
     },
     "execution_count": 34,
     "metadata": {},
     "output_type": "execute_result"
    }
   ],
   "source": [
    "dataPercentage(userReviewsExplodedDf,'recommend')"
   ]
  },
  {
   "cell_type": "markdown",
   "metadata": {},
   "source": [
    "Se crea un dataframe que nos muestre las combinaciones de análisis de sentimiento y recomendación, tanto sus conteos como sus porcentajes."
   ]
  },
  {
   "cell_type": "code",
   "execution_count": 35,
   "metadata": {},
   "outputs": [
    {
     "data": {
      "text/html": [
       "<div>\n",
       "<style scoped>\n",
       "    .dataframe tbody tr th:only-of-type {\n",
       "        vertical-align: middle;\n",
       "    }\n",
       "\n",
       "    .dataframe tbody tr th {\n",
       "        vertical-align: top;\n",
       "    }\n",
       "\n",
       "    .dataframe thead th {\n",
       "        text-align: right;\n",
       "    }\n",
       "</style>\n",
       "<table border=\"1\" class=\"dataframe\">\n",
       "  <thead>\n",
       "    <tr style=\"text-align: right;\">\n",
       "      <th></th>\n",
       "      <th></th>\n",
       "      <th>Cantidad</th>\n",
       "      <th>Porcentaje</th>\n",
       "    </tr>\n",
       "    <tr>\n",
       "      <th>sentiment_analysis</th>\n",
       "      <th>recommend</th>\n",
       "      <th></th>\n",
       "      <th></th>\n",
       "    </tr>\n",
       "  </thead>\n",
       "  <tbody>\n",
       "    <tr>\n",
       "      <th rowspan=\"2\" valign=\"top\">0</th>\n",
       "      <th>False</th>\n",
       "      <td>2913</td>\n",
       "      <td>4.911896</td>\n",
       "    </tr>\n",
       "    <tr>\n",
       "      <th>True</th>\n",
       "      <td>6699</td>\n",
       "      <td>11.295844</td>\n",
       "    </tr>\n",
       "    <tr>\n",
       "      <th rowspan=\"2\" valign=\"top\">1</th>\n",
       "      <th>False</th>\n",
       "      <td>1488</td>\n",
       "      <td>2.509063</td>\n",
       "    </tr>\n",
       "    <tr>\n",
       "      <th>True</th>\n",
       "      <td>10788</td>\n",
       "      <td>18.190709</td>\n",
       "    </tr>\n",
       "    <tr>\n",
       "      <th rowspan=\"2\" valign=\"top\">2</th>\n",
       "      <th>False</th>\n",
       "      <td>2431</td>\n",
       "      <td>4.099148</td>\n",
       "    </tr>\n",
       "    <tr>\n",
       "      <th>True</th>\n",
       "      <td>34986</td>\n",
       "      <td>58.993340</td>\n",
       "    </tr>\n",
       "  </tbody>\n",
       "</table>\n",
       "</div>"
      ],
      "text/plain": [
       "                              Cantidad  Porcentaje\n",
       "sentiment_analysis recommend                      \n",
       "0                  False          2913    4.911896\n",
       "                   True           6699   11.295844\n",
       "1                  False          1488    2.509063\n",
       "                   True          10788   18.190709\n",
       "2                  False          2431    4.099148\n",
       "                   True          34986   58.993340"
      ]
     },
     "execution_count": 35,
     "metadata": {},
     "output_type": "execute_result"
    }
   ],
   "source": [
    "# Dataframe agrupado\n",
    "groupedDf = userReviewsExplodedDf.groupby(['sentiment_analysis', 'recommend'])\n",
    "# Cantidad de reviews\n",
    "groupedDfSize = groupedDf.size()\n",
    "# Porcentaje\n",
    "groupedDfPercent = 100 * groupedDf.size() / len(userReviewsExplodedDf)\n",
    "# Resumen\n",
    "recommendAnalysis = pd.DataFrame({\n",
    "    \"Cantidad\": groupedDfSize,\n",
    "    \"Porcentaje\": groupedDfPercent\n",
    "})\n",
    "recommendAnalysis"
   ]
  },
  {
   "cell_type": "markdown",
   "metadata": {},
   "source": [
    "Se consulta la cantidad de usuarios únicos que comentaron."
   ]
  },
  {
   "cell_type": "code",
   "execution_count": 36,
   "metadata": {},
   "outputs": [
    {
     "data": {
      "text/plain": [
       "25458"
      ]
     },
     "execution_count": 36,
     "metadata": {},
     "output_type": "execute_result"
    }
   ],
   "source": [
    "len(userReviewsExplodedDf['user_id'].unique())"
   ]
  },
  {
   "cell_type": "markdown",
   "metadata": {},
   "source": [
    "Creamos una gráfica con la cantidad de reseñas por fecha utilizando un dataframe que no contenga las reseñas con datos de fecha nulos."
   ]
  },
  {
   "cell_type": "code",
   "execution_count": 37,
   "metadata": {},
   "outputs": [
    {
     "data": {
      "image/png": "[encoded data removed]",
      "text/plain": [
       "<Figure size 1500x400 with 1 Axes>"
      ]
     },
     "metadata": {},
     "output_type": "display_data"
    }
   ],
   "source": [
    "# Dataframe sin datos nulos\n",
    "df = pd.DataFrame(userReviewsExplodedDf.dropna())\n",
    "# Agrupación por 'review_date'\n",
    "dfCounts = df.groupby('review_date').count()\n",
    "# Creación de gráfica\n",
    "plt.figure(figsize = (15, 4))\n",
    "sns.lineplot(data = dfCounts, x = 'review_date', y = 'recommend')\n",
    "plt.xlabel('Fecha')\n",
    "plt.ylabel('Cantidad de reviews')\n",
    "plt.show()"
   ]
  },
  {
   "cell_type": "markdown",
   "metadata": {},
   "source": [
    "<h2>Preparación Machine Learning"
   ]
  },
  {
   "cell_type": "markdown",
   "metadata": {},
   "source": [
    "Se propone crear un modelo de recomendación item-item en donde se ingrese el nombre de un juego y recomienden juegos similares. Para esto se tomarán en cuenta la similitud en cuanto a género, el porcentaje de recomendación, la puntuación de sentimiento promedio, y el número de reseñas."
   ]
  },
  {
   "cell_type": "code",
   "execution_count": 38,
   "metadata": {},
   "outputs": [],
   "source": [
    "userReviewsExplodedDf = pd.read_parquet('../data/userReviewsExploded.parquet')\n",
    "userReviewsExplodedDf = userReviewsExplodedDf[['user_id', 'item_id', 'recommend', 'sentiment_analysis']]\n",
    "steamGamesGenresDf = pd.read_parquet('../data/steamGamesGenres.parquet')\n",
    "steamGamesGenresDf = steamGamesGenresDf[['item_id', 'genres']]\n",
    "steamGamesDf = pd.read_parquet('../data/steamGames.parquet')\n",
    "steamGamesDf = steamGamesDf[['item_id', 'app_name']]"
   ]
  },
  {
   "cell_type": "code",
   "execution_count": 39,
   "metadata": {},
   "outputs": [
    {
     "data": {
      "text/html": [
       "<div>\n",
       "<style scoped>\n",
       "    .dataframe tbody tr th:only-of-type {\n",
       "        vertical-align: middle;\n",
       "    }\n",
       "\n",
       "    .dataframe tbody tr th {\n",
       "        vertical-align: top;\n",
       "    }\n",
       "\n",
       "    .dataframe thead th {\n",
       "        text-align: right;\n",
       "    }\n",
       "</style>\n",
       "<table border=\"1\" class=\"dataframe\">\n",
       "  <thead>\n",
       "    <tr style=\"text-align: right;\">\n",
       "      <th></th>\n",
       "      <th>item_id</th>\n",
       "      <th>app_name</th>\n",
       "    </tr>\n",
       "  </thead>\n",
       "  <tbody>\n",
       "    <tr>\n",
       "      <th>0</th>\n",
       "      <td>761140</td>\n",
       "      <td>Lost Summoner Kitty</td>\n",
       "    </tr>\n",
       "    <tr>\n",
       "      <th>1</th>\n",
       "      <td>643980</td>\n",
       "      <td>Ironbound</td>\n",
       "    </tr>\n",
       "    <tr>\n",
       "      <th>2</th>\n",
       "      <td>670290</td>\n",
       "      <td>Real Pool 3D - Poolians</td>\n",
       "    </tr>\n",
       "    <tr>\n",
       "      <th>3</th>\n",
       "      <td>767400</td>\n",
       "      <td>弹炸人2222</td>\n",
       "    </tr>\n",
       "    <tr>\n",
       "      <th>4</th>\n",
       "      <td>773570</td>\n",
       "      <td>Log Challenge</td>\n",
       "    </tr>\n",
       "  </tbody>\n",
       "</table>\n",
       "</div>"
      ],
      "text/plain": [
       "  item_id                 app_name\n",
       "0  761140      Lost Summoner Kitty\n",
       "1  643980                Ironbound\n",
       "2  670290  Real Pool 3D - Poolians\n",
       "3  767400                  弹炸人2222\n",
       "4  773570            Log Challenge"
      ]
     },
     "execution_count": 39,
     "metadata": {},
     "output_type": "execute_result"
    }
   ],
   "source": [
    "steamGamesDf.head()"
   ]
  },
  {
   "cell_type": "code",
   "execution_count": 40,
   "metadata": {},
   "outputs": [
    {
     "data": {
      "text/html": [
       "<div>\n",
       "<style scoped>\n",
       "    .dataframe tbody tr th:only-of-type {\n",
       "        vertical-align: middle;\n",
       "    }\n",
       "\n",
       "    .dataframe tbody tr th {\n",
       "        vertical-align: top;\n",
       "    }\n",
       "\n",
       "    .dataframe thead th {\n",
       "        text-align: right;\n",
       "    }\n",
       "</style>\n",
       "<table border=\"1\" class=\"dataframe\">\n",
       "  <thead>\n",
       "    <tr style=\"text-align: right;\">\n",
       "      <th></th>\n",
       "      <th>user_id</th>\n",
       "      <th>item_id</th>\n",
       "      <th>recommend</th>\n",
       "      <th>sentiment_analysis</th>\n",
       "    </tr>\n",
       "  </thead>\n",
       "  <tbody>\n",
       "    <tr>\n",
       "      <th>0</th>\n",
       "      <td>76561197970982479</td>\n",
       "      <td>1250</td>\n",
       "      <td>True</td>\n",
       "      <td>2</td>\n",
       "    </tr>\n",
       "    <tr>\n",
       "      <th>1</th>\n",
       "      <td>76561197970982479</td>\n",
       "      <td>22200</td>\n",
       "      <td>True</td>\n",
       "      <td>2</td>\n",
       "    </tr>\n",
       "    <tr>\n",
       "      <th>2</th>\n",
       "      <td>76561197970982479</td>\n",
       "      <td>43110</td>\n",
       "      <td>True</td>\n",
       "      <td>2</td>\n",
       "    </tr>\n",
       "    <tr>\n",
       "      <th>3</th>\n",
       "      <td>js41637</td>\n",
       "      <td>251610</td>\n",
       "      <td>True</td>\n",
       "      <td>2</td>\n",
       "    </tr>\n",
       "    <tr>\n",
       "      <th>4</th>\n",
       "      <td>js41637</td>\n",
       "      <td>227300</td>\n",
       "      <td>True</td>\n",
       "      <td>2</td>\n",
       "    </tr>\n",
       "  </tbody>\n",
       "</table>\n",
       "</div>"
      ],
      "text/plain": [
       "             user_id item_id  recommend sentiment_analysis\n",
       "0  76561197970982479    1250       True                  2\n",
       "1  76561197970982479   22200       True                  2\n",
       "2  76561197970982479   43110       True                  2\n",
       "3            js41637  251610       True                  2\n",
       "4            js41637  227300       True                  2"
      ]
     },
     "execution_count": 40,
     "metadata": {},
     "output_type": "execute_result"
    }
   ],
   "source": [
    "userReviewsExplodedDf.head()"
   ]
  },
  {
   "cell_type": "code",
   "execution_count": 41,
   "metadata": {},
   "outputs": [
    {
     "data": {
      "text/html": [
       "<div>\n",
       "<style scoped>\n",
       "    .dataframe tbody tr th:only-of-type {\n",
       "        vertical-align: middle;\n",
       "    }\n",
       "\n",
       "    .dataframe tbody tr th {\n",
       "        vertical-align: top;\n",
       "    }\n",
       "\n",
       "    .dataframe thead th {\n",
       "        text-align: right;\n",
       "    }\n",
       "</style>\n",
       "<table border=\"1\" class=\"dataframe\">\n",
       "  <thead>\n",
       "    <tr style=\"text-align: right;\">\n",
       "      <th></th>\n",
       "      <th>item_id</th>\n",
       "      <th>genres</th>\n",
       "    </tr>\n",
       "  </thead>\n",
       "  <tbody>\n",
       "    <tr>\n",
       "      <th>0</th>\n",
       "      <td>761140</td>\n",
       "      <td>[Action, Casual, Indie, Simulation, Strategy]</td>\n",
       "    </tr>\n",
       "    <tr>\n",
       "      <th>1</th>\n",
       "      <td>643980</td>\n",
       "      <td>[Free to Play, Indie, RPG, Strategy]</td>\n",
       "    </tr>\n",
       "    <tr>\n",
       "      <th>2</th>\n",
       "      <td>670290</td>\n",
       "      <td>[Casual, Free to Play, Indie, Simulation, Sports]</td>\n",
       "    </tr>\n",
       "    <tr>\n",
       "      <th>3</th>\n",
       "      <td>767400</td>\n",
       "      <td>[Action, Adventure, Casual]</td>\n",
       "    </tr>\n",
       "    <tr>\n",
       "      <th>4</th>\n",
       "      <td>772540</td>\n",
       "      <td>[Action, Adventure, Simulation]</td>\n",
       "    </tr>\n",
       "  </tbody>\n",
       "</table>\n",
       "</div>"
      ],
      "text/plain": [
       "  item_id                                             genres\n",
       "0  761140      [Action, Casual, Indie, Simulation, Strategy]\n",
       "1  643980               [Free to Play, Indie, RPG, Strategy]\n",
       "2  670290  [Casual, Free to Play, Indie, Simulation, Sports]\n",
       "3  767400                        [Action, Adventure, Casual]\n",
       "4  772540                    [Action, Adventure, Simulation]"
      ]
     },
     "execution_count": 41,
     "metadata": {},
     "output_type": "execute_result"
    }
   ],
   "source": [
    "steamGamesGenresDf.head()"
   ]
  },
  {
   "cell_type": "markdown",
   "metadata": {},
   "source": [
    "Se realizan las transformaciones correspondiente y se crea un dataframe para ser utilizado por el modelo de recomendación."
   ]
  },
  {
   "cell_type": "code",
   "execution_count": 42,
   "metadata": {},
   "outputs": [],
   "source": [
    "# Se convierte el análisis de sentimiento a tipo int\n",
    "userReviewsExplodedDf['sentiment_analysis'] = userReviewsExplodedDf['sentiment_analysis'].astype(int)\n",
    "# Se crea un dataframe uniendo las reseñas a los juegos correspondientes\n",
    "machineLearningDf = pd.merge(userReviewsExplodedDf, steamGamesDf, how='left', on='item_id')"
   ]
  },
  {
   "cell_type": "code",
   "execution_count": 43,
   "metadata": {},
   "outputs": [
    {
     "data": {
      "text/html": [
       "<div>\n",
       "<style scoped>\n",
       "    .dataframe tbody tr th:only-of-type {\n",
       "        vertical-align: middle;\n",
       "    }\n",
       "\n",
       "    .dataframe tbody tr th {\n",
       "        vertical-align: top;\n",
       "    }\n",
       "\n",
       "    .dataframe thead th {\n",
       "        text-align: right;\n",
       "    }\n",
       "</style>\n",
       "<table border=\"1\" class=\"dataframe\">\n",
       "  <thead>\n",
       "    <tr style=\"text-align: right;\">\n",
       "      <th></th>\n",
       "      <th>user_id</th>\n",
       "      <th>item_id</th>\n",
       "      <th>recommend</th>\n",
       "      <th>sentiment_analysis</th>\n",
       "      <th>app_name</th>\n",
       "    </tr>\n",
       "  </thead>\n",
       "  <tbody>\n",
       "    <tr>\n",
       "      <th>0</th>\n",
       "      <td>76561197970982479</td>\n",
       "      <td>1250</td>\n",
       "      <td>True</td>\n",
       "      <td>2</td>\n",
       "      <td>Killing Floor</td>\n",
       "    </tr>\n",
       "    <tr>\n",
       "      <th>1</th>\n",
       "      <td>76561197970982479</td>\n",
       "      <td>22200</td>\n",
       "      <td>True</td>\n",
       "      <td>2</td>\n",
       "      <td>Zeno Clash</td>\n",
       "    </tr>\n",
       "    <tr>\n",
       "      <th>2</th>\n",
       "      <td>76561197970982479</td>\n",
       "      <td>43110</td>\n",
       "      <td>True</td>\n",
       "      <td>2</td>\n",
       "      <td>NaN</td>\n",
       "    </tr>\n",
       "    <tr>\n",
       "      <th>3</th>\n",
       "      <td>js41637</td>\n",
       "      <td>251610</td>\n",
       "      <td>True</td>\n",
       "      <td>2</td>\n",
       "      <td>NaN</td>\n",
       "    </tr>\n",
       "    <tr>\n",
       "      <th>4</th>\n",
       "      <td>js41637</td>\n",
       "      <td>227300</td>\n",
       "      <td>True</td>\n",
       "      <td>2</td>\n",
       "      <td>Euro Truck Simulator 2</td>\n",
       "    </tr>\n",
       "  </tbody>\n",
       "</table>\n",
       "</div>"
      ],
      "text/plain": [
       "             user_id item_id  recommend  sentiment_analysis  \\\n",
       "0  76561197970982479    1250       True                   2   \n",
       "1  76561197970982479   22200       True                   2   \n",
       "2  76561197970982479   43110       True                   2   \n",
       "3            js41637  251610       True                   2   \n",
       "4            js41637  227300       True                   2   \n",
       "\n",
       "                 app_name  \n",
       "0           Killing Floor  \n",
       "1              Zeno Clash  \n",
       "2                     NaN  \n",
       "3                     NaN  \n",
       "4  Euro Truck Simulator 2  "
      ]
     },
     "execution_count": 43,
     "metadata": {},
     "output_type": "execute_result"
    }
   ],
   "source": [
    "machineLearningDf.head()"
   ]
  },
  {
   "cell_type": "markdown",
   "metadata": {},
   "source": [
    "Verificamos los datos nulos y eliminamos los juegos que no tienen nombre asignado."
   ]
  },
  {
   "cell_type": "code",
   "execution_count": 44,
   "metadata": {},
   "outputs": [
    {
     "data": {
      "text/html": [
       "<div>\n",
       "<style scoped>\n",
       "    .dataframe tbody tr th:only-of-type {\n",
       "        vertical-align: middle;\n",
       "    }\n",
       "\n",
       "    .dataframe tbody tr th {\n",
       "        vertical-align: top;\n",
       "    }\n",
       "\n",
       "    .dataframe thead th {\n",
       "        text-align: right;\n",
       "    }\n",
       "</style>\n",
       "<table border=\"1\" class=\"dataframe\">\n",
       "  <thead>\n",
       "    <tr style=\"text-align: right;\">\n",
       "      <th></th>\n",
       "      <th>name</th>\n",
       "      <th>data_type</th>\n",
       "      <th>not_null_%</th>\n",
       "      <th>null_%</th>\n",
       "      <th>null</th>\n",
       "    </tr>\n",
       "  </thead>\n",
       "  <tbody>\n",
       "    <tr>\n",
       "      <th>0</th>\n",
       "      <td>user_id</td>\n",
       "      <td>[&lt;class 'str'&gt;]</td>\n",
       "      <td>100.00</td>\n",
       "      <td>0.00</td>\n",
       "      <td>0</td>\n",
       "    </tr>\n",
       "    <tr>\n",
       "      <th>1</th>\n",
       "      <td>item_id</td>\n",
       "      <td>[&lt;class 'str'&gt;]</td>\n",
       "      <td>100.00</td>\n",
       "      <td>0.00</td>\n",
       "      <td>0</td>\n",
       "    </tr>\n",
       "    <tr>\n",
       "      <th>2</th>\n",
       "      <td>recommend</td>\n",
       "      <td>[&lt;class 'bool'&gt;]</td>\n",
       "      <td>100.00</td>\n",
       "      <td>0.00</td>\n",
       "      <td>0</td>\n",
       "    </tr>\n",
       "    <tr>\n",
       "      <th>3</th>\n",
       "      <td>sentiment_analysis</td>\n",
       "      <td>[&lt;class 'int'&gt;]</td>\n",
       "      <td>100.00</td>\n",
       "      <td>0.00</td>\n",
       "      <td>0</td>\n",
       "    </tr>\n",
       "    <tr>\n",
       "      <th>4</th>\n",
       "      <td>app_name</td>\n",
       "      <td>[&lt;class 'str'&gt;, &lt;class 'float'&gt;]</td>\n",
       "      <td>91.03</td>\n",
       "      <td>8.97</td>\n",
       "      <td>5317</td>\n",
       "    </tr>\n",
       "  </tbody>\n",
       "</table>\n",
       "</div>"
      ],
      "text/plain": [
       "                 name                         data_type  not_null_%  null_%  \\\n",
       "0             user_id                   [<class 'str'>]      100.00    0.00   \n",
       "1             item_id                   [<class 'str'>]      100.00    0.00   \n",
       "2           recommend                  [<class 'bool'>]      100.00    0.00   \n",
       "3  sentiment_analysis                   [<class 'int'>]      100.00    0.00   \n",
       "4            app_name  [<class 'str'>, <class 'float'>]       91.03    8.97   \n",
       "\n",
       "   null  \n",
       "0     0  \n",
       "1     0  \n",
       "2     0  \n",
       "3     0  \n",
       "4  5317  "
      ]
     },
     "execution_count": 44,
     "metadata": {},
     "output_type": "execute_result"
    }
   ],
   "source": [
    "dataType(machineLearningDf)"
   ]
  },
  {
   "cell_type": "code",
   "execution_count": 45,
   "metadata": {},
   "outputs": [],
   "source": [
    "machineLearningDf = machineLearningDf.dropna(subset='app_name')"
   ]
  },
  {
   "cell_type": "markdown",
   "metadata": {},
   "source": [
    "Se aplica la función recommendScore, la cual descarta los reviews que no recomiendan el juego, y luego les asigna una calificación dependiendo del análisis de sentimiento de los comentarios."
   ]
  },
  {
   "cell_type": "code",
   "execution_count": 46,
   "metadata": {},
   "outputs": [
    {
     "data": {
      "text/html": [
       "<div>\n",
       "<style scoped>\n",
       "    .dataframe tbody tr th:only-of-type {\n",
       "        vertical-align: middle;\n",
       "    }\n",
       "\n",
       "    .dataframe tbody tr th {\n",
       "        vertical-align: top;\n",
       "    }\n",
       "\n",
       "    .dataframe thead th {\n",
       "        text-align: right;\n",
       "    }\n",
       "</style>\n",
       "<table border=\"1\" class=\"dataframe\">\n",
       "  <thead>\n",
       "    <tr style=\"text-align: right;\">\n",
       "      <th></th>\n",
       "      <th>user_id</th>\n",
       "      <th>app_name</th>\n",
       "      <th>score</th>\n",
       "    </tr>\n",
       "  </thead>\n",
       "  <tbody>\n",
       "    <tr>\n",
       "      <th>0</th>\n",
       "      <td>76561197970982479</td>\n",
       "      <td>Killing Floor</td>\n",
       "      <td>3</td>\n",
       "    </tr>\n",
       "    <tr>\n",
       "      <th>1</th>\n",
       "      <td>76561197970982479</td>\n",
       "      <td>Zeno Clash</td>\n",
       "      <td>3</td>\n",
       "    </tr>\n",
       "    <tr>\n",
       "      <th>4</th>\n",
       "      <td>js41637</td>\n",
       "      <td>Euro Truck Simulator 2</td>\n",
       "      <td>3</td>\n",
       "    </tr>\n",
       "    <tr>\n",
       "      <th>5</th>\n",
       "      <td>js41637</td>\n",
       "      <td>Papers, Please</td>\n",
       "      <td>3</td>\n",
       "    </tr>\n",
       "    <tr>\n",
       "      <th>6</th>\n",
       "      <td>evcentric</td>\n",
       "      <td>Risk of Rain</td>\n",
       "      <td>3</td>\n",
       "    </tr>\n",
       "  </tbody>\n",
       "</table>\n",
       "</div>"
      ],
      "text/plain": [
       "             user_id                app_name  score\n",
       "0  76561197970982479           Killing Floor      3\n",
       "1  76561197970982479              Zeno Clash      3\n",
       "4            js41637  Euro Truck Simulator 2      3\n",
       "5            js41637          Papers, Please      3\n",
       "6          evcentric            Risk of Rain      3"
      ]
     },
     "execution_count": 46,
     "metadata": {},
     "output_type": "execute_result"
    }
   ],
   "source": [
    "machineLearningDf['score'] = machineLearningDf.apply(recommendScore, axis=1)\n",
    "machineLearningDf = machineLearningDf[['user_id', 'app_name', 'score']]\n",
    "machineLearningDf.head()"
   ]
  },
  {
   "cell_type": "code",
   "execution_count": 47,
   "metadata": {},
   "outputs": [
    {
     "data": {
      "text/html": [
       "<div>\n",
       "<style scoped>\n",
       "    .dataframe tbody tr th:only-of-type {\n",
       "        vertical-align: middle;\n",
       "    }\n",
       "\n",
       "    .dataframe tbody tr th {\n",
       "        vertical-align: top;\n",
       "    }\n",
       "\n",
       "    .dataframe thead th {\n",
       "        text-align: right;\n",
       "    }\n",
       "</style>\n",
       "<table border=\"1\" class=\"dataframe\">\n",
       "  <thead>\n",
       "    <tr style=\"text-align: right;\">\n",
       "      <th></th>\n",
       "      <th>name</th>\n",
       "      <th>data_type</th>\n",
       "      <th>not_null_%</th>\n",
       "      <th>null_%</th>\n",
       "      <th>null</th>\n",
       "    </tr>\n",
       "  </thead>\n",
       "  <tbody>\n",
       "    <tr>\n",
       "      <th>0</th>\n",
       "      <td>user_id</td>\n",
       "      <td>[&lt;class 'str'&gt;]</td>\n",
       "      <td>100.0</td>\n",
       "      <td>0.0</td>\n",
       "      <td>0</td>\n",
       "    </tr>\n",
       "    <tr>\n",
       "      <th>1</th>\n",
       "      <td>app_name</td>\n",
       "      <td>[&lt;class 'str'&gt;]</td>\n",
       "      <td>100.0</td>\n",
       "      <td>0.0</td>\n",
       "      <td>0</td>\n",
       "    </tr>\n",
       "    <tr>\n",
       "      <th>2</th>\n",
       "      <td>score</td>\n",
       "      <td>[&lt;class 'int'&gt;]</td>\n",
       "      <td>100.0</td>\n",
       "      <td>0.0</td>\n",
       "      <td>0</td>\n",
       "    </tr>\n",
       "  </tbody>\n",
       "</table>\n",
       "</div>"
      ],
      "text/plain": [
       "       name        data_type  not_null_%  null_%  null\n",
       "0   user_id  [<class 'str'>]       100.0     0.0     0\n",
       "1  app_name  [<class 'str'>]       100.0     0.0     0\n",
       "2     score  [<class 'int'>]       100.0     0.0     0"
      ]
     },
     "execution_count": 47,
     "metadata": {},
     "output_type": "execute_result"
    }
   ],
   "source": [
    "dataType(machineLearningDf)"
   ]
  },
  {
   "cell_type": "markdown",
   "metadata": {},
   "source": [
    "Creamos un dataframe que contiene los 'user_id' como idices, los juegos ('app_name') como columnas y como valores los 'score'."
   ]
  },
  {
   "cell_type": "code",
   "execution_count": 48,
   "metadata": {},
   "outputs": [
    {
     "data": {
      "text/html": [
       "<div>\n",
       "<style scoped>\n",
       "    .dataframe tbody tr th:only-of-type {\n",
       "        vertical-align: middle;\n",
       "    }\n",
       "\n",
       "    .dataframe tbody tr th {\n",
       "        vertical-align: top;\n",
       "    }\n",
       "\n",
       "    .dataframe thead th {\n",
       "        text-align: right;\n",
       "    }\n",
       "</style>\n",
       "<table border=\"1\" class=\"dataframe\">\n",
       "  <thead>\n",
       "    <tr style=\"text-align: right;\">\n",
       "      <th>app_name</th>\n",
       "      <th>! That Bastard Is Trying To Steal Our Gold !</th>\n",
       "      <th>//N.P.P.D. RUSH//- The milk of Ultraviolet</th>\n",
       "      <th>0RBITALIS</th>\n",
       "      <th>10,000,000</th>\n",
       "      <th>100% Orange Juice</th>\n",
       "      <th>100% Orange Juice - Krila &amp; Kae Character Pack</th>\n",
       "      <th>1001 Spikes</th>\n",
       "      <th>12 Labours of Hercules</th>\n",
       "      <th>12 Labours of Hercules II: The Cretan Bull</th>\n",
       "      <th>12 is Better Than 6</th>\n",
       "      <th>...</th>\n",
       "      <th>nail'd</th>\n",
       "      <th>oO</th>\n",
       "      <th>planetarian ~the reverie of a little planet~</th>\n",
       "      <th>resident evil 4 / biohazard 4</th>\n",
       "      <th>sZone-Online</th>\n",
       "      <th>the static speaks my name</th>\n",
       "      <th>theBlu</th>\n",
       "      <th>theHunter Classic</th>\n",
       "      <th>theHunter: Primal</th>\n",
       "      <th>Астролорды: Облако Оорта</th>\n",
       "    </tr>\n",
       "    <tr>\n",
       "      <th>user_id</th>\n",
       "      <th></th>\n",
       "      <th></th>\n",
       "      <th></th>\n",
       "      <th></th>\n",
       "      <th></th>\n",
       "      <th></th>\n",
       "      <th></th>\n",
       "      <th></th>\n",
       "      <th></th>\n",
       "      <th></th>\n",
       "      <th></th>\n",
       "      <th></th>\n",
       "      <th></th>\n",
       "      <th></th>\n",
       "      <th></th>\n",
       "      <th></th>\n",
       "      <th></th>\n",
       "      <th></th>\n",
       "      <th></th>\n",
       "      <th></th>\n",
       "      <th></th>\n",
       "    </tr>\n",
       "  </thead>\n",
       "  <tbody>\n",
       "    <tr>\n",
       "      <th>--000--</th>\n",
       "      <td>NaN</td>\n",
       "      <td>NaN</td>\n",
       "      <td>NaN</td>\n",
       "      <td>NaN</td>\n",
       "      <td>NaN</td>\n",
       "      <td>NaN</td>\n",
       "      <td>NaN</td>\n",
       "      <td>NaN</td>\n",
       "      <td>NaN</td>\n",
       "      <td>NaN</td>\n",
       "      <td>...</td>\n",
       "      <td>NaN</td>\n",
       "      <td>NaN</td>\n",
       "      <td>NaN</td>\n",
       "      <td>NaN</td>\n",
       "      <td>NaN</td>\n",
       "      <td>NaN</td>\n",
       "      <td>NaN</td>\n",
       "      <td>NaN</td>\n",
       "      <td>NaN</td>\n",
       "      <td>NaN</td>\n",
       "    </tr>\n",
       "    <tr>\n",
       "      <th>--ace--</th>\n",
       "      <td>NaN</td>\n",
       "      <td>NaN</td>\n",
       "      <td>NaN</td>\n",
       "      <td>NaN</td>\n",
       "      <td>NaN</td>\n",
       "      <td>NaN</td>\n",
       "      <td>NaN</td>\n",
       "      <td>NaN</td>\n",
       "      <td>NaN</td>\n",
       "      <td>NaN</td>\n",
       "      <td>...</td>\n",
       "      <td>NaN</td>\n",
       "      <td>NaN</td>\n",
       "      <td>NaN</td>\n",
       "      <td>NaN</td>\n",
       "      <td>NaN</td>\n",
       "      <td>NaN</td>\n",
       "      <td>NaN</td>\n",
       "      <td>NaN</td>\n",
       "      <td>NaN</td>\n",
       "      <td>NaN</td>\n",
       "    </tr>\n",
       "    <tr>\n",
       "      <th>--ionex--</th>\n",
       "      <td>NaN</td>\n",
       "      <td>NaN</td>\n",
       "      <td>NaN</td>\n",
       "      <td>NaN</td>\n",
       "      <td>NaN</td>\n",
       "      <td>NaN</td>\n",
       "      <td>NaN</td>\n",
       "      <td>NaN</td>\n",
       "      <td>NaN</td>\n",
       "      <td>NaN</td>\n",
       "      <td>...</td>\n",
       "      <td>NaN</td>\n",
       "      <td>NaN</td>\n",
       "      <td>NaN</td>\n",
       "      <td>NaN</td>\n",
       "      <td>NaN</td>\n",
       "      <td>NaN</td>\n",
       "      <td>NaN</td>\n",
       "      <td>NaN</td>\n",
       "      <td>NaN</td>\n",
       "      <td>NaN</td>\n",
       "    </tr>\n",
       "    <tr>\n",
       "      <th>-2SV-vuLB-Kg</th>\n",
       "      <td>NaN</td>\n",
       "      <td>NaN</td>\n",
       "      <td>NaN</td>\n",
       "      <td>NaN</td>\n",
       "      <td>NaN</td>\n",
       "      <td>NaN</td>\n",
       "      <td>NaN</td>\n",
       "      <td>NaN</td>\n",
       "      <td>NaN</td>\n",
       "      <td>NaN</td>\n",
       "      <td>...</td>\n",
       "      <td>NaN</td>\n",
       "      <td>NaN</td>\n",
       "      <td>NaN</td>\n",
       "      <td>NaN</td>\n",
       "      <td>NaN</td>\n",
       "      <td>NaN</td>\n",
       "      <td>NaN</td>\n",
       "      <td>NaN</td>\n",
       "      <td>NaN</td>\n",
       "      <td>NaN</td>\n",
       "    </tr>\n",
       "    <tr>\n",
       "      <th>-Azsael-</th>\n",
       "      <td>NaN</td>\n",
       "      <td>NaN</td>\n",
       "      <td>NaN</td>\n",
       "      <td>NaN</td>\n",
       "      <td>NaN</td>\n",
       "      <td>NaN</td>\n",
       "      <td>NaN</td>\n",
       "      <td>NaN</td>\n",
       "      <td>NaN</td>\n",
       "      <td>NaN</td>\n",
       "      <td>...</td>\n",
       "      <td>NaN</td>\n",
       "      <td>NaN</td>\n",
       "      <td>NaN</td>\n",
       "      <td>NaN</td>\n",
       "      <td>NaN</td>\n",
       "      <td>NaN</td>\n",
       "      <td>NaN</td>\n",
       "      <td>NaN</td>\n",
       "      <td>NaN</td>\n",
       "      <td>NaN</td>\n",
       "    </tr>\n",
       "    <tr>\n",
       "      <th>...</th>\n",
       "      <td>...</td>\n",
       "      <td>...</td>\n",
       "      <td>...</td>\n",
       "      <td>...</td>\n",
       "      <td>...</td>\n",
       "      <td>...</td>\n",
       "      <td>...</td>\n",
       "      <td>...</td>\n",
       "      <td>...</td>\n",
       "      <td>...</td>\n",
       "      <td>...</td>\n",
       "      <td>...</td>\n",
       "      <td>...</td>\n",
       "      <td>...</td>\n",
       "      <td>...</td>\n",
       "      <td>...</td>\n",
       "      <td>...</td>\n",
       "      <td>...</td>\n",
       "      <td>...</td>\n",
       "      <td>...</td>\n",
       "      <td>...</td>\n",
       "    </tr>\n",
       "    <tr>\n",
       "      <th>zvanik</th>\n",
       "      <td>NaN</td>\n",
       "      <td>NaN</td>\n",
       "      <td>NaN</td>\n",
       "      <td>NaN</td>\n",
       "      <td>NaN</td>\n",
       "      <td>NaN</td>\n",
       "      <td>NaN</td>\n",
       "      <td>NaN</td>\n",
       "      <td>NaN</td>\n",
       "      <td>NaN</td>\n",
       "      <td>...</td>\n",
       "      <td>NaN</td>\n",
       "      <td>NaN</td>\n",
       "      <td>NaN</td>\n",
       "      <td>NaN</td>\n",
       "      <td>NaN</td>\n",
       "      <td>NaN</td>\n",
       "      <td>NaN</td>\n",
       "      <td>NaN</td>\n",
       "      <td>NaN</td>\n",
       "      <td>NaN</td>\n",
       "    </tr>\n",
       "    <tr>\n",
       "      <th>zwanzigdrei</th>\n",
       "      <td>NaN</td>\n",
       "      <td>NaN</td>\n",
       "      <td>NaN</td>\n",
       "      <td>NaN</td>\n",
       "      <td>NaN</td>\n",
       "      <td>NaN</td>\n",
       "      <td>NaN</td>\n",
       "      <td>NaN</td>\n",
       "      <td>NaN</td>\n",
       "      <td>NaN</td>\n",
       "      <td>...</td>\n",
       "      <td>NaN</td>\n",
       "      <td>NaN</td>\n",
       "      <td>NaN</td>\n",
       "      <td>NaN</td>\n",
       "      <td>NaN</td>\n",
       "      <td>NaN</td>\n",
       "      <td>NaN</td>\n",
       "      <td>NaN</td>\n",
       "      <td>NaN</td>\n",
       "      <td>NaN</td>\n",
       "    </tr>\n",
       "    <tr>\n",
       "      <th>zy0705</th>\n",
       "      <td>NaN</td>\n",
       "      <td>NaN</td>\n",
       "      <td>NaN</td>\n",
       "      <td>NaN</td>\n",
       "      <td>NaN</td>\n",
       "      <td>NaN</td>\n",
       "      <td>NaN</td>\n",
       "      <td>NaN</td>\n",
       "      <td>NaN</td>\n",
       "      <td>NaN</td>\n",
       "      <td>...</td>\n",
       "      <td>NaN</td>\n",
       "      <td>NaN</td>\n",
       "      <td>NaN</td>\n",
       "      <td>NaN</td>\n",
       "      <td>NaN</td>\n",
       "      <td>NaN</td>\n",
       "      <td>NaN</td>\n",
       "      <td>NaN</td>\n",
       "      <td>NaN</td>\n",
       "      <td>NaN</td>\n",
       "    </tr>\n",
       "    <tr>\n",
       "      <th>zynxgameth</th>\n",
       "      <td>NaN</td>\n",
       "      <td>NaN</td>\n",
       "      <td>NaN</td>\n",
       "      <td>NaN</td>\n",
       "      <td>NaN</td>\n",
       "      <td>NaN</td>\n",
       "      <td>NaN</td>\n",
       "      <td>NaN</td>\n",
       "      <td>NaN</td>\n",
       "      <td>NaN</td>\n",
       "      <td>...</td>\n",
       "      <td>NaN</td>\n",
       "      <td>NaN</td>\n",
       "      <td>NaN</td>\n",
       "      <td>NaN</td>\n",
       "      <td>NaN</td>\n",
       "      <td>NaN</td>\n",
       "      <td>NaN</td>\n",
       "      <td>NaN</td>\n",
       "      <td>NaN</td>\n",
       "      <td>NaN</td>\n",
       "    </tr>\n",
       "    <tr>\n",
       "      <th>zyr0n1c</th>\n",
       "      <td>NaN</td>\n",
       "      <td>NaN</td>\n",
       "      <td>NaN</td>\n",
       "      <td>NaN</td>\n",
       "      <td>NaN</td>\n",
       "      <td>NaN</td>\n",
       "      <td>NaN</td>\n",
       "      <td>NaN</td>\n",
       "      <td>NaN</td>\n",
       "      <td>NaN</td>\n",
       "      <td>...</td>\n",
       "      <td>NaN</td>\n",
       "      <td>NaN</td>\n",
       "      <td>NaN</td>\n",
       "      <td>NaN</td>\n",
       "      <td>NaN</td>\n",
       "      <td>NaN</td>\n",
       "      <td>NaN</td>\n",
       "      <td>NaN</td>\n",
       "      <td>NaN</td>\n",
       "      <td>NaN</td>\n",
       "    </tr>\n",
       "  </tbody>\n",
       "</table>\n",
       "<p>24380 rows × 3195 columns</p>\n",
       "</div>"
      ],
      "text/plain": [
       "app_name      ! That Bastard Is Trying To Steal Our Gold !  \\\n",
       "user_id                                                      \n",
       "--000--                                                NaN   \n",
       "--ace--                                                NaN   \n",
       "--ionex--                                              NaN   \n",
       "-2SV-vuLB-Kg                                           NaN   \n",
       "-Azsael-                                               NaN   \n",
       "...                                                    ...   \n",
       "zvanik                                                 NaN   \n",
       "zwanzigdrei                                            NaN   \n",
       "zy0705                                                 NaN   \n",
       "zynxgameth                                             NaN   \n",
       "zyr0n1c                                                NaN   \n",
       "\n",
       "app_name      //N.P.P.D. RUSH//- The milk of Ultraviolet  0RBITALIS  \\\n",
       "user_id                                                               \n",
       "--000--                                              NaN        NaN   \n",
       "--ace--                                              NaN        NaN   \n",
       "--ionex--                                            NaN        NaN   \n",
       "-2SV-vuLB-Kg                                         NaN        NaN   \n",
       "-Azsael-                                             NaN        NaN   \n",
       "...                                                  ...        ...   \n",
       "zvanik                                               NaN        NaN   \n",
       "zwanzigdrei                                          NaN        NaN   \n",
       "zy0705                                               NaN        NaN   \n",
       "zynxgameth                                           NaN        NaN   \n",
       "zyr0n1c                                              NaN        NaN   \n",
       "\n",
       "app_name      10,000,000  100% Orange Juice  \\\n",
       "user_id                                       \n",
       "--000--              NaN                NaN   \n",
       "--ace--              NaN                NaN   \n",
       "--ionex--            NaN                NaN   \n",
       "-2SV-vuLB-Kg         NaN                NaN   \n",
       "-Azsael-             NaN                NaN   \n",
       "...                  ...                ...   \n",
       "zvanik               NaN                NaN   \n",
       "zwanzigdrei          NaN                NaN   \n",
       "zy0705               NaN                NaN   \n",
       "zynxgameth           NaN                NaN   \n",
       "zyr0n1c              NaN                NaN   \n",
       "\n",
       "app_name      100% Orange Juice - Krila & Kae Character Pack  1001 Spikes  \\\n",
       "user_id                                                                     \n",
       "--000--                                                  NaN          NaN   \n",
       "--ace--                                                  NaN          NaN   \n",
       "--ionex--                                                NaN          NaN   \n",
       "-2SV-vuLB-Kg                                             NaN          NaN   \n",
       "-Azsael-                                                 NaN          NaN   \n",
       "...                                                      ...          ...   \n",
       "zvanik                                                   NaN          NaN   \n",
       "zwanzigdrei                                              NaN          NaN   \n",
       "zy0705                                                   NaN          NaN   \n",
       "zynxgameth                                               NaN          NaN   \n",
       "zyr0n1c                                                  NaN          NaN   \n",
       "\n",
       "app_name      12 Labours of Hercules  \\\n",
       "user_id                                \n",
       "--000--                          NaN   \n",
       "--ace--                          NaN   \n",
       "--ionex--                        NaN   \n",
       "-2SV-vuLB-Kg                     NaN   \n",
       "-Azsael-                         NaN   \n",
       "...                              ...   \n",
       "zvanik                           NaN   \n",
       "zwanzigdrei                      NaN   \n",
       "zy0705                           NaN   \n",
       "zynxgameth                       NaN   \n",
       "zyr0n1c                          NaN   \n",
       "\n",
       "app_name      12 Labours of Hercules II: The Cretan Bull  12 is Better Than 6  \\\n",
       "user_id                                                                         \n",
       "--000--                                              NaN                  NaN   \n",
       "--ace--                                              NaN                  NaN   \n",
       "--ionex--                                            NaN                  NaN   \n",
       "-2SV-vuLB-Kg                                         NaN                  NaN   \n",
       "-Azsael-                                             NaN                  NaN   \n",
       "...                                                  ...                  ...   \n",
       "zvanik                                               NaN                  NaN   \n",
       "zwanzigdrei                                          NaN                  NaN   \n",
       "zy0705                                               NaN                  NaN   \n",
       "zynxgameth                                           NaN                  NaN   \n",
       "zyr0n1c                                              NaN                  NaN   \n",
       "\n",
       "app_name      ...  nail'd  oO  planetarian ~the reverie of a little planet~  \\\n",
       "user_id       ...                                                             \n",
       "--000--       ...     NaN NaN                                           NaN   \n",
       "--ace--       ...     NaN NaN                                           NaN   \n",
       "--ionex--     ...     NaN NaN                                           NaN   \n",
       "-2SV-vuLB-Kg  ...     NaN NaN                                           NaN   \n",
       "-Azsael-      ...     NaN NaN                                           NaN   \n",
       "...           ...     ...  ..                                           ...   \n",
       "zvanik        ...     NaN NaN                                           NaN   \n",
       "zwanzigdrei   ...     NaN NaN                                           NaN   \n",
       "zy0705        ...     NaN NaN                                           NaN   \n",
       "zynxgameth    ...     NaN NaN                                           NaN   \n",
       "zyr0n1c       ...     NaN NaN                                           NaN   \n",
       "\n",
       "app_name      resident evil 4 / biohazard 4  sZone-Online  \\\n",
       "user_id                                                     \n",
       "--000--                                 NaN           NaN   \n",
       "--ace--                                 NaN           NaN   \n",
       "--ionex--                               NaN           NaN   \n",
       "-2SV-vuLB-Kg                            NaN           NaN   \n",
       "-Azsael-                                NaN           NaN   \n",
       "...                                     ...           ...   \n",
       "zvanik                                  NaN           NaN   \n",
       "zwanzigdrei                             NaN           NaN   \n",
       "zy0705                                  NaN           NaN   \n",
       "zynxgameth                              NaN           NaN   \n",
       "zyr0n1c                                 NaN           NaN   \n",
       "\n",
       "app_name      the static speaks my name  theBlu  theHunter Classic  \\\n",
       "user_id                                                              \n",
       "--000--                             NaN     NaN                NaN   \n",
       "--ace--                             NaN     NaN                NaN   \n",
       "--ionex--                           NaN     NaN                NaN   \n",
       "-2SV-vuLB-Kg                        NaN     NaN                NaN   \n",
       "-Azsael-                            NaN     NaN                NaN   \n",
       "...                                 ...     ...                ...   \n",
       "zvanik                              NaN     NaN                NaN   \n",
       "zwanzigdrei                         NaN     NaN                NaN   \n",
       "zy0705                              NaN     NaN                NaN   \n",
       "zynxgameth                          NaN     NaN                NaN   \n",
       "zyr0n1c                             NaN     NaN                NaN   \n",
       "\n",
       "app_name      theHunter: Primal  Астролорды: Облако Оорта  \n",
       "user_id                                                    \n",
       "--000--                     NaN                       NaN  \n",
       "--ace--                     NaN                       NaN  \n",
       "--ionex--                   NaN                       NaN  \n",
       "-2SV-vuLB-Kg                NaN                       NaN  \n",
       "-Azsael-                    NaN                       NaN  \n",
       "...                         ...                       ...  \n",
       "zvanik                      NaN                       NaN  \n",
       "zwanzigdrei                 NaN                       NaN  \n",
       "zy0705                      NaN                       NaN  \n",
       "zynxgameth                  NaN                       NaN  \n",
       "zyr0n1c                     NaN                       NaN  \n",
       "\n",
       "[24380 rows x 3195 columns]"
      ]
     },
     "execution_count": 48,
     "metadata": {},
     "output_type": "execute_result"
    }
   ],
   "source": [
    "machineLearningDf = machineLearningDf.pivot_table(index=['user_id'], columns=['app_name'], values='score')\n",
    "machineLearningDf"
   ]
  },
  {
   "cell_type": "markdown",
   "metadata": {},
   "source": [
    "Lo guardamos como parquet para ser utilizado en el modelo de aprendizaje."
   ]
  },
  {
   "cell_type": "code",
   "execution_count": 49,
   "metadata": {},
   "outputs": [],
   "source": [
    "machineLearningDf.to_parquet('../data/machineLearning.parquet', index=True)"
   ]
  }
 ],
 "metadata": {
  "kernelspec": {
   "display_name": "venv",
   "language": "python",
   "name": "python3"
  },
  "language_info": {
   "codemirror_mode": {
    "name": "ipython",
    "version": 3
   },
   "file_extension": ".py",
   "mimetype": "text/x-python",
   "name": "python",
   "nbconvert_exporter": "python",
   "pygments_lexer": "ipython3",
   "version": "3.11.7"
  }
 },
 "nbformat": 4,
 "nbformat_minor": 2
}
