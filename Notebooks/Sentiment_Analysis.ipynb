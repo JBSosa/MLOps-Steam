{
 "cells": [
  {
   "cell_type": "markdown",
   "metadata": {},
   "source": [
    "<h1>Análisis de Sentimiento"
   ]
  },
  {
   "cell_type": "markdown",
   "metadata": {},
   "source": [
    "<h2>Importaciones"
   ]
  },
  {
   "cell_type": "code",
   "execution_count": null,
   "metadata": {},
   "outputs": [],
   "source": [
    "import pandas as pd\n",
    "import nltk\n",
    "from nltk.sentiment import SentimentIntensityAnalyzer\n",
    "nltk.download('vader_lexicon')\n",
    "import pyarrow"
   ]
  },
  {
   "cell_type": "markdown",
   "metadata": {},
   "source": [
    "<h2>User Reviews Exploded"
   ]
  },
  {
   "cell_type": "markdown",
   "metadata": {},
   "source": [
    "Se carga como dataframe el dataset previamente trabajado."
   ]
  },
  {
   "cell_type": "code",
   "execution_count": 5,
   "metadata": {},
   "outputs": [],
   "source": [
    "userReviewsExplodedDf = pd.read_parquet('../data/userReviewsExplodedPreReview.parquet')"
   ]
  },
  {
   "cell_type": "code",
   "execution_count": 3,
   "metadata": {},
   "outputs": [
    {
     "data": {
      "text/html": [
       "<div>\n",
       "<style scoped>\n",
       "    .dataframe tbody tr th:only-of-type {\n",
       "        vertical-align: middle;\n",
       "    }\n",
       "\n",
       "    .dataframe tbody tr th {\n",
       "        vertical-align: top;\n",
       "    }\n",
       "\n",
       "    .dataframe thead th {\n",
       "        text-align: right;\n",
       "    }\n",
       "</style>\n",
       "<table border=\"1\" class=\"dataframe\">\n",
       "  <thead>\n",
       "    <tr style=\"text-align: right;\">\n",
       "      <th></th>\n",
       "      <th>user_id</th>\n",
       "      <th>user_url</th>\n",
       "      <th>reviews</th>\n",
       "      <th>review</th>\n",
       "      <th>recommend</th>\n",
       "      <th>item_id</th>\n",
       "      <th>review_date</th>\n",
       "      <th>review_year</th>\n",
       "    </tr>\n",
       "  </thead>\n",
       "  <tbody>\n",
       "    <tr>\n",
       "      <th>0</th>\n",
       "      <td>76561197970982479</td>\n",
       "      <td>http://steamcommunity.com/profiles/76561197970...</td>\n",
       "      <td>{'funny': '', 'helpful': 'No ratings yet', 'it...</td>\n",
       "      <td>Simple yet with great replayability. In my opi...</td>\n",
       "      <td>True</td>\n",
       "      <td>1250</td>\n",
       "      <td>2011-11-05</td>\n",
       "      <td>2011</td>\n",
       "    </tr>\n",
       "    <tr>\n",
       "      <th>1</th>\n",
       "      <td>76561197970982479</td>\n",
       "      <td>http://steamcommunity.com/profiles/76561197970...</td>\n",
       "      <td>{'funny': '', 'helpful': 'No ratings yet', 'it...</td>\n",
       "      <td>It's unique and worth a playthrough.</td>\n",
       "      <td>True</td>\n",
       "      <td>22200</td>\n",
       "      <td>2011-07-15</td>\n",
       "      <td>2011</td>\n",
       "    </tr>\n",
       "    <tr>\n",
       "      <th>2</th>\n",
       "      <td>76561197970982479</td>\n",
       "      <td>http://steamcommunity.com/profiles/76561197970...</td>\n",
       "      <td>{'funny': '', 'helpful': 'No ratings yet', 'it...</td>\n",
       "      <td>Great atmosphere. The gunplay can be a bit chu...</td>\n",
       "      <td>True</td>\n",
       "      <td>43110</td>\n",
       "      <td>2011-04-21</td>\n",
       "      <td>2011</td>\n",
       "    </tr>\n",
       "    <tr>\n",
       "      <th>3</th>\n",
       "      <td>js41637</td>\n",
       "      <td>http://steamcommunity.com/id/js41637</td>\n",
       "      <td>{'funny': '', 'helpful': '15 of 20 people (75%...</td>\n",
       "      <td>I know what you think when you see this title ...</td>\n",
       "      <td>True</td>\n",
       "      <td>251610</td>\n",
       "      <td>2014-06-24</td>\n",
       "      <td>2014</td>\n",
       "    </tr>\n",
       "    <tr>\n",
       "      <th>4</th>\n",
       "      <td>js41637</td>\n",
       "      <td>http://steamcommunity.com/id/js41637</td>\n",
       "      <td>{'funny': '', 'helpful': '0 of 1 people (0%) f...</td>\n",
       "      <td>For a simple (it's actually not all that simpl...</td>\n",
       "      <td>True</td>\n",
       "      <td>227300</td>\n",
       "      <td>2013-09-08</td>\n",
       "      <td>2013</td>\n",
       "    </tr>\n",
       "  </tbody>\n",
       "</table>\n",
       "</div>"
      ],
      "text/plain": [
       "             user_id                                           user_url  \\\n",
       "0  76561197970982479  http://steamcommunity.com/profiles/76561197970...   \n",
       "1  76561197970982479  http://steamcommunity.com/profiles/76561197970...   \n",
       "2  76561197970982479  http://steamcommunity.com/profiles/76561197970...   \n",
       "3            js41637               http://steamcommunity.com/id/js41637   \n",
       "4            js41637               http://steamcommunity.com/id/js41637   \n",
       "\n",
       "                                             reviews  \\\n",
       "0  {'funny': '', 'helpful': 'No ratings yet', 'it...   \n",
       "1  {'funny': '', 'helpful': 'No ratings yet', 'it...   \n",
       "2  {'funny': '', 'helpful': 'No ratings yet', 'it...   \n",
       "3  {'funny': '', 'helpful': '15 of 20 people (75%...   \n",
       "4  {'funny': '', 'helpful': '0 of 1 people (0%) f...   \n",
       "\n",
       "                                              review  recommend item_id  \\\n",
       "0  Simple yet with great replayability. In my opi...       True    1250   \n",
       "1               It's unique and worth a playthrough.       True   22200   \n",
       "2  Great atmosphere. The gunplay can be a bit chu...       True   43110   \n",
       "3  I know what you think when you see this title ...       True  251610   \n",
       "4  For a simple (it's actually not all that simpl...       True  227300   \n",
       "\n",
       "  review_date  review_year  \n",
       "0  2011-11-05         2011  \n",
       "1  2011-07-15         2011  \n",
       "2  2011-04-21         2011  \n",
       "3  2014-06-24         2014  \n",
       "4  2013-09-08         2013  "
      ]
     },
     "execution_count": 3,
     "metadata": {},
     "output_type": "execute_result"
    }
   ],
   "source": [
    "userReviewsExplodedDf.head()"
   ]
  },
  {
   "cell_type": "markdown",
   "metadata": {},
   "source": [
    "Se crea una función para el análisis de sentimiento. Para efectos de este análisis se utiliza VADER (Valence Aware Dictionary and sEntiment Reasoner) que es conocido por su eficacia en la detección de sentimientos en redes sociales y opiniones en línea. Se asignan valores de 0 a reseñas negativas, 1 a reseñas neutras o sin texto, y 2 a reseñas positivas."
   ]
  },
  {
   "cell_type": "code",
   "execution_count": 7,
   "metadata": {},
   "outputs": [],
   "source": [
    "def analyzeSentiment(text):\n",
    "    if text is None:\n",
    "        return '1'\n",
    "\n",
    "    sia = SentimentIntensityAnalyzer()\n",
    "    sentimentScore = sia.polarity_scores(text)['compound']\n",
    "\n",
    "    if sentimentScore >= 0.05:\n",
    "        return '2'\n",
    "    elif sentimentScore <= -0.05:\n",
    "        return '0'\n",
    "    else:\n",
    "        return '1'"
   ]
  },
  {
   "cell_type": "markdown",
   "metadata": {},
   "source": [
    "Aplicamos el análisis de sentimiento a la columna de 'review' y se almacena el resultado en una columna nueva."
   ]
  },
  {
   "cell_type": "code",
   "execution_count": 8,
   "metadata": {},
   "outputs": [],
   "source": [
    "userReviewsExplodedDf['sentiment_analysis'] = userReviewsExplodedDf['review'].apply(analyzeSentiment)"
   ]
  },
  {
   "cell_type": "markdown",
   "metadata": {},
   "source": [
    "Eliminamos las columnas que no nos servirán para las funciones y transformamos a parquet."
   ]
  },
  {
   "cell_type": "code",
   "execution_count": 9,
   "metadata": {},
   "outputs": [],
   "source": [
    "del userReviewsExplodedDf['reviews']\n",
    "del userReviewsExplodedDf['review']\n",
    "del userReviewsExplodedDf['user_url']"
   ]
  },
  {
   "cell_type": "code",
   "execution_count": 10,
   "metadata": {},
   "outputs": [
    {
     "data": {
      "text/html": [
       "<div>\n",
       "<style scoped>\n",
       "    .dataframe tbody tr th:only-of-type {\n",
       "        vertical-align: middle;\n",
       "    }\n",
       "\n",
       "    .dataframe tbody tr th {\n",
       "        vertical-align: top;\n",
       "    }\n",
       "\n",
       "    .dataframe thead th {\n",
       "        text-align: right;\n",
       "    }\n",
       "</style>\n",
       "<table border=\"1\" class=\"dataframe\">\n",
       "  <thead>\n",
       "    <tr style=\"text-align: right;\">\n",
       "      <th></th>\n",
       "      <th>user_id</th>\n",
       "      <th>recommend</th>\n",
       "      <th>item_id</th>\n",
       "      <th>review_date</th>\n",
       "      <th>review_year</th>\n",
       "      <th>sentiment_analysis</th>\n",
       "    </tr>\n",
       "  </thead>\n",
       "  <tbody>\n",
       "    <tr>\n",
       "      <th>40697</th>\n",
       "      <td>76561198068130802</td>\n",
       "      <td>False</td>\n",
       "      <td>304930</td>\n",
       "      <td>2015-07-05</td>\n",
       "      <td>2015</td>\n",
       "      <td>0</td>\n",
       "    </tr>\n",
       "    <tr>\n",
       "      <th>54665</th>\n",
       "      <td>76561198081924175</td>\n",
       "      <td>False</td>\n",
       "      <td>49520</td>\n",
       "      <td>2014-07-25</td>\n",
       "      <td>2014</td>\n",
       "      <td>0</td>\n",
       "    </tr>\n",
       "    <tr>\n",
       "      <th>54664</th>\n",
       "      <td>76561198081923658</td>\n",
       "      <td>True</td>\n",
       "      <td>570</td>\n",
       "      <td>2014-09-09</td>\n",
       "      <td>2014</td>\n",
       "      <td>0</td>\n",
       "    </tr>\n",
       "    <tr>\n",
       "      <th>46506</th>\n",
       "      <td>76561198031877091</td>\n",
       "      <td>True</td>\n",
       "      <td>252490</td>\n",
       "      <td>2014-01-12</td>\n",
       "      <td>2014</td>\n",
       "      <td>0</td>\n",
       "    </tr>\n",
       "    <tr>\n",
       "      <th>27536</th>\n",
       "      <td>CowOnWeed</td>\n",
       "      <td>True</td>\n",
       "      <td>220</td>\n",
       "      <td>2015-04-16</td>\n",
       "      <td>2015</td>\n",
       "      <td>0</td>\n",
       "    </tr>\n",
       "  </tbody>\n",
       "</table>\n",
       "</div>"
      ],
      "text/plain": [
       "                 user_id  recommend item_id review_date  review_year  \\\n",
       "40697  76561198068130802      False  304930  2015-07-05         2015   \n",
       "54665  76561198081924175      False   49520  2014-07-25         2014   \n",
       "54664  76561198081923658       True     570  2014-09-09         2014   \n",
       "46506  76561198031877091       True  252490  2014-01-12         2014   \n",
       "27536          CowOnWeed       True     220  2015-04-16         2015   \n",
       "\n",
       "      sentiment_analysis  \n",
       "40697                  0  \n",
       "54665                  0  \n",
       "54664                  0  \n",
       "46506                  0  \n",
       "27536                  0  "
      ]
     },
     "execution_count": 10,
     "metadata": {},
     "output_type": "execute_result"
    }
   ],
   "source": [
    "userReviewsExplodedDf.sort_values(by='sentiment_analysis').head()"
   ]
  },
  {
   "cell_type": "code",
   "execution_count": 12,
   "metadata": {},
   "outputs": [],
   "source": [
    "userReviewsExplodedDf.to_parquet('../data/userReviewsExploded.parquet',index=False)"
   ]
  }
 ],
 "metadata": {
  "kernelspec": {
   "display_name": "venv",
   "language": "python",
   "name": "python3"
  },
  "language_info": {
   "codemirror_mode": {
    "name": "ipython",
    "version": 3
   },
   "file_extension": ".py",
   "mimetype": "text/x-python",
   "name": "python",
   "nbconvert_exporter": "python",
   "pygments_lexer": "ipython3",
   "version": "3.11.7"
  }
 },
 "nbformat": 4,
 "nbformat_minor": 2
}
