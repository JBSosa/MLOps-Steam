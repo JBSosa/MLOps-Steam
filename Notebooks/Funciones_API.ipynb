{
 "cells": [
  {
   "cell_type": "markdown",
   "metadata": {},
   "source": [
    "<h1>Funciones API"
   ]
  },
  {
   "cell_type": "markdown",
   "metadata": {},
   "source": [
    "En este Notebook se encuentran almacenadas las funciones desarrolladas."
   ]
  },
  {
   "cell_type": "markdown",
   "metadata": {},
   "source": [
    "<h2>Importaciones"
   ]
  },
  {
   "cell_type": "code",
   "execution_count": 1,
   "metadata": {},
   "outputs": [],
   "source": [
    "import pandas as pd\n",
    "import pyarrow"
   ]
  },
  {
   "cell_type": "markdown",
   "metadata": {},
   "source": [
    "<h2>Developer"
   ]
  },
  {
   "cell_type": "code",
   "execution_count": 2,
   "metadata": {},
   "outputs": [
    {
     "data": {
      "text/plain": [
       "[{'Año': 2012, 'Cantidad de Items': 1, 'Contenido Free': '0.0%'},\n",
       " {'Año': 2014, 'Cantidad de Items': 3, 'Contenido Free': '0.0%'},\n",
       " {'Año': 2015, 'Cantidad de Items': 9, 'Contenido Free': '22.22%'},\n",
       " {'Año': 2016, 'Cantidad de Items': 2, 'Contenido Free': '0.0%'},\n",
       " {'Año': 2017, 'Cantidad de Items': 8, 'Contenido Free': '87.5%'}]"
      ]
     },
     "execution_count": 2,
     "metadata": {},
     "output_type": "execute_result"
    }
   ],
   "source": [
    "def developer(dev):\n",
    "    # Se leen los datos y se crea el dataFrame\n",
    "    steamGamesDf = pd.read_parquet('../data/steamGames.parquet')\n",
    "    # Se crea un dataFrame filtrado de acuerdo al developer\n",
    "    filteredDf = steamGamesDf[steamGamesDf['developer'].str.lower() == dev.lower()]\n",
    "    # Se guardan los valores del total de juegos y la cantidad de juegos gratuitos agrupados por año\n",
    "    totalApps = filteredDf.groupby('release_year').size().reset_index(name = 'Cantidad de Items')\n",
    "    filteredDf = filteredDf.dropna(subset = ['price'])\n",
    "    freeApps = filteredDf[filteredDf['price'] == 0].groupby('release_year').size().reset_index(name = 'free_items')\n",
    "    # Se crea el dataFrame resultado con la cantidad de juegos, el porcentaje de estos que son gratuítos, y el año\n",
    "    result = pd.merge(totalApps, freeApps, on = 'release_year', how = 'left').fillna(0)\n",
    "    result.rename(columns = {'release_year': 'Año'}, inplace = True)\n",
    "    result['Contenido Free'] = ((result['free_items'] / result['Cantidad de Items']) * 100).round(2).astype(str) + '%'\n",
    "    result = result[['Año','Cantidad de Items','Contenido Free']].reset_index(drop = True)\n",
    "    result = result.to_dict(orient = 'records')\n",
    "    return result\n",
    "developer('AMPLITUDE Studios')"
   ]
  },
  {
   "cell_type": "markdown",
   "metadata": {},
   "source": [
    "<h2>Userdata"
   ]
  },
  {
   "cell_type": "code",
   "execution_count": 3,
   "metadata": {},
   "outputs": [
    {
     "data": {
      "text/html": [
       "<div>\n",
       "<style scoped>\n",
       "    .dataframe tbody tr th:only-of-type {\n",
       "        vertical-align: middle;\n",
       "    }\n",
       "\n",
       "    .dataframe tbody tr th {\n",
       "        vertical-align: top;\n",
       "    }\n",
       "\n",
       "    .dataframe thead th {\n",
       "        text-align: right;\n",
       "    }\n",
       "</style>\n",
       "<table border=\"1\" class=\"dataframe\">\n",
       "  <thead>\n",
       "    <tr style=\"text-align: right;\">\n",
       "      <th></th>\n",
       "      <th>Usuario</th>\n",
       "      <th>Dinero Gastado</th>\n",
       "      <th>% de recomendación</th>\n",
       "      <th>Cantidad de Items</th>\n",
       "    </tr>\n",
       "  </thead>\n",
       "  <tbody>\n",
       "    <tr>\n",
       "      <th>0</th>\n",
       "      <td>76561198043472122</td>\n",
       "      <td>534.62</td>\n",
       "      <td>0.0%</td>\n",
       "      <td>88</td>\n",
       "    </tr>\n",
       "  </tbody>\n",
       "</table>\n",
       "</div>"
      ],
      "text/plain": [
       "             Usuario  Dinero Gastado % de recomendación  Cantidad de Items\n",
       "0  76561198043472122          534.62               0.0%                 88"
      ]
     },
     "execution_count": 3,
     "metadata": {},
     "output_type": "execute_result"
    }
   ],
   "source": [
    "def userData(userId):\n",
    "    # Se leen los datos y se crea el DataFrame\n",
    "    userRecommendDf = pd.read_parquet('../data/userReviewsExploded.parquet')\n",
    "    userItemsDf = pd.read_parquet('../data/userItemsExploded.parquet')\n",
    "    userItemCountDf = pd.read_parquet('../data/userItemCount.parquet')\n",
    "    steamGamesPriceDf = pd.read_parquet('../data/steamGamesPrice.parquet')\n",
    "    # Se crean DataFrame filtrando por usuario\n",
    "    userRecommendDf = userRecommendDf[userRecommendDf['user_id'] == userId].reset_index(drop = True)\n",
    "    userItemsDf = userItemsDf[userItemsDf['user_id'] == userId].reset_index(drop = True)\n",
    "    userItemsDf = pd.merge(userItemsDf,steamGamesPriceDf,how = 'left',on = 'item_id')\n",
    "    userItemCountDf = userItemCountDf[userItemCountDf['user_id'] == userId].reset_index(drop = True)\n",
    "    # Se compone el DataFrame de respuesta conteniendo el ID de usuariom, el dinero gastado de acuerdo a sus ítems, el porcentaje de recomendación y la cantidad de ítems\n",
    "    resultData = {'Usuario': [userId]}\n",
    "    resultDf = pd.DataFrame(resultData)\n",
    "    resultDf['Dinero Gastado'] = pd.to_numeric(userItemsDf['price'], errors = 'coerce').sum()\n",
    "    resultDf['% de recomendación'] = ((userRecommendDf['recommend'].mean()) * 100).round(2).astype(str) + '%'\n",
    "    resultDf['Cantidad de Items'] = userItemCountDf['items_count']\n",
    "    result = resultDf.to_dict(orient = 'records')\n",
    "    return resultDf\n",
    "userData('76561198043472122')"
   ]
  },
  {
   "cell_type": "markdown",
   "metadata": {},
   "source": [
    "<h2>UserForGenre"
   ]
  },
  {
   "cell_type": "code",
   "execution_count": 4,
   "metadata": {},
   "outputs": [
    {
     "data": {
      "text/plain": [
       "{'Usuario con más horas jugadas para género action': 'Sp3ctre',\n",
       " 'Horas': [{'Año': 2017, 'Horas jugadas': 722.12},\n",
       "  {'Año': 2016, 'Horas jugadas': 492.93},\n",
       "  {'Año': 2015, 'Horas jugadas': 5208.53},\n",
       "  {'Año': 2014, 'Horas jugadas': 2178.16},\n",
       "  {'Año': 2013, 'Horas jugadas': 2007.69},\n",
       "  {'Año': 2012, 'Horas jugadas': 6304.96},\n",
       "  {'Año': 2011, 'Horas jugadas': 2581.6},\n",
       "  {'Año': 2010, 'Horas jugadas': 1301.3899999999999},\n",
       "  {'Año': 2009, 'Horas jugadas': 1805.44},\n",
       "  {'Año': 2008, 'Horas jugadas': 3.73},\n",
       "  {'Año': 2007, 'Horas jugadas': 1879.74},\n",
       "  {'Año': 2006, 'Horas jugadas': 14.940000000000001},\n",
       "  {'Año': 2005, 'Horas jugadas': 355.65},\n",
       "  {'Año': 2004, 'Horas jugadas': 2123.51},\n",
       "  {'Año': 2003, 'Horas jugadas': 127.88},\n",
       "  {'Año': 2002, 'Horas jugadas': 3.97},\n",
       "  {'Año': 2001, 'Horas jugadas': 0.22},\n",
       "  {'Año': 2000, 'Horas jugadas': 1177.4},\n",
       "  {'Año': 1999, 'Horas jugadas': 0.73},\n",
       "  {'Año': 1998, 'Horas jugadas': 0.0},\n",
       "  {'Año': 1996, 'Horas jugadas': 0.0},\n",
       "  {'Año': 1995, 'Horas jugadas': 3.62},\n",
       "  {'Año': 1993, 'Horas jugadas': 0.0},\n",
       "  {'Año': 0, 'Horas jugadas': 27.62}]}"
      ]
     },
     "execution_count": 4,
     "metadata": {},
     "output_type": "execute_result"
    }
   ],
   "source": [
    "def userForGenre(genre):\n",
    "    # Se leen los datos y se crea el dataFrame\n",
    "    steamGamesGenresDf = pd.read_parquet('../data/steamGamesGenresExploded.parquet')\n",
    "    userItemsExplodedDf = pd.read_parquet('../data/userItemsExploded.parquet')\n",
    "    # Se filtra el dataFrame buscando el género solicitado entre los géneros del juego\n",
    "    steamGamesGenresDf = steamGamesGenresDf[steamGamesGenresDf['genres'].str.lower() == genre.lower()]\n",
    "    # Se une el dataFrame con los géneros al dataFrame que contiene a los usuarios con sus ítems\n",
    "    steamGamesGenresDf = pd.merge(steamGamesGenresDf[['item_id','release_year']],userItemsExplodedDf,how = 'left',on = 'item_id')\n",
    "    # Se descartan todas las instancias que no contengan tiempo de juego\n",
    "    steamGamesGenresDf = steamGamesGenresDf.dropna(subset = 'playtime')\n",
    "    # Se agrupan de acuerdo al ID de usuario teniendo en cuenta el tiempo total de juego y se recupera al usuario que posee mayor cantidad de tiempo acumulado\n",
    "    userId = steamGamesGenresDf.groupby('user_id')['playtime'].sum().reset_index().sort_values(by = 'playtime',ascending = False).iloc[0,0]\n",
    "    # Se filtra el dataFrame de acuerdo al usuario recuperado, se agrupa conforme al año de lanzamiento de los juegos y se suma el tiempo jugado\n",
    "    steamGamesGenresDf = steamGamesGenresDf[steamGamesGenresDf['user_id'] == userId].groupby('release_year')['playtime'].sum().reset_index().sort_values(by = 'release_year',ascending = False)\n",
    "    # Una vez se tiene toda la información, se transforman los datos y se crea el dataFrame de respuesta\n",
    "    steamGamesGenresDf.rename(columns = {'release_year': 'Año'}, inplace = True)\n",
    "    steamGamesGenresDf.rename(columns = {'playtime': 'Horas jugadas'}, inplace = True)\n",
    "    resultPlaytime = steamGamesGenresDf.to_dict(orient = 'records')\n",
    "    result = {'Usuario con más horas jugadas para género ' + genre:userId,'Horas':resultPlaytime}\n",
    "    return result\n",
    "userForGenre('action')"
   ]
  },
  {
   "cell_type": "markdown",
   "metadata": {},
   "source": [
    "<h2>BestDeveloperYear"
   ]
  },
  {
   "cell_type": "code",
   "execution_count": 5,
   "metadata": {},
   "outputs": [
    {
     "data": {
      "text/plain": [
       "[{'Puesto 1': 'Valve'},\n",
       " {'Puesto 2': 'Re-Logic'},\n",
       " {'Puesto 3': 'Facepunch Studios'}]"
      ]
     },
     "execution_count": 5,
     "metadata": {},
     "output_type": "execute_result"
    }
   ],
   "source": [
    "def bestDeveloperYear(year):\n",
    "    # Se cargan los datos y se crean los dataFrame\n",
    "    userReviewsExplodedDf = pd.read_parquet('../data/userReviewsExploded.parquet')\n",
    "    steamGamesDevDf = pd.read_parquet('../data/steamGamesDev.parquet')\n",
    "    # Se filtra el dataFrame de acuerdo al año solicitado eliminando los juegos no recomendados, y con análisis de sentimiento neutral o negativo\n",
    "    userReviewsExplodedDf = userReviewsExplodedDf[(userReviewsExplodedDf['recommend'] == True) & \n",
    "                                            (userReviewsExplodedDf['sentiment_analysis'] == '2') & \n",
    "                                            (userReviewsExplodedDf['review_year'] == year)]\n",
    "    userReviewsExplodedDf['review_year'] = userReviewsExplodedDf['review_year'].astype(int)\n",
    "    # Se agrupan las reseñas de acuedo al ID del juego sumando la cantidad de recomendaciones\n",
    "    userReviewsExplodedDf = userReviewsExplodedDf.groupby('item_id')['recommend'].count().reset_index()\n",
    "    # Se crea un dataFrame que contenga el ID del juego, el desarrollador y la suma de recomendaciones\n",
    "    steamGamesDevDf = pd.merge(steamGamesDevDf[['item_id','developer']],userReviewsExplodedDf,how = 'left',on = 'item_id').sort_values(by = 'recommend',ascending = False)\n",
    "    # Se agrupa de acuerdo al desarrollador y a la suma de recomendaciones\n",
    "    steamGamesDevDf = steamGamesDevDf.groupby('developer')['recommend'].sum().reset_index().sort_values(by = 'recommend',ascending = False)\n",
    "    # Se revisa que el primer valor no sea 0 para descartar años en los que no se tenga registro de las reseñas y se recuperan los tres primeros lugares\n",
    "    if steamGamesDevDf.iloc[1,1]!= 0:\n",
    "        first = steamGamesDevDf.iloc[0,0]\n",
    "        second = steamGamesDevDf.iloc[1,0]\n",
    "        third = steamGamesDevDf.iloc[2,0]\n",
    "        result = [{'Puesto 1':first},{'Puesto 2':second},{'Puesto 3':third}]\n",
    "    else:\n",
    "        result = [{'Puesto 1':None},{'Puesto 2':None},{'Puesto 3':None}]\n",
    "    return result\n",
    "bestDeveloperYear(2012)"
   ]
  },
  {
   "cell_type": "markdown",
   "metadata": {},
   "source": [
    "<h2>DeveloperReviewsAnalysis"
   ]
  },
  {
   "cell_type": "code",
   "execution_count": 9,
   "metadata": {},
   "outputs": [
    {
     "data": {
      "text/plain": [
       "{'Valve': ['Negative = 1113', 'Positive = 6149']}"
      ]
     },
     "execution_count": 9,
     "metadata": {},
     "output_type": "execute_result"
    }
   ],
   "source": [
    "def developerReviewsAnalysis(dev):\n",
    "    # Se cargan los datos y se crean los DataFrame\n",
    "    userReviewsExplodedDf = pd.read_parquet('../data/userReviewsExploded.parquet')\n",
    "    steamGamesDevDf = pd.read_parquet('../data/steamGamesDev.parquet')\n",
    "    # Se filtra el DataFrame de desarrolladores de acuerdo al desarrollador solicitado\n",
    "    steamGamesDevDf = steamGamesDevDf[steamGamesDevDf['developer'].str.lower() == dev.lower()]\n",
    "    # Se agrupa el DataFrame de reseñas de acuerdo al ID del juego agregando una columna para la suma de comentarios positivos y otra para la de negativos\n",
    "    userReviewsExplodedDf = userReviewsExplodedDf.groupby('item_id')['sentiment_analysis'].agg([('positive', lambda x: (x == '2').sum()),\n",
    "        ('negative', lambda x: (x == '0').sum())]).reset_index()\n",
    "    # Se crea el DataFrame de respuesta\n",
    "    steamGamesDevDf = pd.merge(steamGamesDevDf,userReviewsExplodedDf,how = 'left',on = 'item_id')\n",
    "    steamGamesDevDf = steamGamesDevDf.groupby('developer')[['positive','negative']].sum().reset_index()\n",
    "    positive = steamGamesDevDf.iloc[0,1].astype(int).astype(str)\n",
    "    negative = steamGamesDevDf.iloc[0,2].astype(int).astype(str)\n",
    "    result = {steamGamesDevDf.iloc[0,0]:['Negative = ' + negative,'Positive = ' + positive]}\n",
    "    return result\n",
    "developerReviewsAnalysis('Valve')"
   ]
  },
  {
   "cell_type": "markdown",
   "metadata": {},
   "source": [
    "<h2>RecommendItem"
   ]
  },
  {
   "cell_type": "code",
   "execution_count": 7,
   "metadata": {},
   "outputs": [
    {
     "data": {
      "text/plain": [
       "{'Aquí hay juegos similares a': 'theHunter: Primal',\n",
       " '1': 'Despair',\n",
       " '2': 'Deer Hunt Legends',\n",
       " '3': 'Ford Racing Off Road',\n",
       " '4': 'X: Tension',\n",
       " '5': 'Cat Goes Fishing'}"
      ]
     },
     "execution_count": 7,
     "metadata": {},
     "output_type": "execute_result"
    }
   ],
   "source": [
    "def recommendItem(itemId):\n",
    "    # Se cargan los datos y se crea el dataFrame\n",
    "    itemSimDf = pd.read_parquet('../data/itemSim.parquet')\n",
    "    counter = 1\n",
    "    result = {'Aquí hay juegos similares a': itemId,'1':'','2':'','3':'','4':'','5':''}\n",
    "    # Se buscan los ítems con mayor similitud y se añaden al resultado\n",
    "    for item in itemSimDf.sort_values(by = itemId, ascending = False).index[1:6]:\n",
    "        result[str(counter)] = item\n",
    "        counter +=1\n",
    "    return result\n",
    "recommendItem('theHunter: Primal')"
   ]
  }
 ],
 "metadata": {
  "kernelspec": {
   "display_name": "Python 3",
   "language": "python",
   "name": "python3"
  },
  "language_info": {
   "codemirror_mode": {
    "name": "ipython",
    "version": 3
   },
   "file_extension": ".py",
   "mimetype": "text/x-python",
   "name": "python",
   "nbconvert_exporter": "python",
   "pygments_lexer": "ipython3",
   "version": "3.11.7"
  }
 },
 "nbformat": 4,
 "nbformat_minor": 2
}
