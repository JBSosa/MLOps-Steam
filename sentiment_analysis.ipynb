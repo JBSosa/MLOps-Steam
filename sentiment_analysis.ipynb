{
 "cells": [
  {
   "cell_type": "code",
   "execution_count": 10,
   "metadata": {},
   "outputs": [
    {
     "name": "stderr",
     "output_type": "stream",
     "text": [
      "[nltk_data] Downloading package vader_lexicon to\n",
      "[nltk_data]     C:\\Users\\Admin\\AppData\\Roaming\\nltk_data...\n",
      "[nltk_data]   Package vader_lexicon is already up-to-date!\n"
     ]
    }
   ],
   "source": [
    "import pandas as pd\n",
    "import nltk\n",
    "from nltk.sentiment import SentimentIntensityAnalyzer\n",
    "from pandas import json_normalize\n",
    "import ast\n",
    "nltk.download('vader_lexicon')\n",
    "import pyarrow"
   ]
  },
  {
   "cell_type": "markdown",
   "metadata": {},
   "source": [
    "User Reviews"
   ]
  },
  {
   "cell_type": "code",
   "execution_count": 11,
   "metadata": {},
   "outputs": [],
   "source": [
    "#Ruta del archivo JSON\n",
    "data_list = []\n",
    "file_path = 'australian_user_reviews.json'\n",
    "\n",
    "#Abrir el archivo y procesar cada línea\n",
    "with open(file_path, 'r', encoding='utf-8') as file:\n",
    "    for line in file:\n",
    "        try:\n",
    "            # Usar ast.literal_eval para convertir la línea en un diccionario\n",
    "            json_data = ast.literal_eval(line)\n",
    "            data_list.append(json_data)\n",
    "        except ValueError as e:\n",
    "            print(f\"Error en la línea: {line}\")\n",
    "            continue\n",
    "\n",
    "#Crear un DataFrame a partir de la lista de diccionarios\n",
    "userReviewsDf = pd.DataFrame(data_list)"
   ]
  },
  {
   "cell_type": "code",
   "execution_count": 12,
   "metadata": {},
   "outputs": [],
   "source": [
    "userReviewsDf.to_parquet('userReviews.parquet',index=False)"
   ]
  },
  {
   "cell_type": "code",
   "execution_count": 13,
   "metadata": {},
   "outputs": [],
   "source": [
    "userReviewsExplodedDf=userReviewsDf.explode('reviews').reset_index(drop=True)"
   ]
  },
  {
   "cell_type": "code",
   "execution_count": 14,
   "metadata": {},
   "outputs": [],
   "source": [
    "userReviewsExplodedDf['review']=userReviewsExplodedDf['reviews'].apply(lambda x: x.get('review') if isinstance(x, dict) and 'review' in x else None)\n",
    "userReviewsExplodedDf['recommend']=userReviewsExplodedDf['reviews'].apply(lambda x: x.get('recommend') if isinstance(x, dict) and 'recommend' in x else None)\n",
    "userReviewsExplodedDf['item_id']=userReviewsExplodedDf['reviews'].apply(lambda x: x.get('item_id') if isinstance(x, dict) and 'item_id' in x else None)\n",
    "userReviewsExplodedDf['review_year']=userReviewsExplodedDf['reviews'].apply(lambda x: x.get('posted') if isinstance(x, dict) and 'posted' in x else None)\n"
   ]
  },
  {
   "cell_type": "code",
   "execution_count": 15,
   "metadata": {},
   "outputs": [],
   "source": [
    "userReviewsExplodedDf['review_year'] = userReviewsExplodedDf['review_year'].str.replace('Posted ', '', regex=False)\n",
    "userReviewsExplodedDf['review_year']=pd.to_datetime(userReviewsExplodedDf['review_year'],format='mixed',errors='coerce')\n",
    "userReviewsExplodedDf['review_year']=userReviewsExplodedDf['review_year'].dt.year"
   ]
  },
  {
   "cell_type": "code",
   "execution_count": 16,
   "metadata": {},
   "outputs": [],
   "source": [
    "def analyze_sentiment(text):\n",
    "    if text is None:\n",
    "        return '1'\n",
    "\n",
    "    sia = SentimentIntensityAnalyzer()\n",
    "    sentiment_score = sia.polarity_scores(text)['compound']\n",
    "\n",
    "    if text:\n",
    "        if sentiment_score >= 0.05:\n",
    "            return '2'\n",
    "        elif sentiment_score <= -0.05:\n",
    "            return '0'\n",
    "        else:\n",
    "            return '1'"
   ]
  },
  {
   "cell_type": "code",
   "execution_count": 17,
   "metadata": {},
   "outputs": [],
   "source": [
    "userReviewsExplodedDf['sentiment_analysis']=userReviewsExplodedDf['review'].apply(analyze_sentiment)"
   ]
  },
  {
   "cell_type": "code",
   "execution_count": 18,
   "metadata": {},
   "outputs": [],
   "source": [
    "del userReviewsExplodedDf['reviews']\n",
    "del userReviewsExplodedDf['review']\n",
    "del userReviewsExplodedDf['user_url']"
   ]
  },
  {
   "cell_type": "code",
   "execution_count": 22,
   "metadata": {},
   "outputs": [],
   "source": [
    "userReviewsExplodedDf.to_parquet('userReviewsExploded.parquet',index=False)"
   ]
  },
  {
   "cell_type": "code",
   "execution_count": 24,
   "metadata": {},
   "outputs": [],
   "source": [
    "userReviewsExplodedData=pd.read_parquet('userReviewsExploded.parquet')"
   ]
  }
 ],
 "metadata": {
  "kernelspec": {
   "display_name": "venv",
   "language": "python",
   "name": "python3"
  },
  "language_info": {
   "codemirror_mode": {
    "name": "ipython",
    "version": 3
   },
   "file_extension": ".py",
   "mimetype": "text/x-python",
   "name": "python",
   "nbconvert_exporter": "python",
   "pygments_lexer": "ipython3",
   "version": "3.11.7"
  }
 },
 "nbformat": 4,
 "nbformat_minor": 2
}
